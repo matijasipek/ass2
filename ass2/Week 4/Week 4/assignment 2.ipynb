{
 "cells": [
  {
   "cell_type": "code",
   "execution_count": 47,
   "metadata": {},
   "outputs": [],
   "source": [
    "import pickle\n",
    "import pandas as pd\n",
    "import urllib.request\n",
    "import json\n",
    "import math \n",
    "import ast\n",
    "import re\n",
    "from itertools import islice\n",
    "from urllib.parse import quote "
   ]
  },
  {
   "cell_type": "code",
   "execution_count": 12,
   "metadata": {},
   "outputs": [],
   "source": [
    "# 1. Load names/wiki links dictionary\n",
    "def extractDataFiles(filename):\n",
    "    marvel = pd.read_csv(filename +\".csv\")\n",
    "    marvel_wikilinks = marvel.loc[:, 'WikiLink']\n",
    "    marvel_characters = marvel_wikilinks[marvel_wikilinks.notna()].to_numpy()\n",
    "\n",
    "    all_marvel = {}\n",
    "\n",
    "    for name in marvel_characters:\n",
    "        character = name.replace(\" \", \"_\")\n",
    "        all_marvel[character] = character\n",
    "\n",
    "    return all_marvel"
   ]
  },
  {
   "cell_type": "code",
   "execution_count": 21,
   "metadata": {},
   "outputs": [],
   "source": [
    "# 1. calling the functions\n",
    "marvel = extractDataFiles('marvel')\n",
    "dc = extractDataFiles('dc')"
   ]
  },
  {
   "cell_type": "code",
   "execution_count": 22,
   "metadata": {},
   "outputs": [],
   "source": [
    "# 3. create URL with given character_wiki_link\n",
    "# @returns NAME-> URL dict\n",
    "def createURLs(data_dir): \n",
    "    \n",
    "    url_query_list = {}\n",
    "    \n",
    "    for name,wiki in data_dir.items():        \n",
    "        baseurl = \"https://en.wikipedia.org/w/api.php?\"\n",
    "        action = \"action=query\"\n",
    "        title = \"titles=\" + wiki\n",
    "        content = \"prop=revisions&rvprop=content\"\n",
    "        only_links = \"prop=links&pllimit=max\"\n",
    "        dataformat =\"format=json\"\n",
    "        \n",
    "        query = \"{}{}&{}&{}&{}&{}\".format(baseurl, action, content, title,only_links, dataformat)\n",
    "        url_query_list[name] = query\n",
    "        \n",
    "    \n",
    "    return url_query_list\n",
    "\n",
    "url_query_directory = createURLs(marvel)\n"
   ]
  },
  {
   "cell_type": "code",
   "execution_count": 36,
   "metadata": {},
   "outputs": [
    {
     "name": "stdout",
     "output_type": "stream",
     "text": [
      "{'Abin_Sur': 'https://en.wikipedia.org/w/api.php?action=query&prop=revisions&rvprop=content&titles=Abin_Sur&prop=links&pllimit=max&format=json', 'Abra_Kadabra_(character)': 'https://en.wikipedia.org/w/api.php?action=query&prop=revisions&rvprop=content&titles=Abra_Kadabra_(character)&prop=links&pllimit=max&format=json', 'Abby_Holland': 'https://en.wikipedia.org/w/api.php?action=query&prop=revisions&rvprop=content&titles=Abby_Holland&prop=links&pllimit=max&format=json', 'Ace_the_Bat-Hound': 'https://en.wikipedia.org/w/api.php?action=query&prop=revisions&rvprop=content&titles=Ace_the_Bat-Hound&prop=links&pllimit=max&format=json', 'Adam_Strange': 'https://en.wikipedia.org/w/api.php?action=query&prop=revisions&rvprop=content&titles=Adam_Strange&prop=links&pllimit=max&format=json', 'Agent_Liberty': 'https://en.wikipedia.org/w/api.php?action=query&prop=revisions&rvprop=content&titles=Agent_Liberty&prop=links&pllimit=max&format=json', 'Air_Wave': 'https://en.wikipedia.org/w/api.php?action=query&prop=revisions&rvprop=content&titles=Air_Wave&prop=links&pllimit=max&format=json', 'Spider_(DC_Comics)': 'https://en.wikipedia.org/w/api.php?action=query&prop=revisions&rvprop=content&titles=Spider_(DC_Comics)&prop=links&pllimit=max&format=json', 'Alura_(DC_Comics)': 'https://en.wikipedia.org/w/api.php?action=query&prop=revisions&rvprop=content&titles=Alura_(DC_Comics)&prop=links&pllimit=max&format=json', 'Amazo': 'https://en.wikipedia.org/w/api.php?action=query&prop=revisions&rvprop=content&titles=Amazo&prop=links&pllimit=max&format=json', 'Ambush_Bug': 'https://en.wikipedia.org/w/api.php?action=query&prop=revisions&rvprop=content&titles=Ambush_Bug&prop=links&pllimit=max&format=json', 'Amazing-Man_(DC_Comics)': 'https://en.wikipedia.org/w/api.php?action=query&prop=revisions&rvprop=content&titles=Amazing-Man_(DC_Comics)&prop=links&pllimit=max&format=json', 'Amethyst,_Princess_of_Gemworld': 'https://en.wikipedia.org/w/api.php?action=query&prop=revisions&rvprop=content&titles=Amethyst,_Princess_of_Gemworld&prop=links&pllimit=max&format=json', 'Amygdala_(comics)': 'https://en.wikipedia.org/w/api.php?action=query&prop=revisions&rvprop=content&titles=Amygdala_(comics)&prop=links&pllimit=max&format=json', 'Anarky': 'https://en.wikipedia.org/w/api.php?action=query&prop=revisions&rvprop=content&titles=Anarky&prop=links&pllimit=max&format=json', 'I...Vampire': 'https://en.wikipedia.org/w/api.php?action=query&prop=revisions&rvprop=content&titles=I...Vampire&prop=links&pllimit=max&format=json', 'Laurel_Gand': 'https://en.wikipedia.org/w/api.php?action=query&prop=revisions&rvprop=content&titles=Laurel_Gand&prop=links&pllimit=max&format=json', 'Angel_and_the_Ape': 'https://en.wikipedia.org/w/api.php?action=query&prop=revisions&rvprop=content&titles=Angel_and_the_Ape&prop=links&pllimit=max&format=json', 'Animal_Man': 'https://en.wikipedia.org/w/api.php?action=query&prop=revisions&rvprop=content&titles=Animal_Man&prop=links&pllimit=max&format=json', 'Animal-Vegetable-Mineral_Man': 'https://en.wikipedia.org/w/api.php?action=query&prop=revisions&rvprop=content&titles=Animal-Vegetable-Mineral_Man&prop=links&pllimit=max&format=json', 'Anti-Monitor': 'https://en.wikipedia.org/w/api.php?action=query&prop=revisions&rvprop=content&titles=Anti-Monitor&prop=links&pllimit=max&format=json', 'Antiope_(character)': 'https://en.wikipedia.org/w/api.php?action=query&prop=revisions&rvprop=content&titles=Antiope_(character)&prop=links&pllimit=max&format=json', 'Anton_Arcane': 'https://en.wikipedia.org/w/api.php?action=query&prop=revisions&rvprop=content&titles=Anton_Arcane&prop=links&pllimit=max&format=json', 'Anthro_(comics)': 'https://en.wikipedia.org/w/api.php?action=query&prop=revisions&rvprop=content&titles=Anthro_(comics)&prop=links&pllimit=max&format=json', 'Apache_Chief': 'https://en.wikipedia.org/w/api.php?action=query&prop=revisions&rvprop=content&titles=Apache_Chief&prop=links&pllimit=max&format=json', 'Phantom_Girl': 'https://en.wikipedia.org/w/api.php?action=query&prop=revisions&rvprop=content&titles=Phantom_Girl&prop=links&pllimit=max&format=json', 'Aquagirl': 'https://en.wikipedia.org/w/api.php?action=query&prop=revisions&rvprop=content&titles=Aquagirl&prop=links&pllimit=max&format=json', 'Aqualad': 'https://en.wikipedia.org/w/api.php?action=query&prop=revisions&rvprop=content&titles=Aqualad&prop=links&pllimit=max&format=json', 'Aquaman': 'https://en.wikipedia.org/w/api.php?action=query&prop=revisions&rvprop=content&titles=Aquaman&prop=links&pllimit=max&format=json', 'Arak_(character)': 'https://en.wikipedia.org/w/api.php?action=query&prop=revisions&rvprop=content&titles=Arak_(character)&prop=links&pllimit=max&format=json', 'Ares_(DC_Comics)': 'https://en.wikipedia.org/w/api.php?action=query&prop=revisions&rvprop=content&titles=Ares_(DC_Comics)&prop=links&pllimit=max&format=json', 'Argent_(character)': 'https://en.wikipedia.org/w/api.php?action=query&prop=revisions&rvprop=content&titles=Argent_(character)&prop=links&pllimit=max&format=json', 'Arion_(character)': 'https://en.wikipedia.org/w/api.php?action=query&prop=revisions&rvprop=content&titles=Arion_(character)&prop=links&pllimit=max&format=json', 'Arisia_Rrab': 'https://en.wikipedia.org/w/api.php?action=query&prop=revisions&rvprop=content&titles=Arisia_Rrab&prop=links&pllimit=max&format=json', 'Jeremiah_Arkham': 'https://en.wikipedia.org/w/api.php?action=query&prop=revisions&rvprop=content&titles=Jeremiah_Arkham&prop=links&pllimit=max&format=json', 'Arrowette': 'https://en.wikipedia.org/w/api.php?action=query&prop=revisions&rvprop=content&titles=Arrowette&prop=links&pllimit=max&format=json', 'Roy_Harper_(character)': 'https://en.wikipedia.org/w/api.php?action=query&prop=revisions&rvprop=content&titles=Roy_Harper_(character)&prop=links&pllimit=max&format=json', 'Artemis_of_Bana-Mighdall': 'https://en.wikipedia.org/w/api.php?action=query&prop=revisions&rvprop=content&titles=Artemis_of_Bana-Mighdall&prop=links&pllimit=max&format=json', 'Atom_(character)': 'https://en.wikipedia.org/w/api.php?action=query&prop=revisions&rvprop=content&titles=Atom_(character)&prop=links&pllimit=max&format=json', 'Atomic_Knight': 'https://en.wikipedia.org/w/api.php?action=query&prop=revisions&rvprop=content&titles=Atomic_Knight&prop=links&pllimit=max&format=json', 'Atomic_Skull': 'https://en.wikipedia.org/w/api.php?action=query&prop=revisions&rvprop=content&titles=Atomic_Skull&prop=links&pllimit=max&format=json', 'Albert_Rothstein': 'https://en.wikipedia.org/w/api.php?action=query&prop=revisions&rvprop=content&titles=Albert_Rothstein&prop=links&pllimit=max&format=json', 'Atrocitus': 'https://en.wikipedia.org/w/api.php?action=query&prop=revisions&rvprop=content&titles=Atrocitus&prop=links&pllimit=max&format=json', 'Azrael_(DC_Comics)': 'https://en.wikipedia.org/w/api.php?action=query&prop=revisions&rvprop=content&titles=Azrael_(DC_Comics)&prop=links&pllimit=max&format=json', 'Aztek_(character)': 'https://en.wikipedia.org/w/api.php?action=query&prop=revisions&rvprop=content&titles=Aztek_(character)&prop=links&pllimit=max&format=json', \"B'wana_Beast\": \"https://en.wikipedia.org/w/api.php?action=query&prop=revisions&rvprop=content&titles=B'wana_Beast&prop=links&pllimit=max&format=json\", 'Baby-Doll_(character)': 'https://en.wikipedia.org/w/api.php?action=query&prop=revisions&rvprop=content&titles=Baby-Doll_(character)&prop=links&pllimit=max&format=json', 'Bane_(DC_Comics)': 'https://en.wikipedia.org/w/api.php?action=query&prop=revisions&rvprop=content&titles=Bane_(DC_Comics)&prop=links&pllimit=max&format=json', 'Baron_Bedlam': 'https://en.wikipedia.org/w/api.php?action=query&prop=revisions&rvprop=content&titles=Baron_Bedlam&prop=links&pllimit=max&format=json', 'Baron_Blitzkrieg': 'https://en.wikipedia.org/w/api.php?action=query&prop=revisions&rvprop=content&titles=Baron_Blitzkrieg&prop=links&pllimit=max&format=json', 'Battalion_(DC_Comics)': 'https://en.wikipedia.org/w/api.php?action=query&prop=revisions&rvprop=content&titles=Battalion_(DC_Comics)&prop=links&pllimit=max&format=json', 'Batgirl': 'https://en.wikipedia.org/w/api.php?action=query&prop=revisions&rvprop=content&titles=Batgirl&prop=links&pllimit=max&format=json', 'Batman': 'https://en.wikipedia.org/w/api.php?action=query&prop=revisions&rvprop=content&titles=Batman&prop=links&pllimit=max&format=json', 'Bat-Mite': 'https://en.wikipedia.org/w/api.php?action=query&prop=revisions&rvprop=content&titles=Bat-Mite&prop=links&pllimit=max&format=json', 'Batwing_(DC_Comics)': 'https://en.wikipedia.org/w/api.php?action=query&prop=revisions&rvprop=content&titles=Batwing_(DC_Comics)&prop=links&pllimit=max&format=json', 'Batwoman': 'https://en.wikipedia.org/w/api.php?action=query&prop=revisions&rvprop=content&titles=Batwoman&prop=links&pllimit=max&format=json', 'Beast_Boy': 'https://en.wikipedia.org/w/api.php?action=query&prop=revisions&rvprop=content&titles=Beast_Boy&prop=links&pllimit=max&format=json', 'Bekka': 'https://en.wikipedia.org/w/api.php?action=query&prop=revisions&rvprop=content&titles=Bekka&prop=links&pllimit=max&format=json', 'Beppo_(comics)': 'https://en.wikipedia.org/w/api.php?action=query&prop=revisions&rvprop=content&titles=Beppo_(comics)&prop=links&pllimit=max&format=json', 'Bibbo_Bibbowski': 'https://en.wikipedia.org/w/api.php?action=query&prop=revisions&rvprop=content&titles=Bibbo_Bibbowski&prop=links&pllimit=max&format=json', 'Big_Barda': 'https://en.wikipedia.org/w/api.php?action=query&prop=revisions&rvprop=content&titles=Big_Barda&prop=links&pllimit=max&format=json', 'Bizarro': 'https://en.wikipedia.org/w/api.php?action=query&prop=revisions&rvprop=content&titles=Bizarro&prop=links&pllimit=max&format=json', 'Black_Adam': 'https://en.wikipedia.org/w/api.php?action=query&prop=revisions&rvprop=content&titles=Black_Adam&prop=links&pllimit=max&format=json', 'Black_Alice_(comics)': 'https://en.wikipedia.org/w/api.php?action=query&prop=revisions&rvprop=content&titles=Black_Alice_(comics)&prop=links&pllimit=max&format=json', 'Black_Canary': 'https://en.wikipedia.org/w/api.php?action=query&prop=revisions&rvprop=content&titles=Black_Canary&prop=links&pllimit=max&format=json', 'Black_Condor': 'https://en.wikipedia.org/w/api.php?action=query&prop=revisions&rvprop=content&titles=Black_Condor&prop=links&pllimit=max&format=json', 'Black_Flash': 'https://en.wikipedia.org/w/api.php?action=query&prop=revisions&rvprop=content&titles=Black_Flash&prop=links&pllimit=max&format=json', 'Black_Hand_(character)': 'https://en.wikipedia.org/w/api.php?action=query&prop=revisions&rvprop=content&titles=Black_Hand_(character)&prop=links&pllimit=max&format=json', 'Black_Lightning': 'https://en.wikipedia.org/w/api.php?action=query&prop=revisions&rvprop=content&titles=Black_Lightning&prop=links&pllimit=max&format=json', 'Black_Manta': 'https://en.wikipedia.org/w/api.php?action=query&prop=revisions&rvprop=content&titles=Black_Manta&prop=links&pllimit=max&format=json', 'Black_Mask_(character)': 'https://en.wikipedia.org/w/api.php?action=query&prop=revisions&rvprop=content&titles=Black_Mask_(character)&prop=links&pllimit=max&format=json', 'Black_Orchid_(character)': 'https://en.wikipedia.org/w/api.php?action=query&prop=revisions&rvprop=content&titles=Black_Orchid_(character)&prop=links&pllimit=max&format=json', 'Black_Thorn_(comics)': 'https://en.wikipedia.org/w/api.php?action=query&prop=revisions&rvprop=content&titles=Black_Thorn_(comics)&prop=links&pllimit=max&format=json', 'Black_Vulcan': 'https://en.wikipedia.org/w/api.php?action=query&prop=revisions&rvprop=content&titles=Black_Vulcan&prop=links&pllimit=max&format=json', 'Blackhawk_(DC_Comics)': 'https://en.wikipedia.org/w/api.php?action=query&prop=revisions&rvprop=content&titles=Blackhawk_(DC_Comics)&prop=links&pllimit=max&format=json', 'Blaze_and_Satanus': 'https://en.wikipedia.org/w/api.php?action=query&prop=revisions&rvprop=content&titles=Blaze_and_Satanus&prop=links&pllimit=max&format=json', 'Blok_(comics)': 'https://en.wikipedia.org/w/api.php?action=query&prop=revisions&rvprop=content&titles=Blok_(comics)&prop=links&pllimit=max&format=json', 'Blockbuster_(DC_Comics)': 'https://en.wikipedia.org/w/api.php?action=query&prop=revisions&rvprop=content&titles=Blockbuster_(DC_Comics)&prop=links&pllimit=max&format=json', 'Bloodsport_(comics)': 'https://en.wikipedia.org/w/api.php?action=query&prop=revisions&rvprop=content&titles=Bloodsport_(comics)&prop=links&pllimit=max&format=json', 'Blue_Beetle': 'https://en.wikipedia.org/w/api.php?action=query&prop=revisions&rvprop=content&titles=Blue_Beetle&prop=links&pllimit=max&format=json', 'Blue_Devil_(DC_Comics)': 'https://en.wikipedia.org/w/api.php?action=query&prop=revisions&rvprop=content&titles=Blue_Devil_(DC_Comics)&prop=links&pllimit=max&format=json', 'Bombshell_(DC_Comics)': 'https://en.wikipedia.org/w/api.php?action=query&prop=revisions&rvprop=content&titles=Bombshell_(DC_Comics)&prop=links&pllimit=max&format=json', 'Boodikka': 'https://en.wikipedia.org/w/api.php?action=query&prop=revisions&rvprop=content&titles=Boodikka&prop=links&pllimit=max&format=json', 'Booster_Gold': 'https://en.wikipedia.org/w/api.php?action=query&prop=revisions&rvprop=content&titles=Booster_Gold&prop=links&pllimit=max&format=json', 'Bouncing_Boy': 'https://en.wikipedia.org/w/api.php?action=query&prop=revisions&rvprop=content&titles=Bouncing_Boy&prop=links&pllimit=max&format=json', 'Bozo_the_Iron_Man': 'https://en.wikipedia.org/w/api.php?action=query&prop=revisions&rvprop=content&titles=Bozo_the_Iron_Man&prop=links&pllimit=max&format=json', 'Brain_(DC_Comics)': 'https://en.wikipedia.org/w/api.php?action=query&prop=revisions&rvprop=content&titles=Brain_(DC_Comics)&prop=links&pllimit=max&format=json', 'Brain_Wave_(character)': 'https://en.wikipedia.org/w/api.php?action=query&prop=revisions&rvprop=content&titles=Brain_Wave_(character)&prop=links&pllimit=max&format=json', 'Brainiac_(character)': 'https://en.wikipedia.org/w/api.php?action=query&prop=revisions&rvprop=content&titles=Brainiac_(character)&prop=links&pllimit=max&format=json', 'Brainiac_5': 'https://en.wikipedia.org/w/api.php?action=query&prop=revisions&rvprop=content&titles=Brainiac_5&prop=links&pllimit=max&format=json', 'Brainiac_8': 'https://en.wikipedia.org/w/api.php?action=query&prop=revisions&rvprop=content&titles=Brainiac_8&prop=links&pllimit=max&format=json', 'Brainwave_(character)': 'https://en.wikipedia.org/w/api.php?action=query&prop=revisions&rvprop=content&titles=Brainwave_(character)&prop=links&pllimit=max&format=json', 'Brick_(character)': 'https://en.wikipedia.org/w/api.php?action=query&prop=revisions&rvprop=content&titles=Brick_(character)&prop=links&pllimit=max&format=json', 'Bronze_Tiger': 'https://en.wikipedia.org/w/api.php?action=query&prop=revisions&rvprop=content&titles=Bronze_Tiger&prop=links&pllimit=max&format=json', 'Brother_Blood': 'https://en.wikipedia.org/w/api.php?action=query&prop=revisions&rvprop=content&titles=Brother_Blood&prop=links&pllimit=max&format=json', 'Brutale_(DC_Comics)': 'https://en.wikipedia.org/w/api.php?action=query&prop=revisions&rvprop=content&titles=Brutale_(DC_Comics)&prop=links&pllimit=max&format=json', 'Bug-Eyed_Bandit': 'https://en.wikipedia.org/w/api.php?action=query&prop=revisions&rvprop=content&titles=Bug-Eyed_Bandit&prop=links&pllimit=max&format=json', 'Bulleteer': 'https://en.wikipedia.org/w/api.php?action=query&prop=revisions&rvprop=content&titles=Bulleteer&prop=links&pllimit=max&format=json', 'Bulletman_and_Bulletgirl': 'https://en.wikipedia.org/w/api.php?action=query&prop=revisions&rvprop=content&titles=Bulletman_and_Bulletgirl&prop=links&pllimit=max&format=json', 'Bumblebee_(comics)': 'https://en.wikipedia.org/w/api.php?action=query&prop=revisions&rvprop=content&titles=Bumblebee_(comics)&prop=links&pllimit=max&format=json', 'Bushido_(comics)': 'https://en.wikipedia.org/w/api.php?action=query&prop=revisions&rvprop=content&titles=Bushido_(comics)&prop=links&pllimit=max&format=json', 'Calendar_Man': 'https://en.wikipedia.org/w/api.php?action=query&prop=revisions&rvprop=content&titles=Calendar_Man&prop=links&pllimit=max&format=json', 'Calculator_(character)': 'https://en.wikipedia.org/w/api.php?action=query&prop=revisions&rvprop=content&titles=Calculator_(character)&prop=links&pllimit=max&format=json', 'Captain_Atom': 'https://en.wikipedia.org/w/api.php?action=query&prop=revisions&rvprop=content&titles=Captain_Atom&prop=links&pllimit=max&format=json', 'Captain_Boomerang': 'https://en.wikipedia.org/w/api.php?action=query&prop=revisions&rvprop=content&titles=Captain_Boomerang&prop=links&pllimit=max&format=json', 'Captain_Cold': 'https://en.wikipedia.org/w/api.php?action=query&prop=revisions&rvprop=content&titles=Captain_Cold&prop=links&pllimit=max&format=json', 'Captain_Comet': 'https://en.wikipedia.org/w/api.php?action=query&prop=revisions&rvprop=content&titles=Captain_Comet&prop=links&pllimit=max&format=json', 'Captain_Marvel_(DC_Comics)': 'https://en.wikipedia.org/w/api.php?action=query&prop=revisions&rvprop=content&titles=Captain_Marvel_(DC_Comics)&prop=links&pllimit=max&format=json', 'Captain_Marvel_Jr.': 'https://en.wikipedia.org/w/api.php?action=query&prop=revisions&rvprop=content&titles=Captain_Marvel_Jr.&prop=links&pllimit=max&format=json', 'Captain_Nazi': 'https://en.wikipedia.org/w/api.php?action=query&prop=revisions&rvprop=content&titles=Captain_Nazi&prop=links&pllimit=max&format=json', 'Catwoman': 'https://en.wikipedia.org/w/api.php?action=query&prop=revisions&rvprop=content&titles=Catwoman&prop=links&pllimit=max&format=json', \"Ch'p\": \"https://en.wikipedia.org/w/api.php?action=query&prop=revisions&rvprop=content&titles=Ch'p&prop=links&pllimit=max&format=json\", 'Reep_Daggle': 'https://en.wikipedia.org/w/api.php?action=query&prop=revisions&rvprop=content&titles=Reep_Daggle&prop=links&pllimit=max&format=json', 'King_Chimera': 'https://en.wikipedia.org/w/api.php?action=query&prop=revisions&rvprop=content&titles=King_Chimera&prop=links&pllimit=max&format=json', 'Chris_KL-99': 'https://en.wikipedia.org/w/api.php?action=query&prop=revisions&rvprop=content&titles=Chris_KL-99&prop=links&pllimit=max&format=json', 'Cheetah_(character)': 'https://en.wikipedia.org/w/api.php?action=query&prop=revisions&rvprop=content&titles=Cheetah_(character)&prop=links&pllimit=max&format=json', 'Chemo_(character)': 'https://en.wikipedia.org/w/api.php?action=query&prop=revisions&rvprop=content&titles=Chemo_(character)&prop=links&pllimit=max&format=json', 'Cheshire_(comics)': 'https://en.wikipedia.org/w/api.php?action=query&prop=revisions&rvprop=content&titles=Cheshire_(comics)&prop=links&pllimit=max&format=json', 'Chief_(DC_Comics)': 'https://en.wikipedia.org/w/api.php?action=query&prop=revisions&rvprop=content&titles=Chief_(DC_Comics)&prop=links&pllimit=max&format=json', 'Chris_Kent_(character)': 'https://en.wikipedia.org/w/api.php?action=query&prop=revisions&rvprop=content&titles=Chris_Kent_(character)&prop=links&pllimit=max&format=json', 'Chronos_(character)': 'https://en.wikipedia.org/w/api.php?action=query&prop=revisions&rvprop=content&titles=Chronos_(character)&prop=links&pllimit=max&format=json', 'Circe_(character)': 'https://en.wikipedia.org/w/api.php?action=query&prop=revisions&rvprop=content&titles=Circe_(character)&prop=links&pllimit=max&format=json', 'Clayface': 'https://en.wikipedia.org/w/api.php?action=query&prop=revisions&rvprop=content&titles=Clayface&prop=links&pllimit=max&format=json', 'Clock_King': 'https://en.wikipedia.org/w/api.php?action=query&prop=revisions&rvprop=content&titles=Clock_King&prop=links&pllimit=max&format=json', 'Cluemaster': 'https://en.wikipedia.org/w/api.php?action=query&prop=revisions&rvprop=content&titles=Cluemaster&prop=links&pllimit=max&format=json', 'Gim_Allon': 'https://en.wikipedia.org/w/api.php?action=query&prop=revisions&rvprop=content&titles=Gim_Allon&prop=links&pllimit=max&format=json', 'Comedian_(character)': 'https://en.wikipedia.org/w/api.php?action=query&prop=revisions&rvprop=content&titles=Comedian_(character)&prop=links&pllimit=max&format=json', 'Commander_Steel': 'https://en.wikipedia.org/w/api.php?action=query&prop=revisions&rvprop=content&titles=Commander_Steel&prop=links&pllimit=max&format=json', 'Conduit_(character)': 'https://en.wikipedia.org/w/api.php?action=query&prop=revisions&rvprop=content&titles=Conduit_(character)&prop=links&pllimit=max&format=json', 'Congorilla': 'https://en.wikipedia.org/w/api.php?action=query&prop=revisions&rvprop=content&titles=Congorilla&prop=links&pllimit=max&format=json', 'Cosmic_Boy': 'https://en.wikipedia.org/w/api.php?action=query&prop=revisions&rvprop=content&titles=Cosmic_Boy&prop=links&pllimit=max&format=json', 'Count_Vertigo': 'https://en.wikipedia.org/w/api.php?action=query&prop=revisions&rvprop=content&titles=Count_Vertigo&prop=links&pllimit=max&format=json', 'Creeper_(DC_Comics)': 'https://en.wikipedia.org/w/api.php?action=query&prop=revisions&rvprop=content&titles=Creeper_(DC_Comics)&prop=links&pllimit=max&format=json', 'Crimson_Avenger': 'https://en.wikipedia.org/w/api.php?action=query&prop=revisions&rvprop=content&titles=Crimson_Avenger&prop=links&pllimit=max&format=json', 'Crispus_Allen': 'https://en.wikipedia.org/w/api.php?action=query&prop=revisions&rvprop=content&titles=Crispus_Allen&prop=links&pllimit=max&format=json', 'Cyborg_(DC_Comics)': 'https://en.wikipedia.org/w/api.php?action=query&prop=revisions&rvprop=content&titles=Cyborg_(DC_Comics)&prop=links&pllimit=max&format=json', 'Cyborg_Superman': 'https://en.wikipedia.org/w/api.php?action=query&prop=revisions&rvprop=content&titles=Cyborg_Superman&prop=links&pllimit=max&format=json', 'Cyclone_(DC_Comics)': 'https://en.wikipedia.org/w/api.php?action=query&prop=revisions&rvprop=content&titles=Cyclone_(DC_Comics)&prop=links&pllimit=max&format=json', 'Dan_the_Dyna-Mite': 'https://en.wikipedia.org/w/api.php?action=query&prop=revisions&rvprop=content&titles=Dan_the_Dyna-Mite&prop=links&pllimit=max&format=json', 'Dan_Turpin': 'https://en.wikipedia.org/w/api.php?action=query&prop=revisions&rvprop=content&titles=Dan_Turpin&prop=links&pllimit=max&format=json', 'Darkseid': 'https://en.wikipedia.org/w/api.php?action=query&prop=revisions&rvprop=content&titles=Darkseid&prop=links&pllimit=max&format=json', 'Dark_Angel_(DC_Comics)': 'https://en.wikipedia.org/w/api.php?action=query&prop=revisions&rvprop=content&titles=Dark_Angel_(DC_Comics)&prop=links&pllimit=max&format=json', 'Wally_West': 'https://en.wikipedia.org/w/api.php?action=query&prop=revisions&rvprop=content&titles=Wally_West&prop=links&pllimit=max&format=json', 'Dava_(comics)': 'https://en.wikipedia.org/w/api.php?action=query&prop=revisions&rvprop=content&titles=Dava_(comics)&prop=links&pllimit=max&format=json', 'Dawnstar': 'https://en.wikipedia.org/w/api.php?action=query&prop=revisions&rvprop=content&titles=Dawnstar&prop=links&pllimit=max&format=json', 'Deadman_(comics)': 'https://en.wikipedia.org/w/api.php?action=query&prop=revisions&rvprop=content&titles=Deadman_(comics)&prop=links&pllimit=max&format=json', 'Deadshot': 'https://en.wikipedia.org/w/api.php?action=query&prop=revisions&rvprop=content&titles=Deadshot&prop=links&pllimit=max&format=json', 'Death_(DC_Comics)': 'https://en.wikipedia.org/w/api.php?action=query&prop=revisions&rvprop=content&titles=Death_(DC_Comics)&prop=links&pllimit=max&format=json', 'Deathstroke': 'https://en.wikipedia.org/w/api.php?action=query&prop=revisions&rvprop=content&titles=Deathstroke&prop=links&pllimit=max&format=json', 'Decay_(DC_Comics)': 'https://en.wikipedia.org/w/api.php?action=query&prop=revisions&rvprop=content&titles=Decay_(DC_Comics)&prop=links&pllimit=max&format=json', 'DeSaad': 'https://en.wikipedia.org/w/api.php?action=query&prop=revisions&rvprop=content&titles=DeSaad&prop=links&pllimit=max&format=json', 'Despero': 'https://en.wikipedia.org/w/api.php?action=query&prop=revisions&rvprop=content&titles=Despero&prop=links&pllimit=max&format=json', 'Detective_Chimp': 'https://en.wikipedia.org/w/api.php?action=query&prop=revisions&rvprop=content&titles=Detective_Chimp&prop=links&pllimit=max&format=json', 'Ding_Dong_Daddy': 'https://en.wikipedia.org/w/api.php?action=query&prop=revisions&rvprop=content&titles=Ding_Dong_Daddy&prop=links&pllimit=max&format=json', 'Doctor_Alchemy': 'https://en.wikipedia.org/w/api.php?action=query&prop=revisions&rvprop=content&titles=Doctor_Alchemy&prop=links&pllimit=max&format=json', 'Doctor_Cyber': 'https://en.wikipedia.org/w/api.php?action=query&prop=revisions&rvprop=content&titles=Doctor_Cyber&prop=links&pllimit=max&format=json', 'Doctor_Destiny': 'https://en.wikipedia.org/w/api.php?action=query&prop=revisions&rvprop=content&titles=Doctor_Destiny&prop=links&pllimit=max&format=json', 'Doctor_Fate': 'https://en.wikipedia.org/w/api.php?action=query&prop=revisions&rvprop=content&titles=Doctor_Fate&prop=links&pllimit=max&format=json', 'Doctor_Light_(character)': 'https://en.wikipedia.org/w/api.php?action=query&prop=revisions&rvprop=content&titles=Doctor_Light_(character)&prop=links&pllimit=max&format=json', 'Doctor_Manhattan': 'https://en.wikipedia.org/w/api.php?action=query&prop=revisions&rvprop=content&titles=Doctor_Manhattan&prop=links&pllimit=max&format=json', 'Doctor_Mid-Nite': 'https://en.wikipedia.org/w/api.php?action=query&prop=revisions&rvprop=content&titles=Doctor_Mid-Nite&prop=links&pllimit=max&format=json', 'Doctor_Occult': 'https://en.wikipedia.org/w/api.php?action=query&prop=revisions&rvprop=content&titles=Doctor_Occult&prop=links&pllimit=max&format=json', 'Doctor_Poison': 'https://en.wikipedia.org/w/api.php?action=query&prop=revisions&rvprop=content&titles=Doctor_Poison&prop=links&pllimit=max&format=json', 'Doctor_Polaris': 'https://en.wikipedia.org/w/api.php?action=query&prop=revisions&rvprop=content&titles=Doctor_Polaris&prop=links&pllimit=max&format=json', 'Doctor_Psycho': 'https://en.wikipedia.org/w/api.php?action=query&prop=revisions&rvprop=content&titles=Doctor_Psycho&prop=links&pllimit=max&format=json', 'Doctor_Sivana': 'https://en.wikipedia.org/w/api.php?action=query&prop=revisions&rvprop=content&titles=Doctor_Sivana&prop=links&pllimit=max&format=json', 'Doll_Man': 'https://en.wikipedia.org/w/api.php?action=query&prop=revisions&rvprop=content&titles=Doll_Man&prop=links&pllimit=max&format=json', 'Dollmaker_(comics)': 'https://en.wikipedia.org/w/api.php?action=query&prop=revisions&rvprop=content&titles=Dollmaker_(comics)&prop=links&pllimit=max&format=json', 'Doomsday_(DC_Comics)': 'https://en.wikipedia.org/w/api.php?action=query&prop=revisions&rvprop=content&titles=Doomsday_(DC_Comics)&prop=links&pllimit=max&format=json', 'Richard_Dragon': 'https://en.wikipedia.org/w/api.php?action=query&prop=revisions&rvprop=content&titles=Richard_Dragon&prop=links&pllimit=max&format=json', 'Dream_(character)': 'https://en.wikipedia.org/w/api.php?action=query&prop=revisions&rvprop=content&titles=Dream_(character)&prop=links&pllimit=max&format=json', 'Nura_Nal': 'https://en.wikipedia.org/w/api.php?action=query&prop=revisions&rvprop=content&titles=Nura_Nal&prop=links&pllimit=max&format=json', 'Duela_Dent': 'https://en.wikipedia.org/w/api.php?action=query&prop=revisions&rvprop=content&titles=Duela_Dent&prop=links&pllimit=max&format=json', 'Eclipso': 'https://en.wikipedia.org/w/api.php?action=query&prop=revisions&rvprop=content&titles=Eclipso&prop=links&pllimit=max&format=json', 'Morgan_Edge': 'https://en.wikipedia.org/w/api.php?action=query&prop=revisions&rvprop=content&titles=Morgan_Edge&prop=links&pllimit=max&format=json', 'El_Diablo_(comics)': 'https://en.wikipedia.org/w/api.php?action=query&prop=revisions&rvprop=content&titles=El_Diablo_(comics)&prop=links&pllimit=max&format=json', 'Elasti-Girl': 'https://en.wikipedia.org/w/api.php?action=query&prop=revisions&rvprop=content&titles=Elasti-Girl&prop=links&pllimit=max&format=json', 'Elongated_Man': 'https://en.wikipedia.org/w/api.php?action=query&prop=revisions&rvprop=content&titles=Elongated_Man&prop=links&pllimit=max&format=json', 'Emerald_Empress': 'https://en.wikipedia.org/w/api.php?action=query&prop=revisions&rvprop=content&titles=Emerald_Empress&prop=links&pllimit=max&format=json', 'Enchantress_(DC_Comics)': 'https://en.wikipedia.org/w/api.php?action=query&prop=revisions&rvprop=content&titles=Enchantress_(DC_Comics)&prop=links&pllimit=max&format=json', 'Eradicator_(character)': 'https://en.wikipedia.org/w/api.php?action=query&prop=revisions&rvprop=content&titles=Eradicator_(character)&prop=links&pllimit=max&format=json', 'Etrigan_the_Demon': 'https://en.wikipedia.org/w/api.php?action=query&prop=revisions&rvprop=content&titles=Etrigan_the_Demon&prop=links&pllimit=max&format=json', 'Faora': 'https://en.wikipedia.org/w/api.php?action=query&prop=revisions&rvprop=content&titles=Faora&prop=links&pllimit=max&format=json', 'Felix_Faust': 'https://en.wikipedia.org/w/api.php?action=query&prop=revisions&rvprop=content&titles=Felix_Faust&prop=links&pllimit=max&format=json', 'Ferro_Lad': 'https://en.wikipedia.org/w/api.php?action=query&prop=revisions&rvprop=content&titles=Ferro_Lad&prop=links&pllimit=max&format=json', 'Fiddler_(comics)': 'https://en.wikipedia.org/w/api.php?action=query&prop=revisions&rvprop=content&titles=Fiddler_(comics)&prop=links&pllimit=max&format=json', 'Fire_(comics)': 'https://en.wikipedia.org/w/api.php?action=query&prop=revisions&rvprop=content&titles=Fire_(comics)&prop=links&pllimit=max&format=json', 'Firebrand_(DC_Comics)': 'https://en.wikipedia.org/w/api.php?action=query&prop=revisions&rvprop=content&titles=Firebrand_(DC_Comics)&prop=links&pllimit=max&format=json', 'Firefly_(DC_Comics)': 'https://en.wikipedia.org/w/api.php?action=query&prop=revisions&rvprop=content&titles=Firefly_(DC_Comics)&prop=links&pllimit=max&format=json', 'Firestorm_(character)': 'https://en.wikipedia.org/w/api.php?action=query&prop=revisions&rvprop=content&titles=Firestorm_(character)&prop=links&pllimit=max&format=json', 'Flash_(DC_Comics_character)': 'https://en.wikipedia.org/w/api.php?action=query&prop=revisions&rvprop=content&titles=Flash_(DC_Comics_character)&prop=links&pllimit=max&format=json', 'Flamebird': 'https://en.wikipedia.org/w/api.php?action=query&prop=revisions&rvprop=content&titles=Flamebird&prop=links&pllimit=max&format=json', 'Flamingo_(comics)': 'https://en.wikipedia.org/w/api.php?action=query&prop=revisions&rvprop=content&titles=Flamingo_(comics)&prop=links&pllimit=max&format=json', 'Anna_Fortune': 'https://en.wikipedia.org/w/api.php?action=query&prop=revisions&rvprop=content&titles=Anna_Fortune&prop=links&pllimit=max&format=json', 'Flex_Mentallo': 'https://en.wikipedia.org/w/api.php?action=query&prop=revisions&rvprop=content&titles=Flex_Mentallo&prop=links&pllimit=max&format=json', 'Floronic_Man': 'https://en.wikipedia.org/w/api.php?action=query&prop=revisions&rvprop=content&titles=Floronic_Man&prop=links&pllimit=max&format=json', 'Major_Force': 'https://en.wikipedia.org/w/api.php?action=query&prop=revisions&rvprop=content&titles=Major_Force&prop=links&pllimit=max&format=json', 'Mr._Freeze': 'https://en.wikipedia.org/w/api.php?action=query&prop=revisions&rvprop=content&titles=Mr._Freeze&prop=links&pllimit=max&format=json', 'Forerunner_(DC_Comics)': 'https://en.wikipedia.org/w/api.php?action=query&prop=revisions&rvprop=content&titles=Forerunner_(DC_Comics)&prop=links&pllimit=max&format=json', 'Frankenstein_(DC_Comics)': 'https://en.wikipedia.org/w/api.php?action=query&prop=revisions&rvprop=content&titles=Frankenstein_(DC_Comics)&prop=links&pllimit=max&format=json', 'Fury_(DC_Comics)': 'https://en.wikipedia.org/w/api.php?action=query&prop=revisions&rvprop=content&titles=Fury_(DC_Comics)&prop=links&pllimit=max&format=json', \"G'nort\": \"https://en.wikipedia.org/w/api.php?action=query&prop=revisions&rvprop=content&titles=G'nort&prop=links&pllimit=max&format=json\", 'Gambler_(comics)': 'https://en.wikipedia.org/w/api.php?action=query&prop=revisions&rvprop=content&titles=Gambler_(comics)&prop=links&pllimit=max&format=json', 'Ganthet': 'https://en.wikipedia.org/w/api.php?action=query&prop=revisions&rvprop=content&titles=Ganthet&prop=links&pllimit=max&format=json', 'Gearhead_(DC_Comics)': 'https://en.wikipedia.org/w/api.php?action=query&prop=revisions&rvprop=content&titles=Gearhead_(DC_Comics)&prop=links&pllimit=max&format=json', 'General_Immortus': 'https://en.wikipedia.org/w/api.php?action=query&prop=revisions&rvprop=content&titles=General_Immortus&prop=links&pllimit=max&format=json', 'General_Zahl': 'https://en.wikipedia.org/w/api.php?action=query&prop=revisions&rvprop=content&titles=General_Zahl&prop=links&pllimit=max&format=json', 'Gentleman_Ghost': 'https://en.wikipedia.org/w/api.php?action=query&prop=revisions&rvprop=content&titles=Gentleman_Ghost&prop=links&pllimit=max&format=json', 'Geo-Force': 'https://en.wikipedia.org/w/api.php?action=query&prop=revisions&rvprop=content&titles=Geo-Force&prop=links&pllimit=max&format=json', 'Giganta': 'https://en.wikipedia.org/w/api.php?action=query&prop=revisions&rvprop=content&titles=Giganta&prop=links&pllimit=max&format=json', 'Gizmo_(DC_Comics)': 'https://en.wikipedia.org/w/api.php?action=query&prop=revisions&rvprop=content&titles=Gizmo_(DC_Comics)&prop=links&pllimit=max&format=json', 'Glorious_Godfrey': 'https://en.wikipedia.org/w/api.php?action=query&prop=revisions&rvprop=content&titles=Glorious_Godfrey&prop=links&pllimit=max&format=json', 'Gnarrk': 'https://en.wikipedia.org/w/api.php?action=query&prop=revisions&rvprop=content&titles=Gnarrk&prop=links&pllimit=max&format=json', 'Golden_Glider': 'https://en.wikipedia.org/w/api.php?action=query&prop=revisions&rvprop=content&titles=Golden_Glider&prop=links&pllimit=max&format=json', 'Gorilla_Grodd': 'https://en.wikipedia.org/w/api.php?action=query&prop=revisions&rvprop=content&titles=Gorilla_Grodd&prop=links&pllimit=max&format=json', 'Green_Arrow': 'https://en.wikipedia.org/w/api.php?action=query&prop=revisions&rvprop=content&titles=Green_Arrow&prop=links&pllimit=max&format=json', 'Green_Lantern': 'https://en.wikipedia.org/w/api.php?action=query&prop=revisions&rvprop=content&titles=Green_Lantern&prop=links&pllimit=max&format=json', 'Guardian_(DC_Comics)': 'https://en.wikipedia.org/w/api.php?action=query&prop=revisions&rvprop=content&titles=Guardian_(DC_Comics)&prop=links&pllimit=max&format=json', 'Hank_Hall': 'https://en.wikipedia.org/w/api.php?action=query&prop=revisions&rvprop=content&titles=Hank_Hall&prop=links&pllimit=max&format=json', 'Harlequin_(character)': 'https://en.wikipedia.org/w/api.php?action=query&prop=revisions&rvprop=content&titles=Harlequin_(character)&prop=links&pllimit=max&format=json', 'Harley_Quinn': 'https://en.wikipedia.org/w/api.php?action=query&prop=revisions&rvprop=content&titles=Harley_Quinn&prop=links&pllimit=max&format=json', 'Harry_Stein_(character)': 'https://en.wikipedia.org/w/api.php?action=query&prop=revisions&rvprop=content&titles=Harry_Stein_(character)&prop=links&pllimit=max&format=json', 'Harvey_Bullock_(character)': 'https://en.wikipedia.org/w/api.php?action=query&prop=revisions&rvprop=content&titles=Harvey_Bullock_(character)&prop=links&pllimit=max&format=json', 'Hawk_and_Dove': 'https://en.wikipedia.org/w/api.php?action=query&prop=revisions&rvprop=content&titles=Hawk_and_Dove&prop=links&pllimit=max&format=json', 'Hawkgirl': 'https://en.wikipedia.org/w/api.php?action=query&prop=revisions&rvprop=content&titles=Hawkgirl&prop=links&pllimit=max&format=json', 'Hawkman': 'https://en.wikipedia.org/w/api.php?action=query&prop=revisions&rvprop=content&titles=Hawkman&prop=links&pllimit=max&format=json', 'Hawkwoman': 'https://en.wikipedia.org/w/api.php?action=query&prop=revisions&rvprop=content&titles=Hawkwoman&prop=links&pllimit=max&format=json', 'Heat_Wave_(comics)': 'https://en.wikipedia.org/w/api.php?action=query&prop=revisions&rvprop=content&titles=Heat_Wave_(comics)&prop=links&pllimit=max&format=json', 'Hector_Hammond': 'https://en.wikipedia.org/w/api.php?action=query&prop=revisions&rvprop=content&titles=Hector_Hammond&prop=links&pllimit=max&format=json', 'Hippolyta_(DC_Comics)': 'https://en.wikipedia.org/w/api.php?action=query&prop=revisions&rvprop=content&titles=Hippolyta_(DC_Comics)&prop=links&pllimit=max&format=json', 'Hourman': 'https://en.wikipedia.org/w/api.php?action=query&prop=revisions&rvprop=content&titles=Hourman&prop=links&pllimit=max&format=json', 'Huntress_(comics)': 'https://en.wikipedia.org/w/api.php?action=query&prop=revisions&rvprop=content&titles=Huntress_(comics)&prop=links&pllimit=max&format=json', 'Hush_(character)': 'https://en.wikipedia.org/w/api.php?action=query&prop=revisions&rvprop=content&titles=Hush_(character)&prop=links&pllimit=max&format=json', 'Hyathis': 'https://en.wikipedia.org/w/api.php?action=query&prop=revisions&rvprop=content&titles=Hyathis&prop=links&pllimit=max&format=json', 'Ibis_the_Invincible': 'https://en.wikipedia.org/w/api.php?action=query&prop=revisions&rvprop=content&titles=Ibis_the_Invincible&prop=links&pllimit=max&format=json', 'Ice_(character)': 'https://en.wikipedia.org/w/api.php?action=query&prop=revisions&rvprop=content&titles=Ice_(character)&prop=links&pllimit=max&format=json', 'Icemaiden': 'https://en.wikipedia.org/w/api.php?action=query&prop=revisions&rvprop=content&titles=Icemaiden&prop=links&pllimit=max&format=json', 'Icicle_(comics)': 'https://en.wikipedia.org/w/api.php?action=query&prop=revisions&rvprop=content&titles=Icicle_(comics)&prop=links&pllimit=max&format=json', 'Icon_(character)': 'https://en.wikipedia.org/w/api.php?action=query&prop=revisions&rvprop=content&titles=Icon_(character)&prop=links&pllimit=max&format=json', 'Immortal_Man': 'https://en.wikipedia.org/w/api.php?action=query&prop=revisions&rvprop=content&titles=Immortal_Man&prop=links&pllimit=max&format=json', 'Impulse_(DC_Comics)': 'https://en.wikipedia.org/w/api.php?action=query&prop=revisions&rvprop=content&titles=Impulse_(DC_Comics)&prop=links&pllimit=max&format=json', 'Inspector_Henderson': 'https://en.wikipedia.org/w/api.php?action=query&prop=revisions&rvprop=content&titles=Inspector_Henderson&prop=links&pllimit=max&format=json', 'Invisible_Kid': 'https://en.wikipedia.org/w/api.php?action=query&prop=revisions&rvprop=content&titles=Invisible_Kid&prop=links&pllimit=max&format=json', 'Ion_(DC_Comics)': 'https://en.wikipedia.org/w/api.php?action=query&prop=revisions&rvprop=content&titles=Ion_(DC_Comics)&prop=links&pllimit=max&format=json', 'Iris_West': 'https://en.wikipedia.org/w/api.php?action=query&prop=revisions&rvprop=content&titles=Iris_West&prop=links&pllimit=max&format=json', 'Isamot_Kol': 'https://en.wikipedia.org/w/api.php?action=query&prop=revisions&rvprop=content&titles=Isamot_Kol&prop=links&pllimit=max&format=json', 'Isis_(DC_Comics)': 'https://en.wikipedia.org/w/api.php?action=query&prop=revisions&rvprop=content&titles=Isis_(DC_Comics)&prop=links&pllimit=max&format=json', 'G.I._Robot#J.A.K.E._1': 'https://en.wikipedia.org/w/api.php?action=query&prop=revisions&rvprop=content&titles=G.I._Robot#J.A.K.E._1&prop=links&pllimit=max&format=json', 'G.I._Robot#J.A.K.E._2': 'https://en.wikipedia.org/w/api.php?action=query&prop=revisions&rvprop=content&titles=G.I._Robot#J.A.K.E._2&prop=links&pllimit=max&format=json', 'Martian_Manhunter': 'https://en.wikipedia.org/w/api.php?action=query&prop=revisions&rvprop=content&titles=Martian_Manhunter&prop=links&pllimit=max&format=json', 'Metal_Men#Members': 'https://en.wikipedia.org/w/api.php?action=query&prop=revisions&rvprop=content&titles=Metal_Men#Members&prop=links&pllimit=max&format=json', 'Royal_Flush_Gang#First_Gang:_Clubs': 'https://en.wikipedia.org/w/api.php?action=query&prop=revisions&rvprop=content&titles=Royal_Flush_Gang#First_Gang:_Clubs&prop=links&pllimit=max&format=json', 'The_Pentacle#Membership': 'https://en.wikipedia.org/w/api.php?action=query&prop=revisions&rvprop=content&titles=The_Pentacle#Membership&prop=links&pllimit=max&format=json', \"Jack_O'Lantern_(DC_Comics)\": \"https://en.wikipedia.org/w/api.php?action=query&prop=revisions&rvprop=content&titles=Jack_O'Lantern_(DC_Comics)&prop=links&pllimit=max&format=json\", 'Jack_the_Ripper_fiction#Comics': 'https://en.wikipedia.org/w/api.php?action=query&prop=revisions&rvprop=content&titles=Jack_the_Ripper_fiction#Comics&prop=links&pllimit=max&format=json', 'Deathstroke#Origins': 'https://en.wikipedia.org/w/api.php?action=query&prop=revisions&rvprop=content&titles=Deathstroke#Origins&prop=links&pllimit=max&format=json', 'Demolition_Team#Members': 'https://en.wikipedia.org/w/api.php?action=query&prop=revisions&rvprop=content&titles=Demolition_Team#Members&prop=links&pllimit=max&format=json', 'Jade_(DC_Comics)': 'https://en.wikipedia.org/w/api.php?action=query&prop=revisions&rvprop=content&titles=Jade_(DC_Comics)&prop=links&pllimit=max&format=json', 'Cinder_and_Ashe#Plot_summary': 'https://en.wikipedia.org/w/api.php?action=query&prop=revisions&rvprop=content&titles=Cinder_and_Ashe#Plot_summary&prop=links&pllimit=max&format=json', 'Jakeem_Thunder': 'https://en.wikipedia.org/w/api.php?action=query&prop=revisions&rvprop=content&titles=Jakeem_Thunder&prop=links&pllimit=max&format=json', 'Jinx_(DC_Comics)': 'https://en.wikipedia.org/w/api.php?action=query&prop=revisions&rvprop=content&titles=Jinx_(DC_Comics)&prop=links&pllimit=max&format=json', 'Johnny_Thunder': 'https://en.wikipedia.org/w/api.php?action=query&prop=revisions&rvprop=content&titles=Johnny_Thunder&prop=links&pllimit=max&format=json', 'Joker_(DC_Comics)': 'https://en.wikipedia.org/w/api.php?action=query&prop=revisions&rvprop=content&titles=Joker_(DC_Comics)&prop=links&pllimit=max&format=json', 'Katana_(DC_Comics)': 'https://en.wikipedia.org/w/api.php?action=query&prop=revisions&rvprop=content&titles=Katana_(DC_Comics)&prop=links&pllimit=max&format=json', 'Kelex': 'https://en.wikipedia.org/w/api.php?action=query&prop=revisions&rvprop=content&titles=Kelex&prop=links&pllimit=max&format=json', 'Kid_Eternity': 'https://en.wikipedia.org/w/api.php?action=query&prop=revisions&rvprop=content&titles=Kid_Eternity&prop=links&pllimit=max&format=json', 'Kid_Flash': 'https://en.wikipedia.org/w/api.php?action=query&prop=revisions&rvprop=content&titles=Kid_Flash&prop=links&pllimit=max&format=json', 'King_Standish': 'https://en.wikipedia.org/w/api.php?action=query&prop=revisions&rvprop=content&titles=King_Standish&prop=links&pllimit=max&format=json', 'Killer_Croc': 'https://en.wikipedia.org/w/api.php?action=query&prop=revisions&rvprop=content&titles=Killer_Croc&prop=links&pllimit=max&format=json', 'Killer_Frost': 'https://en.wikipedia.org/w/api.php?action=query&prop=revisions&rvprop=content&titles=Killer_Frost&prop=links&pllimit=max&format=json', 'Killer_Moth': 'https://en.wikipedia.org/w/api.php?action=query&prop=revisions&rvprop=content&titles=Killer_Moth&prop=links&pllimit=max&format=json', 'Kobra_(DC_Comics)': 'https://en.wikipedia.org/w/api.php?action=query&prop=revisions&rvprop=content&titles=Kobra_(DC_Comics)&prop=links&pllimit=max&format=json', 'Kole': 'https://en.wikipedia.org/w/api.php?action=query&prop=revisions&rvprop=content&titles=Kole&prop=links&pllimit=max&format=json', 'L-Ron': 'https://en.wikipedia.org/w/api.php?action=query&prop=revisions&rvprop=content&titles=L-Ron&prop=links&pllimit=max&format=json', 'Lady_Blackhawk': 'https://en.wikipedia.org/w/api.php?action=query&prop=revisions&rvprop=content&titles=Lady_Blackhawk&prop=links&pllimit=max&format=json', 'Lady_Quark': 'https://en.wikipedia.org/w/api.php?action=query&prop=revisions&rvprop=content&titles=Lady_Quark&prop=links&pllimit=max&format=json', 'Lady_Shiva': 'https://en.wikipedia.org/w/api.php?action=query&prop=revisions&rvprop=content&titles=Lady_Shiva&prop=links&pllimit=max&format=json', 'Lady_Styx': 'https://en.wikipedia.org/w/api.php?action=query&prop=revisions&rvprop=content&titles=Lady_Styx&prop=links&pllimit=max&format=json', 'Lady_Vic': 'https://en.wikipedia.org/w/api.php?action=query&prop=revisions&rvprop=content&titles=Lady_Vic&prop=links&pllimit=max&format=json', 'Inferior_Five#Superior_Five': 'https://en.wikipedia.org/w/api.php?action=query&prop=revisions&rvprop=content&titles=Inferior_Five#Superior_Five&prop=links&pllimit=max&format=json', 'Lagoon_Boy': 'https://en.wikipedia.org/w/api.php?action=query&prop=revisions&rvprop=content&titles=Lagoon_Boy&prop=links&pllimit=max&format=json', 'Larry_Lance': 'https://en.wikipedia.org/w/api.php?action=query&prop=revisions&rvprop=content&titles=Larry_Lance&prop=links&pllimit=max&format=json', 'Lois_Lane': 'https://en.wikipedia.org/w/api.php?action=query&prop=revisions&rvprop=content&titles=Lois_Lane&prop=links&pllimit=max&format=json', 'Lucy_Lane': 'https://en.wikipedia.org/w/api.php?action=query&prop=revisions&rvprop=content&titles=Lucy_Lane&prop=links&pllimit=max&format=json', 'Sam_Lane_(comics)': 'https://en.wikipedia.org/w/api.php?action=query&prop=revisions&rvprop=content&titles=Sam_Lane_(comics)&prop=links&pllimit=max&format=json', 'Lana_Lang': 'https://en.wikipedia.org/w/api.php?action=query&prop=revisions&rvprop=content&titles=Lana_Lang&prop=links&pllimit=max&format=json', 'Lara_(character)': 'https://en.wikipedia.org/w/api.php?action=query&prop=revisions&rvprop=content&titles=Lara_(character)&prop=links&pllimit=max&format=json', 'Larfleeze': 'https://en.wikipedia.org/w/api.php?action=query&prop=revisions&rvprop=content&titles=Larfleeze&prop=links&pllimit=max&format=json', 'Bat_Lash': 'https://en.wikipedia.org/w/api.php?action=query&prop=revisions&rvprop=content&titles=Bat_Lash&prop=links&pllimit=max&format=json', 'Lashina': 'https://en.wikipedia.org/w/api.php?action=query&prop=revisions&rvprop=content&titles=Lashina&prop=links&pllimit=max&format=json', 'Legion_(DC_Comics)': 'https://en.wikipedia.org/w/api.php?action=query&prop=revisions&rvprop=content&titles=Legion_(DC_Comics)&prop=links&pllimit=max&format=json', 'Lori_Lemaris': 'https://en.wikipedia.org/w/api.php?action=query&prop=revisions&rvprop=content&titles=Lori_Lemaris&prop=links&pllimit=max&format=json', 'Liberty_Belle_(comics)': 'https://en.wikipedia.org/w/api.php?action=query&prop=revisions&rvprop=content&titles=Liberty_Belle_(comics)&prop=links&pllimit=max&format=json', 'Lightning_(DC_Comics)': 'https://en.wikipedia.org/w/api.php?action=query&prop=revisions&rvprop=content&titles=Lightning_(DC_Comics)&prop=links&pllimit=max&format=json', 'Lilith_Clay': 'https://en.wikipedia.org/w/api.php?action=query&prop=revisions&rvprop=content&titles=Lilith_Clay&prop=links&pllimit=max&format=json', 'Livewire_(DC_Comics)': 'https://en.wikipedia.org/w/api.php?action=query&prop=revisions&rvprop=content&titles=Livewire_(DC_Comics)&prop=links&pllimit=max&format=json', 'Lobo_(DC_Comics)': 'https://en.wikipedia.org/w/api.php?action=query&prop=revisions&rvprop=content&titles=Lobo_(DC_Comics)&prop=links&pllimit=max&format=json', 'Gillian_B._Loeb': 'https://en.wikipedia.org/w/api.php?action=query&prop=revisions&rvprop=content&titles=Gillian_B._Loeb&prop=links&pllimit=max&format=json', 'Steve_Lombard': 'https://en.wikipedia.org/w/api.php?action=query&prop=revisions&rvprop=content&titles=Steve_Lombard&prop=links&pllimit=max&format=json', 'Looker_(character)': 'https://en.wikipedia.org/w/api.php?action=query&prop=revisions&rvprop=content&titles=Looker_(character)&prop=links&pllimit=max&format=json', 'Maxwell_Lord': 'https://en.wikipedia.org/w/api.php?action=query&prop=revisions&rvprop=content&titles=Maxwell_Lord&prop=links&pllimit=max&format=json', 'Lucifer_(DC_Comics)': 'https://en.wikipedia.org/w/api.php?action=query&prop=revisions&rvprop=content&titles=Lucifer_(DC_Comics)&prop=links&pllimit=max&format=json', 'Lena_Luthor': 'https://en.wikipedia.org/w/api.php?action=query&prop=revisions&rvprop=content&titles=Lena_Luthor&prop=links&pllimit=max&format=json', 'Lex_Luthor': 'https://en.wikipedia.org/w/api.php?action=query&prop=revisions&rvprop=content&titles=Lex_Luthor&prop=links&pllimit=max&format=json', 'Lionel_Luthor': 'https://en.wikipedia.org/w/api.php?action=query&prop=revisions&rvprop=content&titles=Lionel_Luthor&prop=links&pllimit=max&format=json', 'Lynx_(comics)': 'https://en.wikipedia.org/w/api.php?action=query&prop=revisions&rvprop=content&titles=Lynx_(comics)&prop=links&pllimit=max&format=json', 'Magpie_(character)': 'https://en.wikipedia.org/w/api.php?action=query&prop=revisions&rvprop=content&titles=Magpie_(character)&prop=links&pllimit=max&format=json', 'Mammoth_(comics)': 'https://en.wikipedia.org/w/api.php?action=query&prop=revisions&rvprop=content&titles=Mammoth_(comics)&prop=links&pllimit=max&format=json', 'Bruno_Mannheim': 'https://en.wikipedia.org/w/api.php?action=query&prop=revisions&rvprop=content&titles=Bruno_Mannheim&prop=links&pllimit=max&format=json', 'Minister_Blizzard': 'https://en.wikipedia.org/w/api.php?action=query&prop=revisions&rvprop=content&titles=Minister_Blizzard&prop=links&pllimit=max&format=json', 'Mongul': 'https://en.wikipedia.org/w/api.php?action=query&prop=revisions&rvprop=content&titles=Mongul&prop=links&pllimit=max&format=json', 'Eclipso#Alex_Montez': 'https://en.wikipedia.org/w/api.php?action=query&prop=revisions&rvprop=content&titles=Eclipso#Alex_Montez&prop=links&pllimit=max&format=json', 'Mutants_(DC_Comics)': 'https://en.wikipedia.org/w/api.php?action=query&prop=revisions&rvprop=content&titles=Mutants_(DC_Comics)&prop=links&pllimit=max&format=json', 'Naiad_(character)': 'https://en.wikipedia.org/w/api.php?action=query&prop=revisions&rvprop=content&titles=Naiad_(character)&prop=links&pllimit=max&format=json', 'Natas_(character)': 'https://en.wikipedia.org/w/api.php?action=query&prop=revisions&rvprop=content&titles=Natas_(character)&prop=links&pllimit=max&format=json', 'Nebula_Man': 'https://en.wikipedia.org/w/api.php?action=query&prop=revisions&rvprop=content&titles=Nebula_Man&prop=links&pllimit=max&format=json', 'Negative_Man': 'https://en.wikipedia.org/w/api.php?action=query&prop=revisions&rvprop=content&titles=Negative_Man&prop=links&pllimit=max&format=json', 'Nekron': 'https://en.wikipedia.org/w/api.php?action=query&prop=revisions&rvprop=content&titles=Nekron&prop=links&pllimit=max&format=json', 'Nemesis_(DC_Comics)': 'https://en.wikipedia.org/w/api.php?action=query&prop=revisions&rvprop=content&titles=Nemesis_(DC_Comics)&prop=links&pllimit=max&format=json', 'Nemesis_Kid': 'https://en.wikipedia.org/w/api.php?action=query&prop=revisions&rvprop=content&titles=Nemesis_Kid&prop=links&pllimit=max&format=json', 'Neon_the_Unknown': 'https://en.wikipedia.org/w/api.php?action=query&prop=revisions&rvprop=content&titles=Neon_the_Unknown&prop=links&pllimit=max&format=json', 'Neutron_(DC_Comics)': 'https://en.wikipedia.org/w/api.php?action=query&prop=revisions&rvprop=content&titles=Neutron_(DC_Comics)&prop=links&pllimit=max&format=json', 'Masters_of_Disaster_(comics)': 'https://en.wikipedia.org/w/api.php?action=query&prop=revisions&rvprop=content&titles=Masters_of_Disaster_(comics)&prop=links&pllimit=max&format=json', 'Professor_Carter_Nichols': 'https://en.wikipedia.org/w/api.php?action=query&prop=revisions&rvprop=content&titles=Professor_Carter_Nichols&prop=links&pllimit=max&format=json', 'Nighthawk_(DC_Comics)': 'https://en.wikipedia.org/w/api.php?action=query&prop=revisions&rvprop=content&titles=Nighthawk_(DC_Comics)&prop=links&pllimit=max&format=json', 'Nightmaster': 'https://en.wikipedia.org/w/api.php?action=query&prop=revisions&rvprop=content&titles=Nightmaster&prop=links&pllimit=max&format=json', 'Nightrider_(DC_Comics)': 'https://en.wikipedia.org/w/api.php?action=query&prop=revisions&rvprop=content&titles=Nightrider_(DC_Comics)&prop=links&pllimit=max&format=json', 'Nightrunner_(character)': 'https://en.wikipedia.org/w/api.php?action=query&prop=revisions&rvprop=content&titles=Nightrunner_(character)&prop=links&pllimit=max&format=json', 'Nightshade_(DC_Comics)': 'https://en.wikipedia.org/w/api.php?action=query&prop=revisions&rvprop=content&titles=Nightshade_(DC_Comics)&prop=links&pllimit=max&format=json', 'Nightslayer': 'https://en.wikipedia.org/w/api.php?action=query&prop=revisions&rvprop=content&titles=Nightslayer&prop=links&pllimit=max&format=json', 'Nightwing': 'https://en.wikipedia.org/w/api.php?action=query&prop=revisions&rvprop=content&titles=Nightwing&prop=links&pllimit=max&format=json', 'Nite_Owl': 'https://en.wikipedia.org/w/api.php?action=query&prop=revisions&rvprop=content&titles=Nite_Owl&prop=links&pllimit=max&format=json', 'Nite-Wing': 'https://en.wikipedia.org/w/api.php?action=query&prop=revisions&rvprop=content&titles=Nite-Wing&prop=links&pllimit=max&format=json', 'Nocturna_(DC_Comics)': 'https://en.wikipedia.org/w/api.php?action=query&prop=revisions&rvprop=content&titles=Nocturna_(DC_Comics)&prop=links&pllimit=max&format=json', 'Non_(comics)': 'https://en.wikipedia.org/w/api.php?action=query&prop=revisions&rvprop=content&titles=Non_(comics)&prop=links&pllimit=max&format=json', 'Intergang': 'https://en.wikipedia.org/w/api.php?action=query&prop=revisions&rvprop=content&titles=Intergang&prop=links&pllimit=max&format=json', 'Northwind_(comics)': 'https://en.wikipedia.org/w/api.php?action=query&prop=revisions&rvprop=content&titles=Northwind_(comics)&prop=links&pllimit=max&format=json', 'Ms._Gsptlsnz': 'https://en.wikipedia.org/w/api.php?action=query&prop=revisions&rvprop=content&titles=Ms._Gsptlsnz&prop=links&pllimit=max&format=json', 'Orca_(DC_Comics)': 'https://en.wikipedia.org/w/api.php?action=query&prop=revisions&rvprop=content&titles=Orca_(DC_Comics)&prop=links&pllimit=max&format=json', 'Phosphorus_Rex': 'https://en.wikipedia.org/w/api.php?action=query&prop=revisions&rvprop=content&titles=Phosphorus_Rex&prop=links&pllimit=max&format=json', 'Prankster_(comics)': 'https://en.wikipedia.org/w/api.php?action=query&prop=revisions&rvprop=content&titles=Prankster_(comics)&prop=links&pllimit=max&format=json', 'Prestor_Jon': 'https://en.wikipedia.org/w/api.php?action=query&prop=revisions&rvprop=content&titles=Prestor_Jon&prop=links&pllimit=max&format=json', 'Protector_(DC_Comics)': 'https://en.wikipedia.org/w/api.php?action=query&prop=revisions&rvprop=content&titles=Protector_(DC_Comics)&prop=links&pllimit=max&format=json', 'Professor_Pyg': 'https://en.wikipedia.org/w/api.php?action=query&prop=revisions&rvprop=content&titles=Professor_Pyg&prop=links&pllimit=max&format=json', 'Quakemaster': 'https://en.wikipedia.org/w/api.php?action=query&prop=revisions&rvprop=content&titles=Quakemaster&prop=links&pllimit=max&format=json', 'Ravan_(comics)': 'https://en.wikipedia.org/w/api.php?action=query&prop=revisions&rvprop=content&titles=Ravan_(comics)&prop=links&pllimit=max&format=json', 'Raven_(DC_Comics)': 'https://en.wikipedia.org/w/api.php?action=query&prop=revisions&rvprop=content&titles=Raven_(DC_Comics)&prop=links&pllimit=max&format=json', 'Roy_Harper_(character)|Emiko_Queen': 'https://en.wikipedia.org/w/api.php?action=query&prop=revisions&rvprop=content&titles=Roy_Harper_(character)|Emiko_Queen&prop=links&pllimit=max&format=json', 'Red_Star_(comics)': 'https://en.wikipedia.org/w/api.php?action=query&prop=revisions&rvprop=content&titles=Red_Star_(comics)&prop=links&pllimit=max&format=json', 'Red_Tornado|Red_Tornado_(identity)': 'https://en.wikipedia.org/w/api.php?action=query&prop=revisions&rvprop=content&titles=Red_Tornado|Red_Tornado_(identity)&prop=links&pllimit=max&format=json', 'Robin_(DC_Comics)': 'https://en.wikipedia.org/w/api.php?action=query&prop=revisions&rvprop=content&titles=Robin_(DC_Comics)&prop=links&pllimit=max&format=json', 'Harper_Row': 'https://en.wikipedia.org/w/api.php?action=query&prop=revisions&rvprop=content&titles=Harper_Row&prop=links&pllimit=max&format=json', 'Sardath': 'https://en.wikipedia.org/w/api.php?action=query&prop=revisions&rvprop=content&titles=Sardath&prop=links&pllimit=max&format=json', 'Sin_(DC_Comics)': 'https://en.wikipedia.org/w/api.php?action=query&prop=revisions&rvprop=content&titles=Sin_(DC_Comics)&prop=links&pllimit=max&format=json', \"Li'l_Lobo\": \"https://en.wikipedia.org/w/api.php?action=query&prop=revisions&rvprop=content&titles=Li'l_Lobo&prop=links&pllimit=max&format=json\", 'Felicity_Smoak': 'https://en.wikipedia.org/w/api.php?action=query&prop=revisions&rvprop=content&titles=Felicity_Smoak&prop=links&pllimit=max&format=json', 'Johnny_Sorrow': 'https://en.wikipedia.org/w/api.php?action=query&prop=revisions&rvprop=content&titles=Johnny_Sorrow&prop=links&pllimit=max&format=json', 'Jimmy_Olsen': 'https://en.wikipedia.org/w/api.php?action=query&prop=revisions&rvprop=content&titles=Jimmy_Olsen&prop=links&pllimit=max&format=json', 'Cornelius_Stirk': 'https://en.wikipedia.org/w/api.php?action=query&prop=revisions&rvprop=content&titles=Cornelius_Stirk&prop=links&pllimit=max&format=json', 'Silas_Stone': 'https://en.wikipedia.org/w/api.php?action=query&prop=revisions&rvprop=content&titles=Silas_Stone&prop=links&pllimit=max&format=json', 'Super-Hip': 'https://en.wikipedia.org/w/api.php?action=query&prop=revisions&rvprop=content&titles=Super-Hip&prop=links&pllimit=max&format=json', 'Super-Turtle': 'https://en.wikipedia.org/w/api.php?action=query&prop=revisions&rvprop=content&titles=Super-Turtle&prop=links&pllimit=max&format=json', 'Superboy': 'https://en.wikipedia.org/w/api.php?action=query&prop=revisions&rvprop=content&titles=Superboy&prop=links&pllimit=max&format=json', 'Supergirl': 'https://en.wikipedia.org/w/api.php?action=query&prop=revisions&rvprop=content&titles=Supergirl&prop=links&pllimit=max&format=json', 'Superman': 'https://en.wikipedia.org/w/api.php?action=query&prop=revisions&rvprop=content&titles=Superman&prop=links&pllimit=max&format=json', 'Superman_robots': 'https://en.wikipedia.org/w/api.php?action=query&prop=revisions&rvprop=content&titles=Superman_robots&prop=links&pllimit=max&format=json', 'Supernova_(DC_Comics)': 'https://en.wikipedia.org/w/api.php?action=query&prop=revisions&rvprop=content&titles=Supernova_(DC_Comics)&prop=links&pllimit=max&format=json', 'Superwoman': 'https://en.wikipedia.org/w/api.php?action=query&prop=revisions&rvprop=content&titles=Superwoman&prop=links&pllimit=max&format=json', 'Tally_Man': 'https://en.wikipedia.org/w/api.php?action=query&prop=revisions&rvprop=content&titles=Tally_Man&prop=links&pllimit=max&format=json', 'TNT_(character)': 'https://en.wikipedia.org/w/api.php?action=query&prop=revisions&rvprop=content&titles=TNT_(character)&prop=links&pllimit=max&format=json', 'Turtle_(comics)': 'https://en.wikipedia.org/w/api.php?action=query&prop=revisions&rvprop=content&titles=Turtle_(comics)&prop=links&pllimit=max&format=json', 'League_of_Assassins#Members': 'https://en.wikipedia.org/w/api.php?action=query&prop=revisions&rvprop=content&titles=League_of_Assassins#Members&prop=links&pllimit=max&format=json', 'Big_Science_Action#Ultimon': 'https://en.wikipedia.org/w/api.php?action=query&prop=revisions&rvprop=content&titles=Big_Science_Action#Ultimon&prop=links&pllimit=max&format=json', 'Ultra_Boy': 'https://en.wikipedia.org/w/api.php?action=query&prop=revisions&rvprop=content&titles=Ultra_Boy&prop=links&pllimit=max&format=json', 'Ultra_the_Multi-Alien': 'https://en.wikipedia.org/w/api.php?action=query&prop=revisions&rvprop=content&titles=Ultra_the_Multi-Alien&prop=links&pllimit=max&format=json', 'Ultraa': 'https://en.wikipedia.org/w/api.php?action=query&prop=revisions&rvprop=content&titles=Ultraa&prop=links&pllimit=max&format=json', 'Ultra-Humanite': 'https://en.wikipedia.org/w/api.php?action=query&prop=revisions&rvprop=content&titles=Ultra-Humanite&prop=links&pllimit=max&format=json', 'Ultra-Man': 'https://en.wikipedia.org/w/api.php?action=query&prop=revisions&rvprop=content&titles=Ultra-Man&prop=links&pllimit=max&format=json', 'Ultraman_(DC_Comics)': 'https://en.wikipedia.org/w/api.php?action=query&prop=revisions&rvprop=content&titles=Ultraman_(DC_Comics)&prop=links&pllimit=max&format=json', 'Umbaluru': 'https://en.wikipedia.org/w/api.php?action=query&prop=revisions&rvprop=content&titles=Umbaluru&prop=links&pllimit=max&format=json', 'Uncle_Marvel': 'https://en.wikipedia.org/w/api.php?action=query&prop=revisions&rvprop=content&titles=Uncle_Marvel&prop=links&pllimit=max&format=json', 'Uncle_Sam_(comics)': 'https://en.wikipedia.org/w/api.php?action=query&prop=revisions&rvprop=content&titles=Uncle_Sam_(comics)&prop=links&pllimit=max&format=json', 'Characters_of_The_Sandman#Unity_Kinkaid': 'https://en.wikipedia.org/w/api.php?action=query&prop=revisions&rvprop=content&titles=Characters_of_The_Sandman#Unity_Kinkaid&prop=links&pllimit=max&format=json', 'Universo': 'https://en.wikipedia.org/w/api.php?action=query&prop=revisions&rvprop=content&titles=Universo&prop=links&pllimit=max&format=json', 'Unknown_Soldier_(DC_Comics)': 'https://en.wikipedia.org/w/api.php?action=query&prop=revisions&rvprop=content&titles=Unknown_Soldier_(DC_Comics)&prop=links&pllimit=max&format=json', 'Axis_Amerika#Members': 'https://en.wikipedia.org/w/api.php?action=query&prop=revisions&rvprop=content&titles=Axis_Amerika#Members&prop=links&pllimit=max&format=json', 'V_(character)': 'https://en.wikipedia.org/w/api.php?action=query&prop=revisions&rvprop=content&titles=V_(character)&prop=links&pllimit=max&format=json', \"Warlock's_Daughter\": \"https://en.wikipedia.org/w/api.php?action=query&prop=revisions&rvprop=content&titles=Warlock's_Daughter&prop=links&pllimit=max&format=json\", 'Warlord_(DC_Comics)': 'https://en.wikipedia.org/w/api.php?action=query&prop=revisions&rvprop=content&titles=Warlord_(DC_Comics)&prop=links&pllimit=max&format=json', 'Warp_(comics)': 'https://en.wikipedia.org/w/api.php?action=query&prop=revisions&rvprop=content&titles=Warp_(comics)&prop=links&pllimit=max&format=json', 'Waverider_(character)': 'https://en.wikipedia.org/w/api.php?action=query&prop=revisions&rvprop=content&titles=Waverider_(character)&prop=links&pllimit=max&format=json', 'Weapons_Master': 'https://en.wikipedia.org/w/api.php?action=query&prop=revisions&rvprop=content&titles=Weapons_Master&prop=links&pllimit=max&format=json', 'Weather_Wizard': 'https://en.wikipedia.org/w/api.php?action=query&prop=revisions&rvprop=content&titles=Weather_Wizard&prop=links&pllimit=max&format=json', 'Web_(character)': 'https://en.wikipedia.org/w/api.php?action=query&prop=revisions&rvprop=content&titles=Web_(character)&prop=links&pllimit=max&format=json', 'Weeper_(DC_Comics)': 'https://en.wikipedia.org/w/api.php?action=query&prop=revisions&rvprop=content&titles=Weeper_(DC_Comics)&prop=links&pllimit=max&format=json', 'Weird_(comics)': 'https://en.wikipedia.org/w/api.php?action=query&prop=revisions&rvprop=content&titles=Weird_(comics)&prop=links&pllimit=max&format=json', 'Paul_Westfield': 'https://en.wikipedia.org/w/api.php?action=query&prop=revisions&rvprop=content&titles=Paul_Westfield&prop=links&pllimit=max&format=json', 'Whip_(comics)': 'https://en.wikipedia.org/w/api.php?action=query&prop=revisions&rvprop=content&titles=Whip_(comics)&prop=links&pllimit=max&format=json', 'White_Witch_(comics)': 'https://en.wikipedia.org/w/api.php?action=query&prop=revisions&rvprop=content&titles=White_Witch_(comics)&prop=links&pllimit=max&format=json', 'Perry_White': 'https://en.wikipedia.org/w/api.php?action=query&prop=revisions&rvprop=content&titles=Perry_White&prop=links&pllimit=max&format=json', 'Wild_Dog_(comics)': 'https://en.wikipedia.org/w/api.php?action=query&prop=revisions&rvprop=content&titles=Wild_Dog_(comics)&prop=links&pllimit=max&format=json', 'Wildebeest_(comics)': 'https://en.wikipedia.org/w/api.php?action=query&prop=revisions&rvprop=content&titles=Wildebeest_(comics)&prop=links&pllimit=max&format=json', 'Wildfire_(comics)': 'https://en.wikipedia.org/w/api.php?action=query&prop=revisions&rvprop=content&titles=Wildfire_(comics)&prop=links&pllimit=max&format=json', 'Wildstar_(DC_Comics)': 'https://en.wikipedia.org/w/api.php?action=query&prop=revisions&rvprop=content&titles=Wildstar_(DC_Comics)&prop=links&pllimit=max&format=json', 'Rose_Wilson': 'https://en.wikipedia.org/w/api.php?action=query&prop=revisions&rvprop=content&titles=Rose_Wilson&prop=links&pllimit=max&format=json', 'Woozy_Winks': 'https://en.wikipedia.org/w/api.php?action=query&prop=revisions&rvprop=content&titles=Woozy_Winks&prop=links&pllimit=max&format=json', 'Wintergreen_(comics)': 'https://en.wikipedia.org/w/api.php?action=query&prop=revisions&rvprop=content&titles=Wintergreen_(comics)&prop=links&pllimit=max&format=json', 'Wizard_(DC_Comics)': 'https://en.wikipedia.org/w/api.php?action=query&prop=revisions&rvprop=content&titles=Wizard_(DC_Comics)&prop=links&pllimit=max&format=json', 'Wonder_Boy_(character)': 'https://en.wikipedia.org/w/api.php?action=query&prop=revisions&rvprop=content&titles=Wonder_Boy_(character)&prop=links&pllimit=max&format=json', 'Wonder_Girl_(Cassie_Sandsmark)': 'https://en.wikipedia.org/w/api.php?action=query&prop=revisions&rvprop=content&titles=Wonder_Girl_(Cassie_Sandsmark)&prop=links&pllimit=max&format=json', 'Wonder_Twins': 'https://en.wikipedia.org/w/api.php?action=query&prop=revisions&rvprop=content&titles=Wonder_Twins&prop=links&pllimit=max&format=json', 'Wonder_Woman': 'https://en.wikipedia.org/w/api.php?action=query&prop=revisions&rvprop=content&titles=Wonder_Woman&prop=links&pllimit=max&format=json', 'Wotan_(comics)': 'https://en.wikipedia.org/w/api.php?action=query&prop=revisions&rvprop=content&titles=Wotan_(comics)&prop=links&pllimit=max&format=json', 'Wrath_(comics)': 'https://en.wikipedia.org/w/api.php?action=query&prop=revisions&rvprop=content&titles=Wrath_(comics)&prop=links&pllimit=max&format=json', 'Hal_Jordan#Other_versions': 'https://en.wikipedia.org/w/api.php?action=query&prop=revisions&rvprop=content&titles=Hal_Jordan#Other_versions&prop=links&pllimit=max&format=json', 'Yellow_Peri': 'https://en.wikipedia.org/w/api.php?action=query&prop=revisions&rvprop=content&titles=Yellow_Peri&prop=links&pllimit=max&format=json', 'Yellowjacket_(Charlton_Comics)': 'https://en.wikipedia.org/w/api.php?action=query&prop=revisions&rvprop=content&titles=Yellowjacket_(Charlton_Comics)&prop=links&pllimit=max&format=json', 'Zara_(character)': 'https://en.wikipedia.org/w/api.php?action=query&prop=revisions&rvprop=content&titles=Zara_(character)&prop=links&pllimit=max&format=json', 'Zatanna': 'https://en.wikipedia.org/w/api.php?action=query&prop=revisions&rvprop=content&titles=Zatanna&prop=links&pllimit=max&format=json', 'Zatara': 'https://en.wikipedia.org/w/api.php?action=query&prop=revisions&rvprop=content&titles=Zatara&prop=links&pllimit=max&format=json', 'Zachary_Zatara': 'https://en.wikipedia.org/w/api.php?action=query&prop=revisions&rvprop=content&titles=Zachary_Zatara&prop=links&pllimit=max&format=json', 'Zauriel': 'https://en.wikipedia.org/w/api.php?action=query&prop=revisions&rvprop=content&titles=Zauriel&prop=links&pllimit=max&format=json', 'Zebra-Man': 'https://en.wikipedia.org/w/api.php?action=query&prop=revisions&rvprop=content&titles=Zebra-Man&prop=links&pllimit=max&format=json', 'Zeus_(DC_Comics)': 'https://en.wikipedia.org/w/api.php?action=query&prop=revisions&rvprop=content&titles=Zeus_(DC_Comics)&prop=links&pllimit=max&format=json', 'Zookeeper_(comics)': 'https://en.wikipedia.org/w/api.php?action=query&prop=revisions&rvprop=content&titles=Zookeeper_(comics)&prop=links&pllimit=max&format=json', 'Zor-El': 'https://en.wikipedia.org/w/api.php?action=query&prop=revisions&rvprop=content&titles=Zor-El&prop=links&pllimit=max&format=json', 'Tony_Zucco': 'https://en.wikipedia.org/w/api.php?action=query&prop=revisions&rvprop=content&titles=Tony_Zucco&prop=links&pllimit=max&format=json', 'Lex_Luthor#Relationships_and_family': 'https://en.wikipedia.org/w/api.php?action=query&prop=revisions&rvprop=content&titles=Lex_Luthor#Relationships_and_family&prop=links&pllimit=max&format=json', 'Valda_the_Iron_Maiden': 'https://en.wikipedia.org/w/api.php?action=query&prop=revisions&rvprop=content&titles=Valda_the_Iron_Maiden&prop=links&pllimit=max&format=json', \"Metallo#Jor-El's_Robot\": \"https://en.wikipedia.org/w/api.php?action=query&prop=revisions&rvprop=content&titles=Metallo#Jor-El's_Robot&prop=links&pllimit=max&format=json\", 'Batman_and_Robin_(serial)#Cast': 'https://en.wikipedia.org/w/api.php?action=query&prop=revisions&rvprop=content&titles=Batman_and_Robin_(serial)#Cast&prop=links&pllimit=max&format=json', 'Jor-El#His_accomplishments': 'https://en.wikipedia.org/w/api.php?action=query&prop=revisions&rvprop=content&titles=Jor-El#His_accomplishments&prop=links&pllimit=max&format=json', 'Karate_Kid_(comics)#Fictional_character_biography': 'https://en.wikipedia.org/w/api.php?action=query&prop=revisions&rvprop=content&titles=Karate_Kid_(comics)#Fictional_character_biography&prop=links&pllimit=max&format=json', 'Valentina_Vostok': 'https://en.wikipedia.org/w/api.php?action=query&prop=revisions&rvprop=content&titles=Valentina_Vostok&prop=links&pllimit=max&format=json', 'Batman:_Mask_of_the_Phantasm#Plot': 'https://en.wikipedia.org/w/api.php?action=query&prop=revisions&rvprop=content&titles=Batman:_Mask_of_the_Phantasm#Plot&prop=links&pllimit=max&format=json', 'Validus': 'https://en.wikipedia.org/w/api.php?action=query&prop=revisions&rvprop=content&titles=Validus&prop=links&pllimit=max&format=json', 'Super_Friends#Other_DC_Comics_villains': 'https://en.wikipedia.org/w/api.php?action=query&prop=revisions&rvprop=content&titles=Super_Friends#Other_DC_Comics_villains&prop=links&pllimit=max&format=json', 'Omega_Men#Later_members': 'https://en.wikipedia.org/w/api.php?action=query&prop=revisions&rvprop=content&titles=Omega_Men#Later_members&prop=links&pllimit=max&format=json', 'Vandal_Savage': 'https://en.wikipedia.org/w/api.php?action=query&prop=revisions&rvprop=content&titles=Vandal_Savage&prop=links&pllimit=max&format=json', 'Gotham_City_Police_Department#Commissioners': 'https://en.wikipedia.org/w/api.php?action=query&prop=revisions&rvprop=content&titles=Gotham_City_Police_Department#Commissioners&prop=links&pllimit=max&format=json', 'For_the_Man_Who_Has_Everything#Plot': 'https://en.wikipedia.org/w/api.php?action=query&prop=revisions&rvprop=content&titles=For_the_Man_Who_Has_Everything#Plot&prop=links&pllimit=max&format=json', 'Night_Force#Characters': 'https://en.wikipedia.org/w/api.php?action=query&prop=revisions&rvprop=content&titles=Night_Force#Characters&prop=links&pllimit=max&format=json', 'Shining_Knight#Ystina': 'https://en.wikipedia.org/w/api.php?action=query&prop=revisions&rvprop=content&titles=Shining_Knight#Ystina&prop=links&pllimit=max&format=json', 'Green_Lantern_Corps#First_attempt_of_rebuilding_the_Green_Lantern_Corps': 'https://en.wikipedia.org/w/api.php?action=query&prop=revisions&rvprop=content&titles=Green_Lantern_Corps#First_attempt_of_rebuilding_the_Green_Lantern_Corps&prop=links&pllimit=max&format=json', 'Tony_Zucco#Other_versions': 'https://en.wikipedia.org/w/api.php?action=query&prop=revisions&rvprop=content&titles=Tony_Zucco#Other_versions&prop=links&pllimit=max&format=json', 'The_Conglomerate_(comics)#Fictional_background': 'https://en.wikipedia.org/w/api.php?action=query&prop=revisions&rvprop=content&titles=The_Conglomerate_(comics)#Fictional_background&prop=links&pllimit=max&format=json', 'Superman_&_Batman:_Generations#Generations_3': 'https://en.wikipedia.org/w/api.php?action=query&prop=revisions&rvprop=content&titles=Superman_&_Batman:_Generations#Generations_3&prop=links&pllimit=max&format=json', 'Vartox': 'https://en.wikipedia.org/w/api.php?action=query&prop=revisions&rvprop=content&titles=Vartox&prop=links&pllimit=max&format=json', 'Vath_Sarn': 'https://en.wikipedia.org/w/api.php?action=query&prop=revisions&rvprop=content&titles=Vath_Sarn&prop=links&pllimit=max&format=json', \"Elseworld's_Finest:_Supergirl_&_Batgirl#Secondary_characters_and_cameos\": \"https://en.wikipedia.org/w/api.php?action=query&prop=revisions&rvprop=content&titles=Elseworld's_Finest:_Supergirl_&_Batgirl#Secondary_characters_and_cameos&prop=links&pllimit=max&format=json\", 'Batman:_Knightfall#\"Troika\"': 'https://en.wikipedia.org/w/api.php?action=query&prop=revisions&rvprop=content&titles=Batman:_Knightfall#\"Troika\"&prop=links&pllimit=max&format=json', 'Khund#Khundian_Legionnaires': 'https://en.wikipedia.org/w/api.php?action=query&prop=revisions&rvprop=content&titles=Khund#Khundian_Legionnaires&prop=links&pllimit=max&format=json', 'Wild_Dog_(comics)#Fictional_character_biography': 'https://en.wikipedia.org/w/api.php?action=query&prop=revisions&rvprop=content&titles=Wild_Dog_(comics)#Fictional_character_biography&prop=links&pllimit=max&format=json', 'Themyscira_(DC_Comics)#Notable_Amazons': 'https://en.wikipedia.org/w/api.php?action=query&prop=revisions&rvprop=content&titles=Themyscira_(DC_Comics)#Notable_Amazons&prop=links&pllimit=max&format=json', 'Bloodlines_(comics)#Publication_history': 'https://en.wikipedia.org/w/api.php?action=query&prop=revisions&rvprop=content&titles=Bloodlines_(comics)#Publication_history&prop=links&pllimit=max&format=json', 'Ventriloquist_(comics)': 'https://en.wikipedia.org/w/api.php?action=query&prop=revisions&rvprop=content&titles=Ventriloquist_(comics)&prop=links&pllimit=max&format=json', 'Doctor_Sivana#Later_appearances': 'https://en.wikipedia.org/w/api.php?action=query&prop=revisions&rvprop=content&titles=Doctor_Sivana#Later_appearances&prop=links&pllimit=max&format=json', 'Veridium': 'https://en.wikipedia.org/w/api.php?action=query&prop=revisions&rvprop=content&titles=Veridium&prop=links&pllimit=max&format=json', 'Veronica_Cale': 'https://en.wikipedia.org/w/api.php?action=query&prop=revisions&rvprop=content&titles=Veronica_Cale&prop=links&pllimit=max&format=json', 'Vartox#Post_Crisis': 'https://en.wikipedia.org/w/api.php?action=query&prop=revisions&rvprop=content&titles=Vartox#Post_Crisis&prop=links&pllimit=max&format=json', 'Vibe_(comics)': 'https://en.wikipedia.org/w/api.php?action=query&prop=revisions&rvprop=content&titles=Vibe_(comics)&prop=links&pllimit=max&format=json', 'Batman_(1966_film)#Cast': 'https://en.wikipedia.org/w/api.php?action=query&prop=revisions&rvprop=content&titles=Batman_(1966_film)#Cast&prop=links&pllimit=max&format=json', 'Dial_H_for_Hero#1980s_series': 'https://en.wikipedia.org/w/api.php?action=query&prop=revisions&rvprop=content&titles=Dial_H_for_Hero#1980s_series&prop=links&pllimit=max&format=json', 'Vicki_Vale': 'https://en.wikipedia.org/w/api.php?action=query&prop=revisions&rvprop=content&titles=Vicki_Vale&prop=links&pllimit=max&format=json', 'Vigilante_(comics)': 'https://en.wikipedia.org/w/api.php?action=query&prop=revisions&rvprop=content&titles=Vigilante_(comics)&prop=links&pllimit=max&format=json', 'Maximums#Team_members': 'https://en.wikipedia.org/w/api.php?action=query&prop=revisions&rvprop=content&titles=Maximums#Team_members&prop=links&pllimit=max&format=json', 'Viking_Prince': 'https://en.wikipedia.org/w/api.php?action=query&prop=revisions&rvprop=content&titles=Viking_Prince&prop=links&pllimit=max&format=json', 'The_Losers_(2010_film)': 'https://en.wikipedia.org/w/api.php?action=query&prop=revisions&rvprop=content&titles=The_Losers_(2010_film)&prop=links&pllimit=max&format=json', 'Kasnia#Batman_Beyond': 'https://en.wikipedia.org/w/api.php?action=query&prop=revisions&rvprop=content&titles=Kasnia#Batman_Beyond&prop=links&pllimit=max&format=json', 'Xenobrood#Fictional_history': 'https://en.wikipedia.org/w/api.php?action=query&prop=revisions&rvprop=content&titles=Xenobrood#Fictional_history&prop=links&pllimit=max&format=json', 'Flash_in_other_media#The_Flash_(1990–1991)': 'https://en.wikipedia.org/w/api.php?action=query&prop=revisions&rvprop=content&titles=Flash_in_other_media#The_Flash_(1990–1991)&prop=links&pllimit=max&format=json', 'Gotham_City_Police_Department#Current_roster': 'https://en.wikipedia.org/w/api.php?action=query&prop=revisions&rvprop=content&titles=Gotham_City_Police_Department#Current_roster&prop=links&pllimit=max&format=json', 'Creature_Commandos#Membership': 'https://en.wikipedia.org/w/api.php?action=query&prop=revisions&rvprop=content&titles=Creature_Commandos#Membership&prop=links&pllimit=max&format=json', 'Creeper_(comics)#Fictional_character_biography': 'https://en.wikipedia.org/w/api.php?action=query&prop=revisions&rvprop=content&titles=Creeper_(comics)#Fictional_character_biography&prop=links&pllimit=max&format=json', 'The_Shadow#Supporting_characters': 'https://en.wikipedia.org/w/api.php?action=query&prop=revisions&rvprop=content&titles=The_Shadow#Supporting_characters&prop=links&pllimit=max&format=json', 'Viperie_(Action_Comics_338)': 'https://en.wikipedia.org/w/api.php?action=query&prop=revisions&rvprop=content&titles=Viperie_(Action_Comics_338)&prop=links&pllimit=max&format=json', 'Onomatopoeia_(comics)#Publication_history': 'https://en.wikipedia.org/w/api.php?action=query&prop=revisions&rvprop=content&titles=Onomatopoeia_(comics)#Publication_history&prop=links&pllimit=max&format=json', 'Virman_Vundabar': 'https://en.wikipedia.org/w/api.php?action=query&prop=revisions&rvprop=content&titles=Virman_Vundabar&prop=links&pllimit=max&format=json', 'Virtuoso_(comics)': 'https://en.wikipedia.org/w/api.php?action=query&prop=revisions&rvprop=content&titles=Virtuoso_(comics)&prop=links&pllimit=max&format=json', 'Vixen_(comics)': 'https://en.wikipedia.org/w/api.php?action=query&prop=revisions&rvprop=content&titles=Vixen_(comics)&prop=links&pllimit=max&format=json', 'Vizacacha': 'https://en.wikipedia.org/w/api.php?action=query&prop=revisions&rvprop=content&titles=Vizacacha&prop=links&pllimit=max&format=json', 'Hero_Hotline#Day_shift': 'https://en.wikipedia.org/w/api.php?action=query&prop=revisions&rvprop=content&titles=Hero_Hotline#Day_shift&prop=links&pllimit=max&format=json', 'Volcana': 'https://en.wikipedia.org/w/api.php?action=query&prop=revisions&rvprop=content&titles=Volcana&prop=links&pllimit=max&format=json', 'Lady_Quark#Crisis': 'https://en.wikipedia.org/w/api.php?action=query&prop=revisions&rvprop=content&titles=Lady_Quark#Crisis&prop=links&pllimit=max&format=json', 'Volthoom': 'https://en.wikipedia.org/w/api.php?action=query&prop=revisions&rvprop=content&titles=Volthoom&prop=links&pllimit=max&format=json', 'Von_Bach#Rogue_metahumans': 'https://en.wikipedia.org/w/api.php?action=query&prop=revisions&rvprop=content&titles=Von_Bach#Rogue_metahumans&prop=links&pllimit=max&format=json', 'Baroness_Paula_von_Gunther': 'https://en.wikipedia.org/w/api.php?action=query&prop=revisions&rvprop=content&titles=Baroness_Paula_von_Gunther&prop=links&pllimit=max&format=json', 'Superman_(1978_film)#Cast': 'https://en.wikipedia.org/w/api.php?action=query&prop=revisions&rvprop=content&titles=Superman_(1978_film)#Cast&prop=links&pllimit=max&format=json', 'Voodoo_(Wildstorm)': 'https://en.wikipedia.org/w/api.php?action=query&prop=revisions&rvprop=content&titles=Voodoo_(Wildstorm)&prop=links&pllimit=max&format=json', \"Doom_Patrol#John_Byrne's_Doom_Patrol_(volume_4)\": \"https://en.wikipedia.org/w/api.php?action=query&prop=revisions&rvprop=content&titles=Doom_Patrol#John_Byrne's_Doom_Patrol_(volume_4)&prop=links&pllimit=max&format=json\", 'The_Monarchy_(comics)#Members': 'https://en.wikipedia.org/w/api.php?action=query&prop=revisions&rvprop=content&titles=The_Monarchy_(comics)#Members&prop=links&pllimit=max&format=json', 'Batman_Beyond#Story': 'https://en.wikipedia.org/w/api.php?action=query&prop=revisions&rvprop=content&titles=Batman_Beyond#Story&prop=links&pllimit=max&format=json', 'Hans_Vroom_(Action_Comics_93)': 'https://en.wikipedia.org/w/api.php?action=query&prop=revisions&rvprop=content&titles=Hans_Vroom_(Action_Comics_93)&prop=links&pllimit=max&format=json', 'Tri_Vul_(The_Brave_and_the_Bold,_Vol._1,_155)': 'https://en.wikipedia.org/w/api.php?action=query&prop=revisions&rvprop=content&titles=Tri_Vul_(The_Brave_and_the_Bold,_Vol._1,_155)&prop=links&pllimit=max&format=json', 'Nuidis_Vulko': 'https://en.wikipedia.org/w/api.php?action=query&prop=revisions&rvprop=content&titles=Nuidis_Vulko&prop=links&pllimit=max&format=json', 'Terrible_Trio': 'https://en.wikipedia.org/w/api.php?action=query&prop=revisions&rvprop=content&titles=Terrible_Trio&prop=links&pllimit=max&format=json', \"X'_Hal\": \"https://en.wikipedia.org/w/api.php?action=query&prop=revisions&rvprop=content&titles=X'_Hal&prop=links&pllimit=max&format=json\", 'X-2-Y_(Action_Comics_344)': 'https://en.wikipedia.org/w/api.php?action=query&prop=revisions&rvprop=content&titles=X-2-Y_(Action_Comics_344)&prop=links&pllimit=max&format=json', 'X-5_Super_Agent_(Quality_Comics)': 'https://en.wikipedia.org/w/api.php?action=query&prop=revisions&rvprop=content&titles=X-5_Super_Agent_(Quality_Comics)&prop=links&pllimit=max&format=json', 'X_of_the_Underground': 'https://en.wikipedia.org/w/api.php?action=query&prop=revisions&rvprop=content&titles=X_of_the_Underground&prop=links&pllimit=max&format=json', 'Empire_(comics)#Characters': 'https://en.wikipedia.org/w/api.php?action=query&prop=revisions&rvprop=content&titles=Empire_(comics)#Characters&prop=links&pllimit=max&format=json', 'Sparta_of_Synriannaq#Character_history': 'https://en.wikipedia.org/w/api.php?action=query&prop=revisions&rvprop=content&titles=Sparta_of_Synriannaq#Character_history&prop=links&pllimit=max&format=json', 'Xardo_(Action_Comics_325)': 'https://en.wikipedia.org/w/api.php?action=query&prop=revisions&rvprop=content&titles=Xardo_(Action_Comics_325)&prop=links&pllimit=max&format=json', 'Xasnu_(Action_Comics_278)': 'https://en.wikipedia.org/w/api.php?action=query&prop=revisions&rvprop=content&titles=Xasnu_(Action_Comics_278)&prop=links&pllimit=max&format=json', 'X-Bomb_Betty': 'https://en.wikipedia.org/w/api.php?action=query&prop=revisions&rvprop=content&titles=X-Bomb_Betty&prop=links&pllimit=max&format=json', 'Xenofobe': 'https://en.wikipedia.org/w/api.php?action=query&prop=revisions&rvprop=content&titles=Xenofobe&prop=links&pllimit=max&format=json', 'Xeo': 'https://en.wikipedia.org/w/api.php?action=query&prop=revisions&rvprop=content&titles=Xeo&prop=links&pllimit=max&format=json', 'Xera_(comics)': 'https://en.wikipedia.org/w/api.php?action=query&prop=revisions&rvprop=content&titles=Xera_(comics)&prop=links&pllimit=max&format=json', 'Xero_(comics)': 'https://en.wikipedia.org/w/api.php?action=query&prop=revisions&rvprop=content&titles=Xero_(comics)&prop=links&pllimit=max&format=json', 'Xiang-Fa_(Green_Lantern,_Vol._3,_19)': 'https://en.wikipedia.org/w/api.php?action=query&prop=revisions&rvprop=content&titles=Xiang-Fa_(Green_Lantern,_Vol._3,_19)&prop=links&pllimit=max&format=json', 'Cadre_(comics)#Cadre_of_the_Immortal': 'https://en.wikipedia.org/w/api.php?action=query&prop=revisions&rvprop=content&titles=Cadre_(comics)#Cadre_of_the_Immortal&prop=links&pllimit=max&format=json', 'Hell_(DC_Comics)#Fiends': 'https://en.wikipedia.org/w/api.php?action=query&prop=revisions&rvprop=content&titles=Hell_(DC_Comics)#Fiends&prop=links&pllimit=max&format=json', 'Xombi': 'https://en.wikipedia.org/w/api.php?action=query&prop=revisions&rvprop=content&titles=Xombi&prop=links&pllimit=max&format=json', 'Xov_(Action_Comics_242)': 'https://en.wikipedia.org/w/api.php?action=query&prop=revisions&rvprop=content&titles=Xov_(Action_Comics_242)&prop=links&pllimit=max&format=json', 'XS_(comics)': 'https://en.wikipedia.org/w/api.php?action=query&prop=revisions&rvprop=content&titles=XS_(comics)&prop=links&pllimit=max&format=json', 'International_Ultramarine_Corps#Founding_membership': 'https://en.wikipedia.org/w/api.php?action=query&prop=revisions&rvprop=content&titles=International_Ultramarine_Corps#Founding_membership&prop=links&pllimit=max&format=json', 'Hero_Hotline#Support_crew': 'https://en.wikipedia.org/w/api.php?action=query&prop=revisions&rvprop=content&titles=Hero_Hotline#Support_crew&prop=links&pllimit=max&format=json', '711_(Quality_Comics)': 'https://en.wikipedia.org/w/api.php?action=query&prop=revisions&rvprop=content&titles=711_(Quality_Comics)&prop=links&pllimit=max&format=json'}\n"
     ]
    }
   ],
   "source": [
    "DC_url_query_directory = createURLs(dc)\n",
    "print(DC_url_query_directory)"
   ]
  },
  {
   "cell_type": "code",
   "execution_count": 16,
   "metadata": {},
   "outputs": [],
   "source": [
    "# 3.1 create URL with given character_wiki_link\n",
    "# @returns NAME-> URL dict\n",
    "def createURLsPages(data_dir): \n",
    "    \n",
    "    url_query_list = {}\n",
    "    \n",
    "    for name,wiki in data_dir.items():\n",
    "        \n",
    "        character_wiki_link = data_dir[name]\n",
    "        \n",
    "        baseurl = \"https://en.wikipedia.org/w/api.php?\"\n",
    "        action = \"action=query\"\n",
    "        title = \"titles=\" + character_wiki_link\n",
    "        content = \"prop=revisions&rvprop=content\"\n",
    "        only_links = \"\"\n",
    "        dataformat =\"format=json\"\n",
    "        \n",
    "        query = \"{}{}&{}&{}&{}&{}\".format(baseurl, action, content, title,only_links, dataformat)\n",
    "        url_query_list[name] = query\n",
    "        \n",
    "    \n",
    "    return url_query_list\n",
    "\n",
    "url_query_directory_pages = createURLsPages(marvel)"
   ]
  },
  {
   "cell_type": "code",
   "execution_count": 23,
   "metadata": {
    "scrolled": true
   },
   "outputs": [
    {
     "name": "stdout",
     "output_type": "stream",
     "text": [
      "\n"
     ]
    }
   ],
   "source": [
    "# 4. Send request\n",
    "\n",
    "def sendWikiRequests(url_list):\n",
    "    response_wiki_dir = {}\n",
    "    #z = list(url_list.values())[1]\n",
    "    #name =  list(url_list.keys())[1]\n",
    "    \n",
    "    for name,url in url_list.items():\n",
    "        #'ascii' codec can't encode character\n",
    "       ## if 'ñ'in url:\n",
    "         #   continue\n",
    "        try:\n",
    "            wikiresponse = urllib.request.urlopen(url)\n",
    "            wikidata = wikiresponse.read()\n",
    "            #print(wikidata)\n",
    "            wikitext = wikidata.decode('utf-8')\n",
    "        \n",
    "        #if (wikitext.strip().startswith(\"<!DOCTYPE html>\")):\n",
    "            #continue\n",
    "        \n",
    "            wiki_json = json.loads(wikitext)\n",
    "            response_wiki_dir[name] = wiki_json\n",
    "        except:\n",
    "            pass\n",
    "        \n",
    "    return response_wiki_dir\n",
    "\n",
    "wiki_json_responses = sendWikiRequests(url_query_directory)"
   ]
  },
  {
   "cell_type": "code",
   "execution_count": 37,
   "metadata": {},
   "outputs": [],
   "source": [
    "DC_wiki_json_responses = sendWikiRequests(DC_url_query_directory)"
   ]
  },
  {
   "cell_type": "code",
   "execution_count": null,
   "metadata": {},
   "outputs": [],
   "source": [
    "# 4.1 Send request for full pages \n",
    "\n",
    "def sendWikiRequestsPages(url_list):\n",
    "    response_wiki_dir = {}\n",
    "    \n",
    "    for name,url in url_list.items():\n",
    "        print(url)\n",
    "        \n",
    "        try:\n",
    "            response = requests.get(url)\n",
    "            wikisource = response.json()\n",
    "            pages = wikisource['query']['pages']\n",
    "            \n",
    "            for page in pages.keys():\n",
    "                wikitext = pages[page]['revisions'][0][\"*\"]   \n",
    "            print(type(wikitext))\n",
    "            response_wiki_dir[name] = wikitext\n",
    "        except:\n",
    "            pass\n",
    "        \n",
    "    return response_wiki_dir\n",
    "\n",
    "wiki_responses_pages = sendWikiRequestsPages(url_query_directory_pages)\n",
    "print(wiki_responses)\n"
   ]
  },
  {
   "cell_type": "code",
   "execution_count": 33,
   "metadata": {},
   "outputs": [],
   "source": [
    "# Save to file\n",
    "import os.path\n",
    "\n",
    "def saveWikiJsonFiles(name_wiki,universe):\n",
    "    for name,wiki in name_wiki.items():\n",
    "        \n",
    "        save_path = str(universe)+'/'\n",
    "        name = name.replace('|','')\n",
    "        completeName = os.path.join(save_path, name+\".txt\")      \n",
    "        try:\n",
    "            with open(completeName, \"w\") as text_file:\n",
    "                    text_file.write(str(wiki))\n",
    "        except:\n",
    "            pass        "
   ]
  },
  {
   "cell_type": "code",
   "execution_count": 34,
   "metadata": {},
   "outputs": [],
   "source": [
    "saveWikiJsonFiles(wiki_json_responses, 'marvel')"
   ]
  },
  {
   "cell_type": "code",
   "execution_count": 38,
   "metadata": {},
   "outputs": [],
   "source": [
    "saveWikiJsonFiles(DC_wiki_json_responses, 'dc')"
   ]
  },
  {
   "cell_type": "markdown",
   "metadata": {},
   "source": [
    "# Part B: Building the networks\n"
   ]
  },
  {
   "cell_type": "code",
   "execution_count": 45,
   "metadata": {},
   "outputs": [],
   "source": [
    "def readWikiJsonFiles(name_wiki,universe):\n",
    "    \n",
    "    name_wiki_json = {}\n",
    "    \n",
    "    for name,wiki in name_wiki.items():\n",
    "        temp = []\n",
    "        save_path = str(universe)+'/'\n",
    "        completeName = os.path.join(save_path, name+\".txt\") \n",
    "        try:\n",
    "            with open(completeName, \"r\") as text_file:\n",
    "                f = text_file.read()\n",
    "                name_wiki_json[name] = json.loads(json.dumps(f))\n",
    "        except:\n",
    "            pass\n",
    "    \n",
    "    return name_wiki_json\n"
   ]
  },
  {
   "cell_type": "code",
   "execution_count": 46,
   "metadata": {},
   "outputs": [],
   "source": [
    "marvel_name_wiki = readWikiJsonFiles(wiki_json_responses, 'marvel')\n",
    "DC_name_wiki = readWikiJsonFiles(DC_wiki_json_responses, 'dc')\n",
    "\n"
   ]
  },
  {
   "cell_type": "code",
   "execution_count": 87,
   "metadata": {},
   "outputs": [],
   "source": [
    "\n",
    "# 5. extractLinks for each title,\n",
    "# @return array of names(links) to other pages\n",
    "def extractNodeNeighbors(directory):\n",
    "    \n",
    "    linkList = []\n",
    "    \n",
    "    for i in range(len(directory)):\n",
    "        ns = directory[i]['ns']\n",
    "        if(int(ns) != 0):\n",
    "            break\n",
    "        else:\n",
    "            title = directory[i]['title']\n",
    "            linkList.append(title)\n",
    "    \n",
    "    return linkList\n",
    "\n",
    "# 5.1 Check if site is redirect\n",
    "def checkIfRedirect(directory):\n",
    "    \n",
    "    for i in range(len(directory)):\n",
    "        ns = directory[i]['ns']\n",
    "        if(int(ns) == 4):\n",
    "            title = directory[i]['title']\n",
    "            if \"redirect\" in title: \n",
    "                print('redirect')\n",
    "                return 0\n",
    "            else:\n",
    "                return 1\n",
    "        else:\n",
    "            return 1\n",
    "\n",
    "def wiki_json_preprocessing(directory):\n",
    "    \n",
    "    name_neighbors = {}\n",
    "    \n",
    "    for name,value_json in directory.items():\n",
    "        try:\n",
    "            value_json = ast.literal_eval(value_json)\n",
    "        except:\n",
    "            continue\n",
    "        non_unique = value_json['query']['pages'].keys()\n",
    "        non_unique = next(iter(non_unique))\n",
    "        \n",
    "        try:    \n",
    "            link_dir = value_json['query']['pages'][non_unique]['links']\n",
    "        except:\n",
    "            continue\n",
    "        #check for redirect\n",
    "        \n",
    "        try:\n",
    "            if(checkIfRedirect(link_dir) == 0):\n",
    "                del directory[name]\n",
    "                continue\n",
    "        except:\n",
    "            pass\n",
    "        else:\n",
    "            node_neighbors = extractNodeNeighbors(link_dir)\n",
    "                \n",
    "        name_neighbors[name] = node_neighbors\n",
    "        \n",
    "    return name_neighbors      \n"
   ]
  },
  {
   "cell_type": "code",
   "execution_count": 118,
   "metadata": {},
   "outputs": [],
   "source": [
    "marvel_name_nodeLinks = wiki_json_preprocessing(marvel_name_wiki)\n",
    "DC_name_nodeLinks = wiki_json_preprocessing(DC_name_wiki)"
   ]
  },
  {
   "cell_type": "markdown",
   "metadata": {},
   "source": [
    "**For each link you extract, check if the target is a character from your DC/Marvel lists. If yes, keep it. If no, discard it.**"
   ]
  },
  {
   "cell_type": "code",
   "execution_count": 95,
   "metadata": {},
   "outputs": [],
   "source": [
    "def checkFromTargetUniverse(character_nodes, universe):\n",
    "    return list(set(character_nodes) & set(universe))"
   ]
  },
  {
   "cell_type": "code",
   "execution_count": 154,
   "metadata": {},
   "outputs": [],
   "source": [
    "# Marvel check\n",
    "\n",
    "\n",
    "def removeRandomCharacters(name_links): \n",
    "    summ = 0\n",
    "    \n",
    "    for name, links in name_links.items():\n",
    "        x_dc = checkFromTargetUniverse(links, dc)\n",
    "        x_marvel = checkFromTargetUniverse(links, marvel)\n",
    "        x_final = list(set().union(x_dc, x_marvel))\n",
    "        summ += len(x_final)\n",
    "        name_links[name] = x_final\n",
    "    \n",
    "    print('sum ', summ)\n",
    "    \n",
    "    return name_links\n",
    "\n"
   ]
  },
  {
   "cell_type": "code",
   "execution_count": 161,
   "metadata": {},
   "outputs": [
    {
     "name": "stdout",
     "output_type": "stream",
     "text": [
      "marvel\n",
      "sum  20871\n",
      "marvel nodes number :  1685\n",
      "dc\n",
      "sum  6691\n",
      "DC nodes number  425\n",
      "['Arkon', 'Hydro-Man', 'Attuma', \"Ch'od\", 'Intergang', 'Darkseid', 'Ghaur', 'Deadpool', 'Druig', 'Dormammu', 'Kaecilius', 'Ant-Man', 'Groot', 'Gamora', 'Clea', 'Immortus', 'Goom', 'Hulkling', 'Cyttorak', 'Hate-Monger', 'Kaluu', 'Galactus', 'Bekka', 'Giganto', 'Beyonder', 'Giant-Man', 'DeSaad', 'Ikaris', 'Air-Walker', 'Fandral', 'Charlie-27', 'Darkhawk', 'Hogun', 'Gorgilla', 'H.E.R.B.I.E.', 'J.A.R.V.I.S.', 'Blastaar']\n"
     ]
    }
   ],
   "source": [
    "print('marvel')\n",
    "marvel_name_nodeLinks = removeRandomCharacters(marvel_name_nodeLinks)\n",
    "print('marvel nodes number : ', len((marvel_name_nodeLinks)))\n",
    "print('dc')\n",
    "DC_name_nodeLinks = removeRandomCharacters(DC_name_nodeLinks)\n",
    "print('DC nodes number ', len((DC_name_nodeLinks)))\n",
    "\n",
    "print(marvel_name_nodeLinks['Annihilus'])"
   ]
  },
  {
   "cell_type": "code",
   "execution_count": null,
   "metadata": {},
   "outputs": [],
   "source": [
    "# NOT IMPORTANT FOR NOW"
   ]
  },
  {
   "cell_type": "code",
   "execution_count": null,
   "metadata": {},
   "outputs": [],
   "source": []
  },
  {
   "cell_type": "code",
   "execution_count": null,
   "metadata": {},
   "outputs": [],
   "source": [
    "def connectLinksPages(link_Directory,page_Directory):\n",
    "    for name, wiki in page_Directory.items():\n",
    "        print(name)\n",
    "        link_Directory[name].append('***' + wiki)\n",
    "    return link_Directory\n",
    "    "
   ]
  },
  {
   "cell_type": "code",
   "execution_count": null,
   "metadata": {},
   "outputs": [],
   "source": [
    "# adding pages content for later NLP \n",
    "name_nodeLinks = connectLinksPages (name_nodeLinks, wiki_responses_pages)"
   ]
  },
  {
   "cell_type": "markdown",
   "metadata": {},
   "source": [
    "#### Use a NetworkX DiGraph to store the network. As noted above, remember to store the properties of the nodes (i.e. from which universe they hail).\n"
   ]
  },
  {
   "cell_type": "code",
   "execution_count": 182,
   "metadata": {},
   "outputs": [],
   "source": [
    "# IMPORTS\n",
    "import networkx as nx"
   ]
  },
  {
   "cell_type": "code",
   "execution_count": 183,
   "metadata": {},
   "outputs": [],
   "source": [
    "# G.add_node('abc', dob=1185, pob='usa', dayob='monday')\n",
    "\n",
    "G = nx.DiGraph()\n",
    "\n",
    "G.add_nodes_from(marvel_name_nodeLinks.keys())\n",
    "G.add_nodes_from(DC_name_nodeLinks.keys())\n",
    "\n",
    "for name,connections in marvel_name_nodeLinks.items():\n",
    "    for i in range(len(connections)):\n",
    "        if(i == name):\n",
    "            continue\n",
    "        G.add_edge(name,connections[i])\n",
    "\n",
    "for name,connections in DC_name_nodeLinks.items():\n",
    "    for i in range(len(connections)):\n",
    "        if(i == name):\n",
    "            continue\n",
    "        G.add_edge(name,connections[i])\n"
   ]
  },
  {
   "cell_type": "code",
   "execution_count": 184,
   "metadata": {},
   "outputs": [
    {
     "name": "stdout",
     "output_type": "stream",
     "text": [
      "27562\n",
      "aaa\n",
      "\n"
     ]
    }
   ],
   "source": [
    "print(G.number_of_edges())\n",
    "print('aaa')\n",
    "print(G)"
   ]
  },
  {
   "cell_type": "code",
   "execution_count": 132,
   "metadata": {},
   "outputs": [
    {
     "name": "stdout",
     "output_type": "stream",
     "text": [
      "\n",
      "Top five  [('Spider-Man', 567), ('Deadpool', 542), ('Galactus', 525), ('Blastaar', 402), ('Annihilus', 398), ('Attuma', 396), ('Dormammu', 386), ('MODOK', 382), ('Ant-Man', 370), ('H.E.R.B.I.E.', 347), ('Groot', 343), ('Fandral', 339), ('Hate-Monger', 336), ('Hogun', 334), ('Air-Walker', 326), ('Clea', 326), ('Immortus', 325), ('Cyttorak', 314), ('Kaluu', 304), ('Giganto', 303), ('Man-Thing', 301), ('Punisher', 292), ('Machinesmith', 286), ('Giant-Man', 282), ('Hydro-Man', 281), ('Goom', 278), ('Kaecilius', 276), ('Mysterio', 273), ('She-Hulk', 262), ('Man-Beast', 244), ('Mentallo', 242), ('Druig', 241), ('Mangog', 238), ('Melter', 237), ('Gwenpool', 233), ('Gorgilla', 232), ('Ikaris', 232), ('Plantman', 216), ('Beyonder', 212), ('Demogoblin', 208), ('Monsteroso', 201), ('Gamora', 200), ('Darkhawk', 182), ('Psycho-Man', 181), (\"Ch'od\", 180), ('Korvac', 176), ('Super-Skrull', 173), ('Moondragon', 164), ('Man-Bull', 163), ('Trapster', 163)]\n",
      "\n",
      "\n",
      "\n"
     ]
    },
    {
     "data": {
      "image/png": "[encoded data removed]",
      "text/plain": [
       "<Figure size 432x288 with 1 Axes>"
      ]
     },
     "metadata": {
      "needs_background": "light"
     },
     "output_type": "display_data"
    }
   ],
   "source": [
    "import collections\n",
    "import matplotlib.pyplot as plt\n",
    "\n",
    "print(G)\n",
    "\n",
    "# All degrees\n",
    "degree_sequence = sorted([d for n, d in G.degree()], reverse=True)\n",
    "degree_count = collections.Counter(degree_sequence)\n",
    "degrees, counts = zip(*degree_count.items())\n",
    "\n",
    "\n",
    "top_five = sorted(G.degree(), key=lambda x:x[1], reverse=True)[:50]\n",
    "print(\"Top five \", top_five)\n",
    "print()\n",
    "print()\n",
    "print()\n",
    "# In degrees\n",
    "degree_sequence = sorted([d for n, d in G.in_degree()], reverse=True)\n",
    "degree_count = collections.Counter(degree_sequence)\n",
    "in_degrees, in_counts = zip(*degree_count.items())\n",
    "\n",
    "# Out degrees\n",
    "degree_sequence = sorted([d for n, d in G.out_degree()], reverse=True)\n",
    "degree_count = collections.Counter(degree_sequence)\n",
    "out_degrees, out_counts = zip(*degree_count.items())\n",
    "\n",
    "plt.plot(degrees, counts, 'ro')\n",
    "plt.show()\n",
    "\n",
    "# The graph is pretty correct, the only problem is that V and War and the two most popular characters: Because other's match V and War easily,"
   ]
  },
  {
   "cell_type": "markdown",
   "metadata": {},
   "source": [
    "# PART 2"
   ]
  },
  {
   "cell_type": "code",
   "execution_count": 181,
   "metadata": {},
   "outputs": [
    {
     "name": "stdout",
     "output_type": "stream",
     "text": [
      "aaa <class 'networkx.classes.digraph.DiGraph'>\n",
      "\n",
      "\n"
     ]
    }
   ],
   "source": [
    "subgraphs = [G.subgraph(c) for c in nx.weakly_connected_components(G)]\n",
    "\n",
    "# Probably not necessary to iterate\n",
    "GCC = subgraphs[0]\n",
    "print('aaa', type(GCC))\n",
    "print(GCC)\n",
    "for subgraph in subgraphs[1:]:\n",
    "    if subgraph.number_of_nodes() > GCC.number_of_nodes():\n",
    "        GCC = subgraph\n",
    "\n",
    "print(GCC)\n",
    "        \n",
    " # Universe attribute\n",
    "attributes_dict = {}\n",
    "for i in marvel_name_nodeLinks.keys():\n",
    "    attributes_dict[i] = \"dc\"\n",
    "\n",
    "for i in DC_name_nodeLinks.keys():\n",
    "    attributes_dict[i] = \"marvel\"\n",
    "\n",
    "nx.set_node_attributes(G, attributes_dict, name=\"universe\")\n"
   ]
  },
  {
   "cell_type": "code",
   "execution_count": 175,
   "metadata": {},
   "outputs": [
    {
     "name": "stdout",
     "output_type": "stream",
     "text": [
      "\n"
     ]
    }
   ],
   "source": [
    "GCC_undirected = GCC.to_undirected()\n",
    "print(GCC_undirected)"
   ]
  },
  {
   "cell_type": "code",
   "execution_count": null,
   "metadata": {},
   "outputs": [],
   "source": [
    "G"
   ]
  },
  {
   "cell_type": "code",
   "execution_count": null,
   "metadata": {},
   "outputs": [],
   "source": []
  },
  {
   "cell_type": "code",
   "execution_count": null,
   "metadata": {},
   "outputs": [],
   "source": []
  },
  {
   "cell_type": "code",
   "execution_count": null,
   "metadata": {},
   "outputs": [],
   "source": []
  },
  {
   "cell_type": "code",
   "execution_count": null,
   "metadata": {},
   "outputs": [],
   "source": []
  },
  {
   "cell_type": "code",
   "execution_count": null,
   "metadata": {},
   "outputs": [],
   "source": []
  },
  {
   "cell_type": "code",
   "execution_count": null,
   "metadata": {},
   "outputs": [],
   "source": []
  },
  {
   "cell_type": "code",
   "execution_count": null,
   "metadata": {},
   "outputs": [],
   "source": []
  },
  {
   "cell_type": "code",
   "execution_count": null,
   "metadata": {},
   "outputs": [],
   "source": []
  },
  {
   "cell_type": "code",
   "execution_count": null,
   "metadata": {},
   "outputs": [],
   "source": []
  },
  {
   "cell_type": "code",
   "execution_count": null,
   "metadata": {},
   "outputs": [],
   "source": []
  },
  {
   "cell_type": "code",
   "execution_count": null,
   "metadata": {},
   "outputs": [],
   "source": []
  },
  {
   "cell_type": "code",
   "execution_count": null,
   "metadata": {},
   "outputs": [],
   "source": []
  },
  {
   "cell_type": "code",
   "execution_count": null,
   "metadata": {},
   "outputs": [],
   "source": []
  },
  {
   "cell_type": "code",
   "execution_count": null,
   "metadata": {},
   "outputs": [],
   "source": []
  }
 ],
 "metadata": {
  "kernelspec": {
   "display_name": "Python 3",
   "language": "python",
   "name": "python3"
  },
  "language_info": {
   "codemirror_mode": {
    "name": "ipython",
    "version": 3
   },
   "file_extension": ".py",
   "mimetype": "text/x-python",
   "name": "python",
   "nbconvert_exporter": "python",
   "pygments_lexer": "ipython3",
   "version": "3.7.4"
  }
 },
 "nbformat": 4,
 "nbformat_minor": 5
}
