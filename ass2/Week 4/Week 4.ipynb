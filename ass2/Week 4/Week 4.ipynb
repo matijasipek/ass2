{
 "cells": [
  {
   "cell_type": "code",
   "execution_count": 92,
   "id": "5cd3db0b",
   "metadata": {},
   "outputs": [],
   "source": [
    "import pickle\n",
    "import pandas as pd\n",
    "import urllib.request\n",
    "import json\n",
    "import math \n",
    "import re\n",
    "from itertools import islice\n",
    "from urllib.parse import quote "
   ]
  },
  {
   "cell_type": "code",
   "execution_count": 97,
   "id": "17a7bb87",
   "metadata": {},
   "outputs": [],
   "source": [
    "# 1. Load names/wiki links dictionary\n",
    "dc = pickle.load( open( \"dc.pkl\", \"rb\" ) )\n",
    "marvel = pickle.load( open( \"marvel.pkl\", \"rb\" ) )\n",
    "\n",
    "# 2. Extract name / wiki link\n",
    "\n",
    "def clearDataset(dataset):\n",
    "    \n",
    "    wiki_links_n = {}\n",
    "    \n",
    "    for i in range(len(dataset)):\n",
    "        single_link = dataset['WikiLink'].iloc[i]\n",
    "        single_name = dataset['CharacterName'].iloc[i]        \n",
    "        \n",
    "        if(isinstance(single_link, float)):\n",
    "            continue\n",
    "        wiki_links_n[single_name] = single_link.replace(\" \", \"_\")\n",
    "    \n",
    "    return wiki_links_n\n",
    "\n",
    "#print(clearDataset(marvel))\n",
    "marvel_cleaned_data_dir = clearDataset(marvel.head())\n",
    "dc_cleaned_data_dir = clearDataset(dc)"
   ]
  },
  {
   "cell_type": "code",
   "execution_count": 132,
   "id": "c9e65a05",
   "metadata": {},
   "outputs": [],
   "source": [
    "# 3. create URL with given character_wiki_link\n",
    "# @returns NAME-> URL dict\n",
    "def createURLs(data_dir): \n",
    "    \n",
    "    url_query_list = {}\n",
    "    \n",
    "    for name,wiki in data_dir.items():\n",
    "        \n",
    "        character_wiki_link = data_dir[name]\n",
    "        \n",
    "        baseurl = \"https://en.wikipedia.org/w/api.php?\"\n",
    "        action = \"action=query\"\n",
    "        title = \"titles=\" + character_wiki_link\n",
    "        content = \"prop=revisions&rvprop=content\"\n",
    "        only_links = \"prop=links&pllimit=max\"\n",
    "        dataformat =\"format=json\"\n",
    "        \n",
    "        query = \"{}{}&{}&{}&{}&{}\".format(baseurl, action, content, title,only_links, dataformat)\n",
    "        url_query_list[name] = query\n",
    "        \n",
    "    \n",
    "    return url_query_list\n",
    "\n",
    "url_query_directory = createURLs(marvel_cleaned_data_dir)\n",
    "#print(url_query_directory)"
   ]
  },
  {
   "cell_type": "code",
   "execution_count": 157,
   "id": "e6314c76",
   "metadata": {},
   "outputs": [],
   "source": [
    "# 3.1 create URL with given character_wiki_link\n",
    "# @returns NAME-> URL dict\n",
    "def createURLsPages(data_dir): \n",
    "    \n",
    "    url_query_list = {}\n",
    "    \n",
    "    for name,wiki in data_dir.items():\n",
    "        \n",
    "        character_wiki_link = data_dir[name]\n",
    "        \n",
    "        baseurl = \"https://en.wikipedia.org/w/api.php?\"\n",
    "        action = \"action=query\"\n",
    "        title = \"titles=\" + character_wiki_link\n",
    "        content = \"prop=revisions&rvprop=content\"\n",
    "        only_links = \"\"\n",
    "        dataformat =\"format=json\"\n",
    "        \n",
    "        query = \"{}{}&{}&{}&{}&{}\".format(baseurl, action, content, title,only_links, dataformat)\n",
    "        url_query_list[name] = query\n",
    "        \n",
    "    \n",
    "    return url_query_list\n",
    "\n",
    "url_query_directory_pages = createURLsPages(marvel_cleaned_data_dir)\n"
   ]
  },
  {
   "cell_type": "code",
   "execution_count": 158,
   "id": "36d93aba",
   "metadata": {
    "scrolled": true
   },
   "outputs": [
    {
     "name": "stdout",
     "output_type": "stream",
     "text": [
      "\n"
     ]
    }
   ],
   "source": [
    "# 4. Send request\n",
    "\n",
    "def sendWikiRequests(url_list):\n",
    "    response_wiki_dir = {}\n",
    "    #z = list(url_list.values())[1]\n",
    "    #name =  list(url_list.keys())[1]\n",
    "    \n",
    "    for name,url in url_list.items():\n",
    "        #'ascii' codec can't encode character\n",
    "       ## if 'ñ'in url:\n",
    "         #   continue\n",
    "        try:\n",
    "            wikiresponse = urllib.request.urlopen(url)\n",
    "            wikidata = wikiresponse.read()\n",
    "            #print(wikidata)\n",
    "            wikitext = wikidata.decode('utf-8')\n",
    "        \n",
    "        #if (wikitext.strip().startswith(\"<!DOCTYPE html>\")):\n",
    "            #continue\n",
    "        \n",
    "            wiki_json = json.loads(wikitext)\n",
    "            response_wiki_dir[name] = wiki_json\n",
    "        except:\n",
    "            pass\n",
    "        \n",
    "    return response_wiki_dir\n",
    "\n",
    "wiki_json_responses = sendWikiRequests(url_query_directory)\n",
    "\n",
    "#print(list(wiki_json_responses.values())[0])\n",
    "#print(type(wiki_json_responses))\n",
    "\n",
    "print()\n",
    "x = next(iter( wiki_json_responses.values() ))\n",
    "#print(x)\n",
    "\n"
   ]
  },
  {
   "cell_type": "code",
   "execution_count": 159,
   "id": "a196bb9f",
   "metadata": {},
   "outputs": [
    {
     "name": "stdout",
     "output_type": "stream",
     "text": [
      "https://en.wikipedia.org/w/api.php?action=query&prop=revisions&rvprop=content&titles=Abomination_(character)&&format=json\n",
      "<class 'str'>\n",
      "https://en.wikipedia.org/w/api.php?action=query&prop=revisions&rvprop=content&titles=Absorbing_Man&&format=json\n",
      "<class 'str'>\n",
      "{'Abomination': '{{For|the biblical term|Abomination (Bible)}}\\n{{Short description|Marvel Comics fictional character}}\\n{{Infobox comics character\\n<!--Wikipedia:WikiProject Comics-->\\n| image   = Abomination (Emil Blonsky).jpg\\n| converted= y\\n| caption = Textless cover of \\'\\'[[Hulk (comic book)|Immortal Hulk]]\\'\\' #22 (Aug. 2019).<br>Art by [[Ryan Brown (comics)|Ryan Brown]]\\n| character_name = Abomination\\n| publisher = [[Marvel Comics]]\\n| debut   = \\'\\'[[Tales to Astonish]]\\'\\' #90 (April 1967)\\n| creators = [[Stan Lee]]<br>[[Gil Kane]]\\n| alter_ego = Emil Blonsky\\n| full_name =\\n| species = Human mutate\\n| homeworld =\\n| alliances =[[KGB]]<br/>[[Advanced Idea Mechanics|A.I.M]]<br/>Legion Accursed<br/>[[Masters of Evil]]<br/>[[Lethal Legion]]<br/>Green Spring\\n| partners = [[Leader (character)|Leader]]\\n| aliases = Agent R-7<br/> The Ravager of Worlds<br/> Subject B\\n| supports =<!--optional-->\\n| powers  =\\n*[[Superhuman strength]], stamina, durability, speed, and senses\\n*[[Regeneration (biology)|Regeneration]]\\n*Underwater breathing \\n*Gamma energy control\\n| cat     = superheroes\\n| subcat  = Marvel Comics\\n| hero    =\\n| villain = y\\n| sortkey = Abomination (comics)\\n|}}\\nThe \\'\\'\\'Abomination\\'\\'\\' is a [[fictional character|<!-- Please do not specify what type of character you think. Categories like \"superhero\" & \"supervillian\" are subjective. It\\'s better to use a generic term and let the reader decide for themselves.--> fictional character]]<!--DO NOT ADD ARCHENEMY OF THE HULK, USE THE TALK PAGE.--> appearing in [[American comic book]]s published by [[Marvel Comics]]. The original and best known iteration is \\'\\'\\'Emil Blonsky\\'\\'\\', who first appeared in \\'\\'[[Tales to Astonish]]\\'\\' #90 (April 1967) and was created by writer [[Stan Lee]] and artist [[Gil Kane]]. He is one of the main enemies of the [[superhero]] [[Hulk]], and possesses powers similar to his after also being exposed to [[Gamma ray|gamma rays]].<ref>{{cite book |last1=Brevoort |first1=Tom |last2=DeFalco |first2=Tom |last3=Manning |first3=Matthew K. |last4=Sanderson |first4=Peter |last5=Wiacek |first5=Win |title=Marvel Year By Year: A Visual History |date=2017 |publisher=DK Publishing |isbn=978-1465455505 |page=121}}</ref>\\n\\nDebuting in the [[Silver Age of Comic Books]], the character has been featured in other Marvel-endorsed products such as arcade and [[video game]]s, [[television series]], merchandise such as [[action figure]]s and [[trading card]]s. [[Tim Roth]] portrays [[Emil Blonsky (Marvel Cinematic Universe)|Emil Blonsky / The Abomination]] in the live-action [[Marvel Cinematic Universe]] films \\'\\'[[The Incredible Hulk (film)|The Incredible Hulk]]\\'\\' (2008) and \\'\\'[[Shang-Chi and the Legend of the Ten Rings]]\\'\\' (2021) and the [[Disney+]] series \\'\\'[[She-Hulk: Attorney at Law]]\\'\\' (2022). In 2009, the Abomination was ranked as [[IGN]]\\'s 54th-greatest [[comic book]] villain of all time.<ref>[http://comics.ign.com/top-100-villains/54.html \"Abomination is number 54\"] {{webarchive |url=https://web.archive.org/web/20090511133106/http://comics.ign.com/top-100-villains/54.html |date=May 11, 2009 }}. [[IGN]]. Retrieved June 3, 2012.</ref>\\n\\n==Publication history==\\n[[Stan Lee]] chose the name \"the Abomination\", which he realized belonged to no other character, before conceiving the character\\'s background and appearance. Lee recalled that he simply told the artist [[Gil Kane]] to \"make him bigger and stronger than the [[Hulk]] and we\\'ll have a lot of fun with him.\"<ref>{{Cite news|author=Tim Lammers |title=Stan Lee Pumped Over Return Of \\'Incredible Hulk\\' |work=[[KCRA-TV]] |date=2008-06-11 |url=http://www.kcra.com/entertainment/16574962/detail.html |access-date=2008-06-24 |url-status=dead |archive-url=https://web.archive.org/web/20081013230843/http://www.kcra.com/entertainment/16574962/detail.html |archive-date=2008-10-13 }}</ref>\\n\\nEmil Blonsky first appeared in \\'\\'[[Tales to Astonish]]\\'\\', and was introduced as a [[KGB]] agent and spy<ref>{{Cite book|title=The Marvel Encyclopedia|last=DeFalco|first=Tom|year= 2006|publisher=Dorling Kindersley|isbn=978-0-7566-2358-6|page=8}}</ref> who became the Abomination after deliberately exposing himself to a greater quantity of the same gamma radiation that transformed Bruce Banner into his [[alter ego]] the Hulk, using a machine Banner was planning on using to commit suicide. In his first appearance, Blonsky became a large scaly humanoid even stronger than the Hulk.<ref>{{cite book |last1=Wells |first1=John |title=American Comic Book Chronicles: 1965-1969 |date=2014 |publisher=TwoMorrows Publishing |isbn=978-1605490557 |page=185}}</ref> In accordance with Lee\\'s wishes, the character defeated the Hulk in their first battle.<ref name=\"Astonish\\' 1967\">\\'\\'Tales to Astonish\\'\\' #90–91 (April–May 1967). Marvel Comics.</ref>\\n\\nThe character has been featured in a number of Marvel titles, gradually shifting from unthinking, savage brute,<ref name=\"Astonish\\' 1967\"/> to master schemer,<ref name=\"Thor #178 July 1970\">\\'\\'The Mighty Thor\\'\\' #178 (July 1970). Marvel Comics.</ref> to tortured soul,<ref name=\"Hulk\\' 1991\">\\'\\'The Incredible Hulk\\'\\' vol. 2 #382–384 (June–Aug. 1991). Marvel Comics.</ref> and finally repentant villain and occasional defender of the weak<ref>\\'\\'The Incredible Hulk\\'\\' vol. 2 #431–432 (July–Aug. 1995). Marvel Comics</ref> before being killed in battle by the [[Thunderbolt Ross|Red Hulk]].<ref name=\"Hulk\\' 2008\">\\'\\'Hulk\\'\\' vol. 2 #1–2 (Feb.–March 2008). Marvel Comics.</ref>\\n\\n==Fictional character biography==\\nEmil Blonsky was born in [[Zagreb]] (now the capital and largest city of [[Croatia]], then part of [[Yugoslavia]]) and became a [[KGB]] agent who infiltrated an Air Force Base in New Mexico where Dr. Bruce Banner was attempting to kill the Hulk through overexposure to gamma rays. Blonsky triggers Banner turning into the Hulk, subsequently becoming a hideous lizard-like creature himself.<ref>\\'\\'Tales to Astonish\\'\\' #89 (April 1967). Marvel Comics.</ref><ref>{{cite book |last =Rovin |first =Jeff |title =[[The Encyclopedia of Super-Villains]] |publisher =Facts on File |date =1987 |location =New York |isbn = 0-8160-1356-X |page=1}}</ref>\\n\\nThe Abomination reappears when summoned by a [[coven]] of [[witches]] to briefly battle the cosmic hero the [[Silver Surfer]]<ref>\\'\\'Silver Surfer\\'\\' #12 (Jan. 1970). Marvel Comics.</ref> and summons [[Thor (Marvel Comics)|Thor]] (via an absent Stranger\\'s technology) to aid him in escaping the Stranger\\'s laboratory world. Thor frees the Abomination and the other captives, but, on discovering they are all evil, uses his mystic hammer [[Mjolnir (comics)|Mjolnir]] to [[time travel]] several hours into the past to undo his mistake. After defeating the Abomination and placing the Abomination in prison, Thor departs.<ref name=\"Thor  #178 July 1970\"/> When the Hulk is defeated by the alien Xeron the Star Slayer and brought aboard a space vessel, the Abomination is revealed to be [[Chief mate|First Mate]] of the alien crew. When the captain of the vessel directs Xeron and the crew to battle a creature in space, the Hulk and the Abomination are thrown from the vessel and battle until the pair are drawn into Earth\\'s [[orbit]] and separated.<ref>\\'\\'The Incredible Hulk\\'\\' vol. 2 #136–137 (March–April 1971). Marvel Comics.</ref>\\n\\nIt is revealed in [[Flashback (narrative)|flashback]] that the Abomination entered into a [[coma]]-like state upon impacting with Earth and is buried for two years. Revived by an off-course [[missile]] fired from [[Hulkbusters|Hulkbuster]] Base (under Ross\\'s jurisdiction), the Abomination joins forces with General Ross to defeat the Hulk, but is battered into submission by an angered Hulk.<ref>\\'\\'The Incredible Hulk\\'\\' vol. 2 #159 (Jan. 1973). Marvel Comics.</ref> The Abomination reappears with fellow Hulk foe the [[Rhino (character)|Rhino]], and the pair activates a gamma bomb at the Hulkbuster base in an attempt to destroy the Hulk. The Hulk\\'s companion of the time, [[Jim Wilson (comics)|Jim Wilson]], deactivates the bomb and the Hulk tricks the villains during combat, forcing them to collide and knock each other [[Unconsciousness|unconscious]].<ref>\\'\\'The Incredible Hulk\\'\\' vol. 2 #171 (Jan. 1974). Marvel Comics.</ref> A comatose Abomination is eventually found by soldiers at Ross\\'s direction and has a miniature bomb implanted in his [[Human skull|skull]], being told to fight and defeat the Hulk or be killed. The Abomination tricks the Hulk into an alliance and betrays Ross by attempting to [[ransom]] the captured [[Kennedy Space Center]]. The plan fails when the Hulk turns on the Abomination and the pair fight, with the Abomination being caught on a [[rocket]] when it explodes.<ref>\\'\\'The Incredible Hulk\\'\\' vol. 2 #194–196 (Dec. 1975–Feb. 1976). Marvel Comics.</ref>\\n\\nAn [[illusion]] of the Abomination also appears with illusions of other Hulk foes when the Hulk (at the time possessing the intelligence of Banner, thanks to being made to a device called the Encephalo-Helmet) enters the [[brain]] of [[Colonel]] [[Glenn Talbot]] at [[Microscopic scale|microscopic]] size to excise a [[mental block]] placed in Talbot\\'s mind by the [[Gremlin (comics)|Gremlin]].<ref>\\'\\'The Incredible Hulk\\'\\' vol. 2 #200 (June 1976). Marvel Comics.</ref>\\n\\nThe Abomination eventually reappears as a servant of the alien entity the [[Galaxy Master]], having been empowered with even greater strength. After another extended battle with the Hulk, the Hulk attacks and destroys the Galaxy Master, causing the Abomination to weaken and apparently become lost in [[Outer space|space]].<ref>\\'\\'The Incredible Hulk\\'\\' vol. 2 #270 (April 1982). Marvel Comics.</ref> When [[MODOK]] invades Hulkbuster Base, he colludes with General Ross to revive the Abomination, who was found in a block of ice above Earth and kept in [[cryogenic]] storage for further study. MODOK intends to use the Abomination against his superiors at [[Advanced Idea Mechanics|A.I.M.]], while Ross wants to use him to destroy the Hulk. The Abomination, however, has become afraid of the Hulk as a result of their past battles and has to be mentally forced by MODOK to even \\'\\'fight\\'\\' the Hulk. MODOK, however, is ousted by A.I.M., and a hesitant Abomination is beaten by the Hulk when he intervenes to save Banner\\'s laboratory assistant. The Abomination refuses to rejoin the fight, and is disintegrated by MODOK.<ref>\\'\\'The Incredible Hulk\\'\\' vol. 2 #287–290 (Sept.–Nov. 1983). Marvel Comics.</ref>\\n\\nDuring the \\'\\'[[Secret Wars II]]\\'\\' storyline, the Abomination is restored by the demon-lord [[Mephisto (Marvel Comics)|Mephisto]], who directs the Abomination and other villains against the cosmic entity the [[Beyonder]] as a member of the Legion Accursed.<ref>\\'\\'Secret Wars II\\'\\' #1–9 (July 1985–March 1986). Marvel Comics.</ref>\\n\\nThe restoration is temporary, as a still-disembodied Abomination\\'s atoms mingle with the disembodied atoms of the villain [[Tyrannus (comics)|Tyrannus]], who reintegrates the Abomination\\'s body and places it under his mind\\'s control. Tyrannus, as the Abomination, then comes into conflict with the Gray Hulk, and quickly defeats the weaker version of their foe. When the Hulk reverts to Banner, Tyrannus forces him to create a procedure that will remove Blonsky\\'s mind, who is mentally fighting Tyrannus\\' mind for control of the Abomination\\'s body. The process is successful and Blonksy is restored to his human form, free of Tyrannus, whose mind is still occupying the form of the Abomination. An enraged Gray Hulk defeats Tyrannus, who is placed into custody by the organization [[S.H.I.E.L.D.]]<ref>\\'\\'The Incredible Hulk\\'\\' vol. 2 Annual #15 (Jan. 1986). Marvel Comics.</ref>\\n\\nAfter encounters against [[Avengers (comics)|Avengers]] [[Wonder Man]]<ref>\\'\\'West Coast Avengers\\'\\' #25 (Oct. 1987). Marvel Comics.</ref> and [[Hawkeye (Clint Barton)|Hawkeye]],<ref>\\'\\'Solo Avengers\\'\\' #12 (Nov. 1988). Marvel Comics.</ref> the Tyrannus-controlled Abomination reappears during the \"[[Atlantis Attacks]]\" storyline with the [[Deviant (comics)|Deviant]] [[Ghaur]] freeing Tyrannus from the body of the Abomination by restoring Tyrannus\\' mind to a duplicate of his own body and placing Blonsky\\'s mind within the Abomination\\'s body once more. The process drives Blonksy insane, and he battles heroes [[Spider-Man]] and the [[She-Hulk]], managing to knock both unconscious. The Abomination is eventually driven off when set on fire by the She-Hulk.<ref>\\'\\'The Amazing Spider-Man\\'\\' Annual #23 (1989). Marvel Comics.</ref> The Abomination\\'s mental faculties eventually return and the Abomination reappears in the \"Countdown\" storyline as a pawn of another Hulk foe, the [[Leader (character)|Leader]]. The Abomination is sent to a [[toxic waste]] site to collect samples and encounters the gray version of the Hulk again, who is outmatched and also weak due to being [[poison]]ed. The Hulk, however, throws the Abomination into toxic waste that partially dissolves and horribly scars the Abomination.<ref>\\'\\'The Incredible Hulk\\'\\' vol. 2 #364–367 (Dec. 1989–March 1990). Marvel Comics.</ref>\\n\\nThe Abomination temporarily teams with villains [[Mary MacPherran|Titania]] and [[Gargantua (comics)|Gargantua]]<ref>\\'\\'The Incredible Hulk\\'\\' Annual #19 (Jan. 1991). Marvel Comics.</ref> and finds and stalks his former wife, Nadia (a famous [[ballet]] dancer). The Abomination captures her and after taking her into the New York City sewers, reveals his true identity. After a brief skirmish, the Hulk persuades the Abomination to free his wife.<ref name=\"Hulk\\' 1991\"/>\\n\\nThe Abomination is also captured by the [[robot]] [[Sentinel (comics)|Sentinel]]s, but is eventually freed by the [[X-Men]].<ref>\\'\\'Marvel Super-Heroes\\'\\' vol. 2 #6–8 (July, Oct. and Dec. 1991). Marvel Comics.</ref>\\n\\nAfter befriending a woman who finds her way into the sewers,<ref>\\'\\'The Incredible Hulk\\'\\' Annual #20 (Jan. 1994). Marvel Comics.</ref> the Abomination battles [[Namor|Namor the Sub-Mariner]] during an attempt to save his kidnapped former wife.<ref>\\'\\'Namor, the Sub-Mariner\\'\\' #58–59 (Jan.–Feb. 1995). Marvel Comics.</ref> The Abomination retaliates against the [[NYPD]] when the [[Police Commissioner]] orders the sewers be cleared of all homeless, who the Abomination has placed under his protection. After killing several police officers, he is eventually driven away when confronted by the Hulk.<ref>\\'\\'The Incredible Hulk\\'\\' vol. 2 #431–432 (July–Aug. 1995). Marvel Comics.</ref> The Abomination battles the mutant [[Nate Grey]] (who is searching the sewers for his lover and fellow mutant [[Threnody]], who had been one of the homeless followers of the Abomination), who uses his mental abilities to trick the Abomination in thinking that he defeated Grey.<ref>\\'\\'X-Man\\'\\' vol. 2 #19–20 (Sept.–Oct. 1996). Marvel Comics.</ref> He battles a [[delusion]]al Hulk<ref>\\'\\'The Incredible Hulk\\'\\' vol. 2 #459 (Dec. 1997). Marvel Comics.</ref> before encountering the [[Warren Worthington III|Angel]] when the mutant visits the sewers in which he was once captured and maimed during the \"[[Fall of the Mutants]]\" storyline.<ref>\\'\\'X-Men\\'\\' #74 (April 1998). Marvel Comics.</ref>\\n\\nWhen [[Betty Ross]] dies in the title \\'\\'Hulk\\'\\', Banner mistakenly thinks her proximity to the Hulk has induced a fatal case of [[radiation poisoning]].<ref>\\'\\'The Incredible Hulk\\'\\' vol. 2 #468 (Sept. 1998). Marvel Comics.</ref> Using a gamma device, a vindictive General Ross tracks what he believes to be the Hulk to a destroyed town, where the Abomination reveals he was the true culprit. Despite baiting a newly arrived Hulk, the Abomination is unable to force the Hulk to fight and departs.<ref>\\'\\'The Incredible Hulk\\'\\' vol. 2 #472–474 (Jan.–March 1999). Marvel Comics.</ref>\\n\\nThe circumstances of Betty\\'s death are eventually revealed: Blonksy\\'s transformation into the Abomination apparently alienates his former wife Nadia, driving his hatred of Banner; Blonsky, deciding to deprive Banner of Betty in return, secretly [[poison]]s her with his radioactive blood. After hearing the Abomination\\'s admission, Banner eventually discovers the truth and the Hulk defeats the Abomination in combat. Taken into custody by the military, Blonsky is forced to watch old [[home movie]]s of him and his wife together (prior to his transformation) as punishment.<ref>\\'\\'The Incredible Hulk\\'\\' vol. 3 #24–25 (March–April 2001). Marvel Comics.</ref> Operatives from a secret organization \"Home Base\" eventually release the Abomination to battle the Hulk, and although able to taunt the Hulk about Betty\\'s murder, he is defeated once again.<ref>\\'\\'The Incredible Hulk\\'\\' vol. 3 #50–54 (March–July 2003). Marvel Comics.</ref> This encounter is later revealed to be a [[dream]] generated by longtime [[Doctor Strange]] foe [[Nightmare (Marvel Comics)|Nightmare]] in an effort to torture the Hulk.<ref>\\'\\'The Incredible Hulk\\'\\' vol. 3 #81 (July 2005). Marvel Comics.</ref>\\n\\nAfter a humorous encounter with the [[demigod]] [[Hercules (Marvel Comics)|Hercules]], in which the Abomination is chosen as an adversary for the hero while he completes the modern version of the 12 [[Labours of Hercules]],<ref>\\'\\'Hercules\\'\\' vol. 3 #1–3 (June–Aug. 2005) and 4–5 (Sept. 2005). Marvel Comics.</ref> the Abomination is pardoned and employed by the U.S. government as a [[hit man]] against hostile foreign powers.<ref>\\'\\'Hulk: Destruction\\'\\' #1–4 (Sept.–Dec. 2005). Marvel Comics.</ref> The Abomination is also a conflicted opponent for the heroine the [[She-Hulk]] (currently employed by the [[Espionage|spy]] organization [[S.H.I.E.L.D.]]).<ref>\\'\\'She-Hulk\\'\\' vol. 2 #15 and 17 (March and May 2007). Marvel Comics.</ref> The Abomination has a subtle but significant role in the \\'\\'[[World War Hulk]]\\'\\' storyline,<ref>\\'\\'Incredible Hulk: Prelude To Planet Hulk\\'\\' #1 (Jan. 2006). Marvel Comics.</ref> being the source of gamma-irradiated [[DNA]] that allows the creation of an anti-Hulk response team.<ref>\\'\\'World War Hulk: Gamma Files\\'\\' #1 (Aug. 2007). Marvel Comics.</ref><ref>\\'\\'World War Hulk – Gamma Corps\\'\\'  #1–3 (Sept.–Nov. 2007) and 4 (Jan. 2008). Marvel Comics.</ref>\\n\\nThe Abomination reappears after the events of \\'\\'World War Hulk\\'\\', encountering a new foe called the [[Red Hulk]]. This new opponent savagely beats, shoots, and kills the Abomination.<ref name=\"Hulk\\' 2008\"/> Later on, it is revealed that the Abomination\\'s killer, the Red Hulk, is actually General Ross\\'s gamma-powered alter ego; he killed Blonsky as an act of revenge for his deliberate gamma poisoning (and later death) of Ross\\'s daughter Betty.<ref>\\'\\'Hulk\\'\\' vol. 2 #23. Marvel Comics.</ref>\\n\\nDuring the \"[[Dark Reign (comics)|Dark Reign]]\" storyline, the Abomination is among the dead characters present at [[Zeus (Marvel Comics)|Zeus]]\\'s trial.<ref>\\'\\'The Incredible Hercules\\'\\' #129. Marvel Comics.</ref> Abomination reappears in the court of [[Pluto (Marvel Comics)|Pluto]], attacking the [[Olympians (Marvel Comics)|Olympian]] god when he loses power over the dead.<ref>\\'\\'The Incredible Hercules\\'\\' #130–132 (Aug.–Sep. 2009). Marvel Comics.</ref>\\n\\nDuring the \"[[Chaos War]]\" storyline, the Abomination is among the dead characters in the Underworld that Pluto liberated in order to help defend the Underworld from [[Amatsu-Mikaboshi (character)|Amatsu-Mikaboshi]].<ref>\\'\\'Chaos War\\'\\' #2. Marvel Comics.</ref> The Abomination fights the Hulk and his allies until [[Marlo Chandler]] taps into the [[Death (Marvel Comics)|Death]] essence within her to destroy his undead body.<ref>\\'\\'The Incredible Hulks\\'\\' #620. Marvel Comics.</ref>\\n\\nA shadow organization (later revealed to be the Order of the Shield)<ref>\\'\\'Hulk\\'\\' vol. 3 #8 (Nov. 2014). Marvel Comics</ref> bent on gaining control of the Hulk harvests biological material from a mortally wounded Bruce Banner. After Banner regains consciousness following the experiment and escapes as the Hulk, the organization uses this material to resurrect the Abomination under their control, leaving him \"free of a mind or a conscience\" and with an ability to seek out Banner/the Hulk for retrieval.<ref>\\'\\'Hulk\\'\\' vol. 3 #1–2 (April–May 2014). Marvel Comics</ref> The Hulk defeats the Abomination yet again with the aid of the Avengers. [[Iron Man]] uses technology taken from the Order of the Shield agents to teleport the Abomination into interplanetary space estimated to be \"somewhere in the vicinity of [[Jupiter]]\".<ref>\\'\\'Hulk\\'\\' vol. 3 #3–4 (June–July 2014). Marvel Comics.</ref>\\n\\nTissue samples of the Abomination were later used by the U.S. Hulk Operations to graft to the corpse of Rick Jones that revives him as an Abomination/A-Bomb-like creature that Dr. Charlene McGowan calls Subject B.<ref>\\'\\'The Immortal Hulk\\'\\' #17. Marvel Comics.</ref>\\n\\nAfter ripping Rick Jones from Subject B\\'s body in a brutal battle, Hulk Operations Commanding Officer General Reginald Fortean teleports to Gamma Flight Headquarters in space, killing Sasquatch and temporarily killing Doctor Samson to retrieve the Subject B husk. Fortean then willingly fuses himself with the body.<ref>\\'\\'The Immortal Hulk\\'\\' #21. Marvel Comics.</ref>\\n\\nAfter returning to Earth, Abomination started his own company called Green Spring which makes gamma mutates. After finding a depowered [[Skaar (comics)|Skaar]], Abomination had him repowered and sent him to retrieve Stockpile.<ref>\\'\\'Gamma Flight\\'\\' #1. Marvel Comics.</ref> After Skaar\\'s mission led to his encounter with [[Gamma Flight]] and the U.S. Hulkbuster Force, Abomination and Dr. Aliana Alba were shown to have watched the fight and commented on the powers of the gamma mutates that was shown off.<ref>\\'\\'Gamma Flight\\'\\' #2. Marvel Comics.</ref>\\n\\nDuring the \"[[Devil\\'s Reign]]\" storyline, Abomination appears as a member of the Thunderbolts and shows up to stop Jessica Jones and the [[Champions (2016 team)|Champions]] from interfering in the Thunderbolts\\' apprehension of most of the Purple Children. As Jessica notes that Abomination would not normally be someone to work for Mayor [[Kingpin (character)|Wilson Fisk]], Abomination states that Mayor Fisk has the information that he seeks.<ref>\\'\\'Devil\\'s Reign\\'\\' #5. Marvel Comics.</ref> The recruitment of Abomination was the result of [[Rhino (character)|Rhino]] leaving the group as he crossed the line of hunting children.<ref>\\'\\'Devil\\'s Reign: Villains for Hire\\'\\' #3. Marvel Comics.</ref>\\n\\n==Powers and abilities==\\nThe Abomination is similar to the Hulk in terms of strength, stamina, speed, and durability, including his healing factor. In contrast with the Hulk, he retains his intellect after transforming, and cannot change back into human form. He also possesses [[gills]], enabling him to breathe underwater. Due to extreme pain, cold, or bereft of [[oxygen]], he could enter into suspended animation for long periods. Initially, the Abomination is twice as strong as the Hulk, but unlike the Hulk, his strength does not increase/decrease in proportion to level of rage, with result that the Hulk is able to gain an advantage over the Abomination if the fight takes a sufficient amount of time for him to unleash his anger.\\n\\nAfter being empowered by Amatsu-Mikaboshi, an [[undead]] Abomination is considerably larger than before. Formerly, he could project hellfire and was strong enough to rip an armored shell off of his successor [[Rick Jones (character)#Becoming A-Bomb|A-Bomb]] (something that even the Red Hulk had previously been unable to do).<ref>\\'\\'The Incredible Hulk\\'\\' vol. 2 #618–619. Marvel Comics. Marvel Comics.</ref> After his second resurrection by this Illuminati-dubbed Order of the Shield, a cloned Abomination gains more augmentation through Banner\\'s biological grafts. Currently, he has the ability to track down the Hulk anywhere at will.<ref>\\'\\'Hulk\\'\\' vol. 3 #2 (May 2014). Marvel Comics.</ref> Another feature for him is also to manipulate his own gamma ray output in such a way that he can make it toxic and overwhelm the most resilient of individuals, including energy absorbers such as the Hulk, [[Captain Marvel (Marvel Comics)|Captain Marvel]], and [[Sunspot (Marvel Comics)|Sunspot]].<ref>\\'\\'Hulk\\'\\' vol. 3 #4 (July 2014). Marvel Comics.</ref>\\n\\n==Imitators==\\n===Abominatrix===\\nThe \\'\\'\\'Abominatrix\\'\\'\\' is a female counterpart of the Abomination. Florence Sharples was the manager at Jasper Keaton\\'s savings and loans company. She became the Abominatrix due to a failed medical experiment done by Jasper Keaton\\'s medical facility and fought the She-Hulk.<ref>\\'\\'She-Hulk\\'\\' #21–23. Marvel Comics.</ref><ref>{{Marvunapp|http://www.marvunapp.com/Appendix/abomtrix.htm|Abominatrix}}</ref>\\n\\n===Teen Abomination===\\nThe \\'\\'\\'[[Teen Abomination]]\\'\\'\\' is a 13-year-old boy who was exposed to gamma radiation and became a teenage version of the Abomination.\\n\\n===Reginald Fortean===\\nDuring \\'\\'The Immortal Hulk\\'\\' run by [[Al Ewing]] and Ryan Bodenheim, Desert Base Director \\'\\'\\'[[Redeemer (comics)|Reginald Fortean]]\\'\\'\\' accidentally turned himself into another version of the Abomination when he came in contact with the gamma activated tissue husk/armor of Subject B which was previously used on the decreased Rick Jones.<ref>\\'\\'The Immortal Hulk\\'\\' #20-24. Marvel Comics.</ref>\\n\\n==Other versions==\\n===\\'\\'JLA/Avengers\\'\\'===\\nDuring \\'\\'[[JLA/Avengers]]\\'\\', the Abomination is among the villains enthralled by [[Krona (comics)|Krona]] to defend his stronghold, but is defeated by [[Superman]].<ref>\\'\\'JLA/Avengers\\'\\' #4. Marvel Comics.</ref>\\n\\n===Ultimate Marvel===\\nThe [[Ultimate Marvel]] equivalent of the Abomination appears as part of an [[Masters of Evil|international group]]. This version is a Chinese scientist named \\'\\'\\'Dr. Chang Lam\\'\\'\\'.<ref name=\"Ultimates\\' 2005\">\\'\\'The Ultimates 2\\'\\' #1–6 (Feb.–July 2005); 7 (Sep. 2005); 8 (Nov. 2005); 9 (Jan. 2006); 10 (Mar. 2006); 11–12 (July–Aug. 2006) and 13 (Feb. 2007). Marvel Comics.</ref> Dr. Lam was working to create a more efficient version of the Hulk. When he believed his research was complete, he used the formula on himself. When he transformed into a dinosaur-like giant, he retained control of his permanently enhanced form because of his lack of mental disorders, serving with the Liberators. He battled with the Hulk, believing that his intact intellect would allow him to easily beat him, but ended up ultimately being killed in the duel.<ref name=\"Ultimates\\' 2005\"/>\\n\\nThe Ultimate iteration of Emil Blonsky (under \"the Abomination\" codename)<ref>\\'\\'Ultimate Comics: Ultimates\\'\\' #27. Marvel Comics.</ref> is part of [[Nick Fury (Ultimate Marvel character)|Nick Fury]]\\'s [[Howling Commandos]] team and has the ability to Hulk out.<ref>\\'\\'Cataclysm: Ultimates\\'\\' #3. Marvel Comics.</ref>\\n\\n===\\'\\'Abominations\\'\\'===\\nThe character also stars in the [[Limited series (comics)|limited series]] \\'\\'[[Abominations]]\\'\\', which continues plot points from the \\'\\'Future Imperfect\\'\\' storyline.<ref>\\'\\'Incredible Hulk: Future Imperfect\\'\\' #1–2 (Dec. 1992–Feb. 1993). Marvel Comics.</ref> A group of [[time-travelling]] [[assassin]]s from the time of the villain the [[Maestro (character)|Maestro]]—sent by an alternate version of the Abomination called \"Emil\"—arrive in the present, intent on killing \\'\\'Betty-6\\'\\', a futuristic version of Betty Ross who is [[Pregnancy|pregnant]] with the Maestro\\'s child. The Abomination provides shelter for Betty-6 and prevents the assassination.<ref>\\'\\'Abominations\\'\\' #1–3 (Dec. 1996–Feb. 1997). Marvel Comics.</ref>\\n\\n===\\'\\'Mutant X\\'\\'===\\nIn the \\'\\'[[Mutant X (comics)|Mutant X]]\\'\\' universe, the Abomination appears as a part of a group that opposed the [[Beyonder]] and died after.<ref>\\'\\'Mutant X\\'\\' Annual 2001 #1. Marvel Comics.</ref>\\n\\n===\\'\\'Marvel Zombies\\'\\'===\\nA zombified Abomination appears in \\'\\'[[Marvel Zombies: Dead Days]]\\'\\'. [[Thor (Marvel Comics)|Thor]] kills him by destroying his head with [[Mjolnir (comics)|Mjolnir]] during the battle between the surviving heroes and the zombie horde.<ref>\\'\\'Marvel Zombies: Dead Days\\'\\'. Marvel Comics.</ref>\\n\\n==In other media==\\n===Television===\\n* The Emil Blonsky incarnation of the Abomination appeared in \\'\\'[[The Incredible Hulk (1996 TV series)|The Incredible Hulk]]\\'\\',<ref>{{Cite episode|title=The Return of the Beast Part I|series=The Incredible Hulk|network=[[UPN]]|date=September 8, 1996|season=1|number=1}}</ref> voiced by [[Richard Moll]].{{citation needed|date=August 2017}} This version serves the [[Leader (character)|Leader]] as one of his Gamma Warriors.\\n* The Emil Blonsky incarnation of the Abomination appears in \\'\\'[[The Super Hero Squad Show]]\\'\\', voiced by [[Steven Blum]].<ref>{{Cite episode|title=And Lo... A Pilot Shall Come!|series=The Super Hero Squad Show|network=[[Cartoon Network]]|date=September 14, 2009|season=1|number=1}}</ref> This version is a member of [[Doctor Doom]]\\'s [[Lethal Legion]] and serves as the group\\'s [[comic relief]] along with [[MODOK]].\\n* The Emil Blonsky incarnation of the Abomination appears in \\'\\'[[The Avengers: Earth\\'s Mightiest Heroes]]\\'\\', voiced by [[Robin Atkin Downes]]. In the short episode, \"This Monster, This Hero\", he is incarcerated in the [[Features of the Marvel Universe#Cube|Cube]].<ref>{{Cite episode|title=This Monster, This Hero|series=The Avengers: Earth\\'s Mightiest Heroes|network=[[Disney XD]]|date=September 14, 2009|season=Micro-series|number=10}}</ref> In the episode \"Breakout, Part 1\", the Abomination and his fellow prisoners escape following the Cube\\'s sudden power failure. He briefly engages the [[Hulk]], who retreats with [[Doc Samson]], enabling the Abomination, the Leader, and the [[Absorbing Man]] to gain control of the Cube. In the two-part episode \"Gamma World\", the Abomination assists the Leader in a plot to turn everyone in the world into gamma monsters. However, the [[Avengers (comics)|Avengers]] foil the plan, with the Hulk engaging the Abomination and throwing him into a nearby desert. The Abomination is later approached by and recruited into the [[Masters of Evil]]. Throughout the episodes \"Masters of Evil\", \"This Hostage Earth\", and \"Acts of Vengeance\", the Abomination continues to work with them until they are eventually captured by the Avengers and incarcerated in [[Negative Zone Prison Alpha|Prison 42]].\\n* The Emil Blonsky incarnation of the Abomination appears in \\'\\'[[Lego Marvel Super Heroes: Maximum Overload]]\\'\\', voiced again by Robin Atkin Downes.<ref name=\"btva\">{{cite web|title=Behind The Voice Actors – Robin Atkin Downes|url=http://www.behindthevoiceactors.com/Robin-Atkin-Downes/|publisher=Behind The Voice Actors|access-date=June 27, 2015}} – green check mark indicates roles that have been verified by BTVA through closing credits</ref>\\n* The Emil Blonsky incarnation of the Abomination appears in \\'\\'[[Hulk and the Agents of S.M.A.S.H.]]\\'\\', voiced again by Robin Atkin Downes.<ref>{{cite episode|title=Abomination|series=Hulk and the Agents of S.M.A.S.H.|network=Disney XD|season=1|number=17|airdate=February 2, 2014}}</ref>\\n* The Emil Blonsky incarnation of the Abomination appears in \\'\\'[[Marvel Disk Wars: The Avengers]]\\'\\', voiced [[Masaya Takatsuka]] in the Japanese version and again by Robin Atkin Downes in the English dub.<ref name=\"btva\" />\\n* The Emil Blonsky incarnation of the Abomination appears in the \\'\\'[[Ultimate Spider-Man (TV series)|Ultimate Spider-Man]]\\'\\' episode \"Contest of Champions\" [Part 1], voiced again by Robin Atkin Downes.<ref>{{Cite episode|title=Contest of Champions Pt 1|series=Ultimate Spider-Man|network=[[Disney XD]]|date=October 3, 2015|season=3|number=23}}</ref>\\n* The Emil Blonsky incarnation of the Abomination appears in the \\'\\'[[Avengers Assemble (TV series)|Avengers Assemble]]\\'\\' episode \"Seeing Double\".<ref>{{Cite episode|title=Seeing Double|series=Avengers Assemble|network=[[Disney XD]]|date=August 28, 2016|season=3|number=14}}</ref>\\n\\n===Film===\\nThe Emil Blonsky incarnation of the Abomination appears in the animated direct-to-DVD film \\'\\'[[Iron Man & Hulk: Heroes United]]\\'\\',<ref>(December 3, 2013), \"[http://marvel.com/videos/watch/3022 Iron Man & Hulk: Heroes United - Clip 3],\" Marvel. Retrieved December 20, 2016</ref> voiced again by Robin Atkin Downes.{{citation needed|date=August 2019}}\\n\\n=== Marvel Cinematic Universe ===\\n[[File:Abomination in The Incredible Hulk.jpg|thumb|200px|The Abomination in \\'\\'[[The Incredible Hulk (film)|The Incredible Hulk]]\\'\\' (2008).]]\\n{{See also|Emil Blonsky (Marvel Cinematic Universe)}}\\nThe Emil Blonsky incarnation of the Abomination appears in live-action media set in the [[Marvel Cinematic Universe]], portrayed by [[Tim Roth]], who also voices and provides [[motion capture]] for the Abomination.<ref>(November 6, 2011), [https://www.behindthevoiceactors.com/voice-compare/Hulk/Abomination/ Voice Compare: Hulk - Abomination Behind the Voice Actors]. Retrieved September 15, 2020</ref>\\n* Blonsky first appears in the film \\'\\'[[The Incredible Hulk (film)|The Incredible Hulk]]\\'\\'. This version is a Russian-born British [[Royal Marine]] on loan to [[Thaddeus Ross (Marvel Cinematic Universe)|General Thaddeus Ross]]\\'s Hulkbuster Unit. Wanting to relive his glory days, Blonsky volunteers to be injected with a sample of an imperfect [[Features of the Marvel Cinematic Universe#Super Soldier Serum|super soldier serum]]. While it increases his physical capabilities to superhuman levels, it leaves Blonsky power-hungry and eventually drives him to seek out Dr. [[Samuel Sterns (Marvel Cinematic Universe)|Samuel Sterns]] and force him to inject the former with [[Bruce Banner (Marvel Cinematic Universe)|Bruce Banner]]\\'s blood. Blonsky is mutated into a monstrous \"abomination\", according to Sterns, and runs amok, destroying [[Harlem]] before he is defeated by the Hulk and handed over to General Ross.\\n* Blonsky appears in the [[Marvel One-Shots|Marvel One-Shot]] short film \\'\\'[[Marvel One-Shots#The Consultant (2011)|The Consultant]]\\'\\' via archive footage. [[S.H.I.E.L.D. (Marvel Cinematic Universe)|S.H.I.E.L.D.]] agents [[Phil Coulson]] and [[Jasper Sitwell (Marvel Cinematic Universe)|Jasper Sitwell]] meet to discuss their director, [[Nick Fury (Marvel Cinematic Universe)|Nick Fury]], disagreeing with the [[World Security Council]]\\'s attempts to exonerate Blonsky and put him on the [[Avengers (Marvel Cinematic Universe)|Avengers]] Initiative and formulate a plan to help Fury. At Sitwell\\'s urging, Coulson reluctantly sends in [[Tony Stark (Marvel Cinematic Universe)|Tony Stark]] to sabotage the meeting with General Ross, as partially shown in \\'\\'The Incredible Hulk\\'\\'{{\\'}}s post-credits scene.\\n* During an interview in December 2014, Roth revealed that he was offered to reprise his role in the film \\'\\'[[Avengers: Age of Ultron]]\\'\\', but plans fell through during pre-production.<ref>{{cite web |author=William Bibbiani |url=http://www.craveonline.com/film/interviews/803371-selma-tim-roth-george-wallace-tupac-hulk/3 |title=Selma: Tim Roth on George Wallace, Tupac & The Hulk |publisher=Craveonline |date=2014-12-28 |access-date=2014-12-28 |archive-url=https://web.archive.org/web/20141229195016/http://www.craveonline.com/film/interviews/803371-selma-tim-roth-george-wallace-tupac-hulk/3 |archive-date=2014-12-29 |url-status=dead }}</ref>\\n* Roth provides uncredited vocals for Blonsky in the film \\'\\'[[Shang-Chi and the Legend of the Ten Rings]]\\'\\'.<ref name=\"FeigeRT\">{{Cite web |last=Meares |first=Joel |date=June 29, 2021 |title=Exclusive: Kevin Feige Confirms That \\'\\'Is\\'\\' The Abomination Fighting Wong in the Shang-Chi Trailer |url=https://editorial.rottentomatoes.com/article/exclusive-kevin-feige-confirms-that-is-abomination-fighting-wong-in-the-shang-chi-trailer/ |url-status=live |access-date=June 30, 2021 |website=[[Rotten Tomatoes]]}}</ref><ref name=\"CrettonFandango\">{{Cite web|last=Davis|first=Erik|date=August 16, 2021|title=\\'Shang Chi\\' Director Destin Daniel Cretton Reveals New Details About Marvel\\'s Next Big Historic Action Movie|url=https://www.fandango.com/movie-news/shang-chi-director-destin-daniel-cretton-reveals-new-details-about-marvels-next-big-historic-action-movie-754385|url-status=live|archive-url=https://web.archive.org/web/20210816154620/https://www.fandango.com/movie-news/shang-chi-director-destin-daniel-cretton-reveals-new-details-about-marvels-next-big-historic-action-movie-754385|archive-date=August 16, 2021|access-date=August 16, 2021|website=[[Fandango Media]]}}</ref> As of this film, the Abomination has mutated further, now possessing darker, scaly skin, gills, and webbed ears. As part of his training to become the Sorcerer Supreme, [[Wong (Marvel Cinematic Universe)|Wong]] kidnaps Blonsky so they can compete in an underground fight club in [[Macau]]. After their fight, he leaves with Wong via a portal and willingly returns to his cell despite being offered freedom.\\n* Roth reprises his role as Blonsky in the [[Disney+]] series \\'\\'[[She-Hulk: Attorney at Law]]\\'\\'.<ref name=\"RothSheHulk\">{{Cite web |last=Paige |first=Rachel |date=December 10, 2020 |title=Tatiana Maslany Stars in new \\'She-Hulk\\' Comedy Series Coming to Disney+ |url=https://www.marvel.com/articles/tv-shows/she-hulk-tatiana-maslany-mark-ruffalo-disney-plus |url-status=live |archive-url=https://web.archive.org/web/20201211024917/https://www.marvel.com/articles/tv-shows/she-hulk-tatiana-maslany-mark-ruffalo-disney-plus |archive-date=December 11, 2020 |access-date=December 10, 2020 |website=[[Marvel Comics|Marvel.com]]}}</ref> In the years since his imprisonment, Blonsky has gained control of his Abomination form, decided to atone for his past actions, and opened a self-healing support group called Abomaste, making him eligible for [[parole]]. Throughout the episodes \"[[Superhuman Law]]\" and \"[[The People vs. Emil Blonsky]]\", he becomes a client of [[Jennifer Walters (Marvel Cinematic Universe)|Jennifer Walters]], who agrees to defend him in court after hearing his plea and receiving Banner\\'s blessing. Despite footage of his fight with Wong being leaked, Blonsky is successfully paroled on the condition he wear an inhibitor to negate his transformations.\\n\\n===Video games===\\n* The Emil Blonsky incarnation of the Abomination appears in \\'\\'[[The Incredible Hulk (1994 video game)|The Incredible Hulk]]\\'\\' (1994).{{citation needed|date=October 2021}} He serves as a [[Boss (video games)|boss]] in the first level and a mini-boss in all other levels.\\n* The Emil Blonsky incarnation of the Abomination appears as the final boss and an [[Player character|unlockable character]] in \\'\\'[[The Incredible Hulk: Ultimate Destruction]]\\'\\', voiced by [[Ron Perlman]].{{citation needed|date=October 2021}} This version is an [[NSA]] agent given control of NSA branch, the Division, who seeks to use Bruce Banner\\'s research to cure his wife Nadia\\'s [[ovarian cancer]]. However, he is infected with a vial of Banner\\'s DNA and exposed to gamma radiation, which slowly transforms him into the Abomination over the course of the game. While fighting the Hulk, the Abomination destroys a nearby dam with the intention of killing civilians, but is foiled. Refusing to give up, the Abomination smashes the dam apart and disappears in the oncoming flood.\\n* The Emil Blonsky incarnation of the Abomination appears in \\'\\'[[The Incredible Hulk (2008 video game)|The Incredible Hulk]]\\'\\' 2008 film tie-in game, voiced by Tim Roth. He serves as the final boss of the game as well as an alternate skin for the Hulk.{{citation needed|date=June 2018}}\\n* The Emil Blonsky incarnation of the Abomination appears as a boss and an unlockable playable character in \\'\\'[[Marvel Super Hero Squad (video game)|Marvel Super Hero Squad]]\\'\\', voiced again by Steve Blum.{{citation needed|date=August 2019}}\\n* The Emil Blonsky incarnation of the Abomination appears as a boss in \\'\\'[[Marvel Super Hero Squad: The Infinity Gauntlet]]\\'\\', voiced again by Steve Blum.{{citation needed|date=August 2019}} He is available as an unlockable playable character through the [[PlayStation 3|PS3]] and [[Xbox 360]] exclusive [[Downloadable content|DLC]] \"Doom on the Loose\".\\n* The Emil Blonsky incarnation of the Abomination appears as a boss and an unlockable character in \\'\\'[[Marvel Super Hero Squad Online]]\\'\\', voiced again by Steve Blum.{{citation needed|date=August 2019}}\\n* The Emil Blonsky incarnation of the Abomination appears as a boss in \\'\\'[[Marvel Super Hero Squad: Comic Combat]]\\'\\', voiced again by Steve Blum.{{citation needed|date=August 2019}}\\n* The Emil Blonsky incarnation of the Abomination appears as a boss in \\'\\'Avengers Initiative\\'\\', voiced again by Steve Blum.{{citation needed|date=August 2019}}\\n* The Emil Blonsky incarnation of the Abomination appears as a boss and an unlockable playable character in \\'\\'[[Lego Marvel Super Heroes]]\\'\\', voiced again by Steve Blum.{{citation needed|date=June 2018}} This version is among the supervillains that help [[Doctor Doom]] obtain pieces of the [[Silver Surfer]]\\'s board and joins forces with the [[Sandman (Marvel Comics)|Sandman]] to hold [[Grand Central Terminal]] for ransom for one such piece. After being defeated by the Hulk, the Abomination is imprisoned at the [[Raft (comics)|Raft]], but later escapes during the [[Brotherhood of Mutants]]\\' attack on the prison. He fights the Hulk again, but is ultimately defeated and re-incarcerated. Later, when [[Loki (comics)|Loki]] brainwashes [[Galactus]] to consume Earth for him, the Abomination is one of the many supervillains who call a short truce with the heroes to shoo away the giant planet eater.\\n* The Emil Blonsky incarnation of the Abomination appears as an unlockable playable character in \\'\\'[[Lego Marvel\\'s Avengers]]\\'\\'.{{citation needed|date=March 2017}}\\n* The Emil Blonsky incarnation of the Abomination appears as a playable character in \\'\\'[[Marvel: Future Fight]]\\'\\'.<ref name=\"voice\">{{cite web| url=https://www.cbr.com/immortal-hulk-red-she-hulk-marvel-future-fight| access-date=July 18, 2020| title=The Immortal Hulk, Red She-Hulk Smash Their Way Into Marvel Future Fight| date=July 2020}}</ref>\\n* The Emil Blonsky incarnation of the Abomination appears as a boss in \\'\\'[[Marvel\\'s Avengers (video game)|Marvel\\'s Avengers]]\\'\\',<ref>{{cite news |url=https://www.polygon.com/2019/6/11/18661450/square-enix-avengers-game-villain-taskmaster |title=Marvel confirms the identity of the villain in Square Enix\\'s Avengers game |newspaper=[[Polygon (website)|Polygon]] |date=June 11, 2019 |first=Susana |last=Polo}}</ref> voiced by [[Jamieson Price]].<ref>{{cite news|last=Chandler|first=Sam|date=7 August 2020|title=Hulk smashes Abomination in this Marvel\\'s Avengers boss fight|newspaper=Shacknews|url=https://www.shacknews.com/article/119661/hulk-smashes-abomination-in-this-marvels-avengers-boss-fight|access-date=12 August 2020}}</ref> This version is a former [[Special Forces]] operative who was mutated into the Abomination by [[Advanced Idea Mechanics|A.I.M.]], who experimented on him in an attempt to replicate the Hulk\\'s powers. Blonsky began assisting A.I.M. with their operations whenever his skills were required and eventually became one of the organization\\'s top operatives. He encounters Bruce Banner and [[Kamala Khan]] at a former [[S.H.I.E.L.D.]] compound, but is defeated by the Hulk. The Avengers later fight the Abomination again, as well as several clones of him created by A.I.M., in a side-mission.\\n\\n===Toys===\\n* The Emil Blonsky incarnation of the Abomination is featured in the first series of the [[Hulk Classics]] line of [[action figure]]s from [[Toy Biz]].\\n* The Emil Blonsky incarnation of the Abomination is featured in [[Marvel Legends#Onslaught BAF Series (2006)|Marvel Legends Series 13]].\\n* An action figure based on the MCU incarnation of Emil Blonsky / Abomination was released in May 2008.\\n* The Emil Blonsky incarnation of the Abomination appears in the stand-alone Marvel comics expansion of [[Heroscape#Building the scenario|Heroscape]].\\n* In 2010, the Emil Blonsky incarnation of the Abomination was the 61st figure released in the [[Marvel Select]] line of action figures.\\n\\n==See also==\\n*[[List of Hulk supporting characters]]\\n\\n==References==\\n{{Reflist}}\\n\\n==External links==\\n*[https://www.marvel.com/characters/abomination Abomination] at Marvel.com\\n*[https://marvel.fandom.com/wiki/Emil_Blonsky_(Earth-616) Abomination] at Marvel Database\\n*[https://www.marveldirectory.com/individuals/a/abomination.htm Abomination] at Marvel Directory\\n*[https://comicvine.gamespot.com/abomination/4005-3489/ Abomination] at Comic Vine\\n*[https://marvelcinematicuniverse.fandom.com/wiki/Abomination Abomination] at Marvel Cinematic Universe Wiki\\n*{{comicbookdb|type=character|id=2974|title=Abomination}}\\n\\n{{Hulk}}\\n{{She-Hulk}}\\n{{Stan Lee}}\\n\\n{{DEFAULTSORT:Abomination (Comics)}}\\n[[Category:Characters created by Gil Kane]]\\n[[Category:Characters created by Stan Lee]]\\n[[Category:Clone characters in comics]]\\n[[Category:Comics characters introduced in 1967]]\\n[[Category:Fictional characters with nuclear or radiation abilities]]\\n[[Category:Fictional characters with slowed ageing]]\\n[[Category:Fictional Croatian people]]\\n[[Category:Fictional KGB agents]]\\n[[Category:Fictional Russian people]]\\n[[Category:Fictional secret agents and spies]]\\n[[Category:Fictional Yugoslav people]]\\n[[Category:Marvel Comics characters who can move at superhuman speeds]]\\n[[Category:Marvel Comics characters with accelerated healing]]\\n[[Category:Marvel Comics characters with superhuman strength]]\\n[[Category:Marvel Comics film characters]]\\n[[Category:Marvel Comics male supervillains]]\\n[[Category:Marvel Comics mutates]]\\n[[Category:Marvel Comics undead characters]]', 'Absorbing Man': '{{Short description|Marvel Comics fictional character}}\\n{{Infobox comics character\\n<!--Wikipedia:WikiProject Comics-->\\n|image= Thor-376.jpg\\n|converted=y\\n|character_name=Absorbing Man\\n|caption=The Absorbing Man (background) on the cover of \\'\\'[[Thor (Marvel Comics)|Thor]]\\'\\' #376 (Feb. 1987).<br>Art by [[Walt Simonson]].\\n|alter_ego=Carl \"Crusher\" Creel\\n|species=Human mutate\\n|publisher=[[Marvel Comics]]\\n|debut=\\'\\'[[Journey into Mystery]]\\'\\' #114 (March 1965)\\n|creators=[[Stan Lee]]<br>[[Jack Kirby]]\\n|alliances=[[Masters of Evil]]<br/>They Who Wield Power<br/>Legion Accursed<br/>[[Fear Itself (comics)|Worthy]]<br/>[[Lethal Legion]]<br/>[[List of Avengers members#Astonishing Avengers (2014)|Astonishing Avengers]]\\'\\'<ref name=\"Avengers & X-Men: AXIS #6\">\\'\\'Avengers & X-Men: AXIS\\'\\' #6. Marvel Comics.</ref>\\n|partners=[[Titania (Marvel Comics)|Titania]]\\n|aliases=Rocky Davis<br>Lightningbolt<br>Greithoth: Breaker of Wills<br>Harold<br>Red Dog\\n|powers=*Omni-morph duplication \\n*[[Ball and chain]] proficiency\\n| cat            = super\\n| subcat         = Marvel Comics\\n| hero           =\\n| villain        = y\\n| sortkey        = Absorbing Man\\n|}}\\n\\'\\'\\'Absorbing Man\\'\\'\\' (\\'\\'\\'Carl\\'\\'\\' \"\\'\\'\\'Crusher\\'\\'\\'\" \\'\\'\\'Creel\\'\\'\\') is a [[fictional character]] appearing in [[American comic book]]s published by [[Marvel Comics]]. He first appeared in \\'\\'[[Journey into Mystery]]\\'\\' #114, cover dated March 1965, created by writer [[Stan Lee]] and writer/artist [[Jack Kirby]], and has over the years played a part on several Marvel Comics crossovers such as the original \\'\\'[[Secret Wars]]\\'\\' and \\'\\'[[Fear Itself (comics)|Fear Itself]]\\'\\'. Though depicted for many years as a [[supervillain]], Creel has also been portrayed as an [[Antihero|anti-hero]], siding with characters such as [[Black Bolt]] and [[Alpha Flight]].<ref name=\":0\" /><ref name=\":1\" />\\n\\nCreel was given the power to take the form of any material that he touched, \"absorbing\" the property of the material itself.<ref>{{cite book |last =Rovin |first =Jeff  |title =[[The Encyclopedia of Super-Villains]]  |publisher =Facts on File  |date =1987  |location =New York  |isbn = 0-8160-1356-X |pages=1-2}}</ref> Over the years the power has worked both for and against him. The Absorbing Man was given his powers by the [[Asgard (comics)|Asgardian]] god [[Loki (Marvel Comics)|Loki]] in a plot to defeat Loki\\'s brother [[Thor (Marvel Comics)|Thor]]. During the \\'\\'Secret Wars\\'\\' storyline Creel became romantically involved with the supervillain [[Titania (Marvel Comics)|Titania]] and the two were linked for decades afterward. During the \\'\\'Fear Itself\\'\\' storyline, Creel comes into possession of a divine Asgardian hammer, granting him amplified powers and turning him into \\'\\'\\'Greithoth: Breaker of Wills\\'\\'\\'.\\n\\nDebuting in the [[Silver Age of Comic Books]], the Absorbing Man has featured in over four decades of Marvel continuity and other Marvel-endorsed products such as [[:Category:Marvel Comics animation|animated television series]], [[video game]]s, and merchandise such as [[trading card]]s.\\n\\nThe character has appeared in several animated television series and video games as well as a live-action adaptation in the [[Marvel Cinematic Universe]] TV series \\'\\'[[Agents of S.H.I.E.L.D.]]\\'\\', portrayed by [[Brian Patrick Wade]].\\n\\n==Publication history==\\n{{Expand section|date=March 2015}}\\nThe Absorbing Man first appears in \\'\\'[[Journey into Mystery]]\\'\\' #114 (Mar. 1965) and was created by [[Stan Lee]] and [[Jack Kirby]].<ref name=\"Steele2008\">{{cite book|author=Jim Steele|title=HCA Comics and Original Comic Art Auction Catalog #829|url=https://books.google.com/books?id=EKSE4_IM5xoC&pg=PA159|date=1 June 2008|publisher=Heritage Capital Corporation|isbn=978-1-59967-276-2|pages=159–}}</ref>\\n\\n==Fictional character biography==\\nCarl \"Crusher\" Creel was a boxer and jailed criminal who becomes the Absorbing Man when he drinks a liquid which the Asgardian god [[Loki (Marvel Comics)|Loki]] laced with a magic potion.<ref>{{cite book |last1=Brevoort |first1=Tom |last2=DeFalco |first2=Tom |last3=Manning |first3=Matthew K. |last4=Sanderson |first4=Peter |last5=Wiacek |first5=Win |title=Marvel Year By Year: A Visual History |date=2017 |publisher=DK Publishing |isbn=978-1465455505 |page=107}}</ref> Discovering that he could absorb the properties of anything he touched, Creel escapes prison by absorbing metal from the guards\\' bullets and goes on to battle [[Thor (Marvel Comics)|Thor]].<ref>{{cite book |last1=Comtois |first1=Pierre |title=Marvel Comics in the 1960s: An Issue by Issue Field Guide to a Pop Culture Phenomenon |date=2015 |publisher=TwoMorrows Publishing |isbn=978-1-60549-016-8 |page=87}}</ref> When he escapes, he takes with him the ball and chain to which he was shackled, and uses the ball and chain as a weapon. Although he is only mortal, Creel\\'s fantastic abilities make him a worthy opponent for Thor, who is later forced to end the battle due to Loki\\'s kidnapping of [[Jane Foster (comics)|Jane Foster]].<ref>{{cite book |last1=Wells |first1=John |title=American Comic Book Chronicles: 1965-1969 |date=2014 |publisher=TwoMorrows Publishing |isbn=978-1605490557 |page=46}}</ref> Creel then breaks into a house and attacks the occupants. Thor comes to the rescue and tricks Creel into changing his atomic structure into pure helium. Thor accomplishes this by using his hammer\\'s powers to transform the ground\\'s molecular makeup. As Creel is acquiring additional mass from direct contact with the Earth when this happens, he ends up drifting harmlessly into the atmosphere.<ref>\\'\\'Journey into Mystery\\'\\' #114–115 (March–April 1965). Marvel Comics.</ref><ref>{{cite book |last1=DeFalco |first1=Tom |last2=Sanderson |first2=Peter |last3=Brevoort |first3=Tom |last4=Teitelbaum |first4=Michael |last5=Wallace |first5=Daniel |last6=Darling |first6=Andrew |last7=Forbeck |first7=Matt |last8=Cowsill |first8=Alan |last9=Bray |first9=Adam |title=The Marvel Encyclopedia |date=2019 |publisher=DK Publishing |isbn=978-1-4654-7890-0 |page=10}}</ref>\\n\\nA short time later, Loki retrieves Creel from space using Asgardian technology after he has knocked out an Asgardian warlock and sends Creel back to battle Thor. After Creel is nearly beaten due to Thor\\'s fighting skill, Loki transports him to Asgard and reveals the true source of his \"absorbing\" powers. After being humbled by Loki, Creel agrees to act as his agent, and he is directed to take over the city. The Absorbing Man defeats the Asgardian legions without too much trouble and eventually confronts Odin himself. Creel absorbs Odin\\'s attacks and then the properties of Asgard itself, hoping to rule the universe, and he towers over Odin as Loki arrives to gloat. Thor is ordered by Odin not to keep attacking. Loki and Creel are then beaten by trickery; once given Odin\\'s Rod of Rulership the two quarrel over it, with the Absorbing Man trying to absorb the rod, and the two find that they cannot let go. Odin then advises them that his power lies not in a mere object, but deep within himself. The pair are then banished into outer space.<ref>\\'\\'Journey into Mystery\\'\\' #121–123 (Oct.–Dec. 1965). Marvel Comics.</ref>\\n\\nThe Absorbing Man eventually returns on a comet and battles the [[Hulk]]. Bruce Banner had been sent to divert the comet, as it was feared it was radioactive, but the Absorbing Man leaped aboard and began absorbing the Hulk\\'s strength. He tries to bury the Hulk under a mountain, but when the Hulk turns back to human form, the Absorbing Man is unable to support the great weight and was buried.<ref>\\'\\'The Incredible Hulk\\'\\' vol. 2 #125. Marvel Comics.</ref>\\n\\nHowever, Creel goes on to battle many other heroes, such as the [[Avengers (comics)|Avengers]],<ref>\\'\\'The Avengers\\'\\' #183–184 (May–June 1979). Marvel Comics.</ref> [[Daredevil (Marvel Comics character)|Daredevil]],<ref>\\'\\'Daredevil\\'\\' #360 (Jan. 1997). Marvel Comics.</ref> the [[Dazzler (Marvel Comics)|Dazzler]],<ref name=\"Dazzler #18 August 1982\">\\'\\'Dazzler\\'\\' #18 (Aug. 1982). Marvel Comics.</ref> the Hulk,<ref>\\'\\'The Incredible Hulk\\'\\' vol. 2 #208–209 (Feb.–March 1977), #347–348 (Sept.–Oct. 1988) and #457 (October 1997), and \\'\\'The Incredible Hulk\\'\\' vol. 2 Annual #18 (1992). Marvel Comics.</ref> and [[Spider-Man]].<ref>\\'\\'Marvel Knights: Spider-Man\\'\\' #13–18 (June–Nov. 2005). Marvel Comics.</ref> He is one of the villains who participates in the Secret Wars, and also develops a romantic relationship with the super-strong villainess [[Titania (Marvel Comics)|Titania]].<ref>\\'\\'Marvel Super-Heroes Secret Wars\\'\\' #1–12 (May 1984–April 1985). Marvel Comics.</ref> The pair also join the reformed fourth version of the [[Masters of Evil]].<ref>\\'\\'The Avengers\\'\\' #270, 273, 275 (Aug., Nov. 1986, Jan. 1987). Marvel Comics.</ref> Creel has several more battles with Thor<ref>\\'\\'The Mighty Thor\\'\\' #375–376 (Jan.–Feb. 1987); \\'\\'The Mighty Thor\\'\\' vol. 2 #14 (Aug. 1999). Marvel Comics.</ref> (and the [[Thunderstrike (Eric Masterson)|Eric Masterson Thor]])<ref>\\'\\'The Mighty Thor\\'\\' #446 (April 1992). Marvel Comics.</ref> and a skirmish with the cosmic hero [[Quasar (comics)|Quasar]].<ref>\\'\\'Quasar\\'\\' #5 (December 1989). Marvel Comics.</ref> Although he assisted [[Crossbones (comics)|Crossbones]] in a plan to attack [[Captain America]], when Absorbing Man learned that Crossbones intended to detonate a bomb in New York, he absorbed the properties of [[Captain America\\'s shield]] to contain the blast, declaring that he was \\'\\'not\\'\\' a murderer.<ref>\\'\\'Captain America\\'\\' vol. 3 #24. Marvel Comics.</ref>\\n\\nCreel is later incarcerated in New York\\'s experimental \"Ant-Hill\" prison called the Big House, where all prisoners are reduced in size via [[Hank Pym]]\\'s \"Pym Particles\". An escape attempt is thwarted by [[She-Hulk]].<ref>\\'\\'She-Hulk\\'\\' #10 (Feb. 2005). Marvel Comics.</ref>\\n\\nThe Absorbing Man escapes prison and allies with the [[Owl (Marvel Comics)|Owl]] as an enforcer,<ref>\\'\\'Marvel Knights: Spider-Man\\'\\' #13. Marvel Comics.</ref> but finds himself opposed by Spider-Man and new hero [[Ethan Edwards]] (later revealed to be a disguised Skrull). He is briefly trapped and converted into a new form of cocaine by one of the Owl\\'s operatives when they become frustrated with his unprofessional approach,<ref>\\'\\'Marvel Knights: Spider-Man\\'\\' #16. Marvel Comics.</ref> with the new drug briefly giving those who snort him a degree of his powers, but he eventually manages to reassemble himself in a sewer and goes after the Owl for revenge.<ref>\\'\\'Marvel Knights: Spider-Man\\'\\' #17. Marvel Comics.</ref> Spider-Man manages to defeat Creel by tricking him into running a gauntlet where he absorbs multiple objects thrown at him, culminating in Creel absorbing two different chemicals that cause him to explode.<ref>\\'\\'Marvel Knights: Spider-Man\\'\\' #18. Marvel Comics.</ref>\\n\\nThe Absorbing Man later battles and is apparently killed by the hero Sentry during the events of \\'\\'[[Civil War (comics)|Civil War]]\\'\\'.<ref name=\"Civil War 2007\">\\'\\'Civil War: The Return\\'\\' #1 (Jan. 2007). Marvel Comics.</ref> However, he later appears at the funeral of the villain [[Stilt-Man]].<ref>\\'\\'Punisher War Journal\\'\\' vol. 2 #4 (April 2007). Marvel Comics.</ref>\\n\\nCreel and Titania later come into conflict with the heroine She-Hulk and her Skrull partner [[Jazinda]] after they attempt to arrest Creel\\'s cousin [[Rockwell Davis|Rockwell \"Hi-Lite\" Davis]].<ref>\\'\\'She-Hulk\\'\\' vol. 2 #22–23 (Nov.–Dec. 2007). Marvel Comics.</ref>\\n\\nDuring the \\'\\'[[Dark Reign (comics)|Dark Reign]]\\'\\' storyline, Creel joins a new version of the [[Lethal Legion]] led by the [[Grim Reaper (comics)|Grim Reaper]].<ref>\\'\\'Lethal Legion\\'\\' #1–3 (Aug.–Oct. 2009). Marvel Comics.</ref> After a defeat, Creel escapes prison and absorbs a shard of the [[Cosmic Cube]].<ref>\\'\\'The Mighty Avengers\\'\\' #32 (Dec. 2009). Marvel Comics.</ref>\\n\\nThe Absorbing Man suffers a setback when villain [[Green Goblin|Norman Osborn]] uses an enchanted sword—provided by Loki—to remove his absorbing powers completely.<ref>\\'\\'The Mighty Avengers\\'\\' #33 (Jan. 2010). Marvel Comics.</ref>\\n\\nCreel is also revealed to be the father of the hero [[Stonewall (comics)#Jerry Sledge|Stonewall]].<ref>\\'\\'Secret Warriors\\'\\' #12 (Jan. 2010). Marvel Comics.</ref>\\n\\nCreel regains his powers and storms [[Avengers Tower]] to recover his ball and chain. He is defeated by Avengers\\' coordinators [[Maria Hill]], [[Sharon Carter]], and [[Victoria Hand]] after absorbing the latter\\'s cold.<ref>\\'\\'Age of Heroes\\'\\' #3. Marvel Comics.</ref>\\n\\nDuring the \"[[Fear Itself (comics)|Fear Itself]]\" storyline, Creel and Titania encounter two of the divine hammers that contain the essences of the Worthy, generals to Odin\\'s brother and adversary, [[Serpent (comics)|Cul Borson]]. Coming into contact with the hammers, Titania and Creel were transformed into Skirn: Breaker of Men<ref name=\"FearItself#2\">{{Cite comic|writer=Matt Fraction|penciller=Stuart Immonen|inker=Wade von Grawbadger|story=The Worthy|title=Fear Itself|volume=|issue=#2|date=July 2011|publisher=Marvel Comics|page=|panel=}}</ref> and Greithoth: Breaker of Wills,<ref>{{Cite comic|writer=Christos Gage|penciller=[[Tom Raney]]|inker=Scott Hanna and Andrew Hennessy|story=No Unwounded Soldiers|title=[[Avengers Academy]]|volume=|issue=#15|date=Aug. 2011|publisher=Marvel Comics|page=|panel=}}</ref> respectively. They later went on a rampage depicted in a number of \\'\\'Fear Itself\\'\\' tie-in issues, most prominently \\'\\'Avengers Academy\\'\\' #15–19 and \\'\\'[[Iron Man 2.0]]\\'\\' #5–6, as well as that storyline\\'s core miniseries.\\n\\nDuring the \"[[AXIS (comics)|AXIS]]\" storyline, Absorbing Man appears as a member of Magneto\\'s unnamed supervillain group during the fight against [[Red Skull]]\\'s [[Onslaught (Marvel Comics)|Red Onslaught]] form.<ref>\\'\\'Avengers & X-Men: AXIS\\'\\' #2. Marvel Comics.</ref> He is briefly converted to heroism when everyone on the island experiences a moral inversion as [[Doctor Doom]] and [[Scarlet Witch]] attempt to bring out the [[Charles Xavier]] in Red Skull, joining the new Astonishing Avengers assembled by Steve Rogers and Spider-Man to oppose the inverted heroes.<ref name=\"Avengers & X-Men: AXIS #6\"/> Absorbing Man later reverts to villainy when the inversion is undone.<ref>\\'\\'Avengers & X-Men: AXIS\\'\\' #9. Marvel Comics.</ref>\\n\\nWhen Absorbing Man and Titania were robbing an armored car, the [[Jane Foster (comics)|female Thor]] appeared to thwart their plans. Upon meeting the female Thor, Creel mocked her for being a woman and for having taken Thor\\'s name for herself, which she answered by breaking his jaw. Titania then appeared to confront her but, in respect for what she was doing, she knocked out her husband with his own weapon and surrendered.<ref>\\'\\'The Mighty Thor\\'\\' vol. 4 #5. Marvel Comics.</ref>\\n\\nDuring the \"[[Secret Wars (2015 comic book)|Secret Wars]]\" storyline of 2015, Absorbing Man is among the villains attending [[Kingpin (character)|Kingpin]]\\'s viewing party of the incursion between [[Earth-616]] and [[Earth-1610]].<ref>\\'\\'Secret Wars\\'\\' #1 (2015). Marvel Comics.</ref>\\n\\nDuring the \"[[Avengers: Standoff!]]\" storyline, Absorbing Man was an inmate of Pleasant Hill, a gated community established by S.H.I.E.L.D. Using Kobik, S.H.I.E.L.D. transformed Absorbing Man into a man named Harold.<ref>\\'\\'Avengers Standoff: Assault on Pleasant Hill Alpha\\'\\' #1. Marvel Comics.</ref> During his time as Harold, Absorbing Man ran an ice cream parlor and was in love with Sheriff Eva. When [[Baron Zemo|Helmut Zemo]] and [[Fixer (comics)|Fixer]] restored the memories of the inmates, Absorbing Man joined in on their uprising with [[Whirlwind (comics)|Whirlwind]]. [[Illuminati (comics)|Illuminati]] members [[Hood (comics)|Hood]] and [[Titania (Marvel Comics)|Titania]] arrived at Pleasant Hill to retrieve Absorbing Man. Although he was shaken from having a S.H.I.E.L.D.-induced normal life, Absorbing Man sides with the Illuminati as they work to assemble the other inmates to get revenge on S.H.I.E.L.D.<ref>\\'\\'Illuminati\\'\\' #6. Marvel Comics.</ref>\\n\\nDuring the \"Opening Salvo\" part of the \"[[Secret Empire (comics)|Secret Empire]]\" storyline, Absorbing Man is recruited by Baron Helmut Zemo to join the Army of Evil.<ref>\\'\\'Captain America: Steve Rogers\\'\\' #16. Marvel Comics.</ref>\\n\\nAt some point, Absorbing Man was imprisoned in a deep space torture prison. He was defeated by [[Black Bolt]] in combat.<ref>\\'\\'Black Bolt\\'\\' #1. Marvel Comics.</ref> Absorbing Man later made an acquaintance with Black Bolt and fellow inmates Blinky, [[Metal Master (comics)|Metal Master]], and Raava.<ref>\\'\\'Black Bolt\\'\\' #2. Marvel Comics.</ref> Upon taking in Black Bolt\\'s sonic scream, Absorbing Man seemingly sacrifices himself to help destroy the torture prison\\'s Jailer, enabling Black Bolt and the other inmates to escape.<ref>\\'\\'Black Bolt\\'\\' #6. Marvel Comics.</ref> At the time when Jailer has possessed Blinky\\'s mind in order to kill Black Bolt, Lockjaw took Titania to Parkwood Cemetery where Absorbing Man suddenly emerged from his grave.<ref>\\'\\'Black Bolt\\'\\' #11. Marvel Comics.</ref> Absorbing Man and Titania helped Black Bolt fight a Jailer-possessed Blinky until they managed to drive Jailer out of him.<ref name=\":0\">\\'\\'Black Bolt\\'\\' #12. Marvel Comics.</ref>\\n\\nAfter Absorbing Man was imprisoned for another crime, his lawyer convinced him to join the U.S. Hulk Operations as an alternative to getting incarcerated for life. He gets injected with a Bannerman Gene-Enhancement Package that turned him into a gamma mutate able to absorb gamma radiation, at the cost of turning his skin a bright red color. When Absorbing Man - under the alias of \\'\\'\\'Red Dog\\'\\'\\' - fought Hulk at Los Diablos Missile Base, an entity, the [[One Below All]] entered his body after he absorbed most of the Hulk\\'s gamma energy. The One Below All taunted Red Dog\\'s astral body before ripping his physical one in half.<ref name=\":1\">\\'\\'The Immortal Hulk\\'\\' #9. Marvel Comics.</ref> Absorbing Man, still controlled by The One Below All, continues fighting Hulk. Absorbing Man ran off when Jackie McGee, [[Sasquatch (comics)|Walter Langkowski]], and [[Puck (Marvel Comics)|Puck]] showed up. When the One Below All successfully opened the door to the Below Place, the lowest point of Hell, the entirety of New Mexico gets transported there as Absorbing Man weeps.<ref>\\'\\'The Immortal Hulk\\'\\' #10. Marvel Comics.</ref> With the help of Puck, Creel was able to transfer the gamma energy he had absorbed back into Hulk, who used his thunder clap to disperse the One Below All\\'s cloud form and transport New Mexico back to Earth. Creel has since been free of the One Below All\\'s influence, having transferred the gamma radiation back to the Hulk.\\n\\n==Powers and abilities==\\nCourtesy of a mystical potion, Crusher Creel has the ability to mimic the matter\\\\strength of anything nearby\\\\anyone he is near.<ref>\\'\\'Journey into Mystery\\'\\' #114 (March 1965). Marvel Comics.</ref> Most commonly, he uses his powers to duplicate the properties of anything that he touches—solids, liquids, gases, or even energy sources. This transformation also extends to the items that Creel was wearing and carrying when Loki\\'s potion took effect (for example, if Creel touches the metal [[titanium]], his body, clothes, and wrecking ball takes on its appearance and properties). He can absorb sufficient mass of a large object (e.g., a building) to attain the same height. While in different altered forms, he still maintains his intellect, capacity for speech, and full physical movement (although his first attempt at absorbing water temporarily cost Creel\\'s sanity when he tried to keep himself from drifting apart in the ocean).<ref name=\"Avengers #184 July 1979\" /> His body was able to reform itself after being broken or damaged,<ref>\\'\\'The Incredible Hulk\\'\\' Vol 2 #456-457 (September-October 1997)</ref> especially a severed arm which [[Wolverine (character)|Wolverine]] cuts off during the \\'\\'[[Secret Wars]]\\'\\'.<ref>\\'\\'Marvel Super-Heroes Secret Wars\\'\\' #7 (Nov. 1984). Marvel Comics.</ref>\\n\\nCreel\\'s overall power increases in direct proportion to the material he duplicates. There seems to be almost no limit to what Creel absorbs, as he have mimicked the properties of bronze;<ref>\\'\\'Journey into Mystery\\'\\' #114 (April 1965). Marvel Comics.</ref> [[Odin (Marvel Comics)|Odin]]\\'s Cosmic Bolt and later cyclonic storm;<ref name=\"Journey Into Mystery\\' 1965\">\\'\\'Journey into Mystery\\'\\' #123 (Dec. 1965). Marvel Comics.</ref> [[diamond]];<ref name=\"Daredevil #360 July 1997\">\\'\\'Daredevil\\'\\' #360 (July 1997). Marvel Comics.</ref> [[glass]];<ref>\\'\\'Journey into Mystery\\'\\' #121 (Oct. 1965). Marvel Comics.</ref> [[light]];<ref name=\"Dazzler #18 August 1982\" /> [[Rock (geology)|rock]], [[silk]], [[soil]];<ref>\\'\\'Journey into Mystery\\'\\' #115 (April 1965). Marvel Comics.</ref> spikes;<ref>\\'\\'Journey into Mystery\\'\\' #122 (Nov. 1965). Marvel Comics.</ref> [[steel]];<ref>\\'\\'Journey into Mystery\\'\\' #114 (March 1965). Marvel Comics.</ref> Thor\\'s uru hammer [[Mjolnir (comics)|Mjolnir]];<ref>\\'\\'Thor\\'\\' #376 (Feb. 1987). Marvel Comics.</ref> [[water]];<ref name=\"Avengers #184 July 1979\">\\'\\'The Avengers\\'\\' #184 (July 1979). Marvel Comics.</ref> and even the whole realm of [[Asgard (comics)|Asgard]] itself,<ref name=\"Journey Into Mystery\\' 1965\" /> although draining the [[Sentry (Robert Reynolds)|Sentry]]\\'s energies proved too much for Creel, causing him to become overloaded with it and nearly killing him.<ref name=\"Civil War 2007\"/>\\n\\nCreel is also now capable of combining previously absorbed abilities.<ref>\\'\\'She-Hulk\\'\\' vol. 2 #23 (Dec. 2007). Marvel Comics.</ref>\\n\\n==Other versions==\\n===Age of Apocalypse===\\nIn the \\'\\'[[Age of Apocalypse]]\\'\\' reality, Absorbing Man (alongside [[Diablo (Marvel Comics)|Diablo]]) works as a prison camp warden in Mexico.<ref>\\'\\'Tales from the Age of Apocalypse\\'\\' #1 (Dec. 1996)</ref>\\n\\n===Earth X===\\nIn the limited series \\'\\'[[Earth X]]\\'\\', set in the [[Parallel universe (fiction)|alternate universe]] Earth-9997, Creel is also capable of absorbing knowledge which he did upon absorbing [[Ultron]]\\'s knowledge and was eventually able to remember everything previously absorbed and to display any of these properties at will.<ref>\\'\\'Earth X\\'\\' #0-12 (March 1999-April 2000). Marvel Comics.</ref>\\n\\n===House of M===\\nIn the \\'\\'[[House of M]]\\'\\' reality, Absorbing Man is seen as a member of the [[Hood (comics)|Hood]]\\'s [[Masters of Evil]].<ref>\\'\\'House of M: Masters of Evil\\'\\' #1. Marvel Comics.</ref>\\n\\n===Marvel Zombies===\\nIn the \\'\\'[[Marvel Zombies]]\\'\\' reality, Creel, as a zombie, works for the zombie [[Kingpin (character)|Kingpin]]. He battles the interloper [[Machine Man]] while in stone form. He is tricked into absorbing the weak physicality of the zombie [[Karnak (comics)|Karnak]] and Machine Man swiftly destroys his head.<ref>\\'\\'[[Marvel Zombies 3]]\\'\\' #3 (2009). Marvel Comics.</ref>\\n\\n===Old Man Logan===\\nIn the \\'\\'[[Old Man Logan]]\\'\\' reality that takes place on Earth-807128, an elderly [[Hawkeye (Clint Barton)|Hawkeye]] reveals to Logan that Absorbing Man and [[Magneto (Marvel Comics)#Old Man Logan|Magneto]] were responsible for killing [[Alternative versions of Thor#Old Man Logan|Thor]].<ref>\\'\\'Wolverine\\'\\' vol. 3 #67. Marvel Comics.</ref>\\n\\nA flashback also showed that [[Mysterio#Old Man Logan|Mysterio]] used an illusion of him amongst other villains to trick Wolverine into killing his fellow X-Men.<ref>\\'\\'Wolverine\\'\\' Vol. 3 #70. Marvel Comics.</ref>\\n\\nIt is revealed on a map that a group modeled after Absorbing Man called the Creel Gang operates in Georgia.<ref>\\'\\'Wolverine\\'\\' vol. 3 #66. Marvel Comics.</ref>\\n\\nIn the pages of \"Dead Man Logan\", Logan was ambushed by the Creel Gang in Georgia upon his return to Earth-21923 in light of the power vacuum caused by the deaths of Red Skull and Hulk. They are shown to be bald-headed, wear striped prison pants, and wield ball and chains. Logan was able to fight them off.<ref>\\'\\'Dead Man Logan\\'\\' #7. Marvel Comics.</ref> Absorbing Man was among the villains that laid a trap for the young heroes in Osborn City. They were killed by the insects that were summoned by Dwight Barrett\\'s Ant-Man helmet.<ref>\\'\\'Avengers of the Wastelands\\'\\' #3-4. Marvel Comics.</ref>\\n\\n===Marvel Apes===\\nIn the \\'\\'[[Marvel Apes]]\\'\\' reality, this version of Absorbing Man is a [[mandrill]] called \\'\\'\\'Absorbing Mandrill\\'\\'\\'. He is a member of the Master Brotherhood of Evil Apes.<ref>\\'\\'Marvel Apes: Amazing Spider-Monkey Special\\'\\' #1. Marvel Comics.</ref>\\n\\n===[[JLA/Avengers]]===\\nThe Absorbing Man is among the mind-controlled villains defending [[Krona (comics)|Krona]]\\'s stronghold when the heroes assault it.<ref>\\'\\'JLA/Avengers\\'\\' #4. Marvel Comics.</ref>\\n\\n==In other media==\\n===Television===\\n* Absorbing Man appears in the \"[[Thor (Marvel Comics)|Thor]]\" segment of \\'\\'[[The Marvel Super Heroes]]\\'\\'.<ref>\"[http://www.behindthevoiceactors.com/tv-shows/The-Marvel-Super-Heroes/ The Marvel Super Heroes - Cast Images],\" Behind the Voice Actors. Retrieved November 3, 2016</ref>\\n* Absorbing Man appears in \\'\\'[[The Incredible Hulk (1996 TV series)|The Incredible Hulk]]\\'\\' episode \"They Call Me Mr. Fixit\",<ref>{{cite web |url=http://marvel.com/news/tv/6660/make_mine_marvel_the_1990s_hulk_cartoon |title=Make Mine Marvel: The 1990s Hulk Cartoon |publisher=Marvel Animated |date=January 26, 2009 |access-date=November 3, 2016 |archive-url=https://web.archive.org/web/20151026020134/http://marvel.com/news/tv/6660/make_mine_marvel_the_1990s_hulk_cartoon |archive-date=October 26, 2015}}</ref> voiced by [[Jim Cummings]].<ref name=\"Behind the Voice Actors\">{{cite web|url=http://www.behindthevoiceactors.com/characters/Marvel-Universe/Absorbing-Man/|title=Voice of Absorbing Man|website=Behind The Voice Actors}}</ref> This version is an enforcer of the crime boss, Miss Allure.\\n* Absorbing Man appears in \\'\\'[[The Avengers: United They Stand]]\\'\\' episode \"Command Decision\",<ref>\"[http://marvel.toonzone.net/avengersunited/episode/command/ Marvel Animation Age Presents: The Avengers: United They Stand],\" Marvel Toonzone. Retrieved November 3, 2016</ref> voiced by Oliver Becker.<ref name=\"Behind the Voice Actors\"/> This version is a member of Baron [[Helmut Zemo]]\\'s [[Masters of Evil]].\\n* Absorbing Man appears in \\'\\'[[The Avengers: Earth\\'s Mightiest Heroes]]\\'\\',<ref>\"[http://www.therobotsvoice.com/2013/01/the_7_best_comebacks_from_avengers_earths_mighties.php The 7 Best Comeback Lines from Avengers: Earth\\'s Mightiest Heroes],\" The Robot\\'s Voice. Retrieved November 3, 2016</ref> voiced by [[Rick D. Wasserman]].<ref name=\"Behind the Voice Actors\"/>\\n* Carl \"Crusher\" Creel appears in television series set within the [[Marvel Cinematic Universe]]:\\n** Creel appears in \\'\\'[[Agents of S.H.I.E.L.D.]]\\'\\', portrayed by [[Brian Patrick Wade]].<ref>{{cite web|url=http://marvel.com/news/tv/2014/8/21/23132/crusher_creel_to_menace_marvels_agents_of_shield.|title=Crusher Creel to Menace Marvel\\'s Agents of S.H.I.E.L.D. - News - Marvel.com|access-date=13 October 2014}}</ref> He first appears in the [[Agents of S.H.I.E.L.D. (season 2)|season two]] episodes, \"[[Shadows (Agents of S.H.I.E.L.D.)|Shadows]]\"<ref>{{cite episode|title=[[Shadows (Agents of S.H.I.E.L.D.)|Shadows]]|series=Marvel\\'s Agents of S.H.I.E.L.D.|credits=Misiano, Vincent (director); Maurissa Tancharoen and Jed Whedon (writer)|network=[[American Broadcasting Company|ABC]]|airdate=September 23, 2014|season=2|number=1}}</ref> and \"[[Heavy Is the Head (Agents of S.H.I.E.L.D.)|Heavy is the Head]]\" as a [[Hydra (comics)|HYDRA]] operative.<ref>{{cite episode|title=[[Heavy Is the Head (Agents of S.H.I.E.L.D.)|Heavy is the Head]]|series=Marvel\\'s Agents of S.H.I.E.L.D.|credits=Bochco, Jesse (director); Paul Zbyszewski (writer)|network=[[American Broadcasting Company|ABC]]|airdate=September 30, 2014|season=2|number=2}}</ref> Creel returns in the [[Agents of S.H.I.E.L.D. (season 3)|season three]] episode \"[[The Inside Man (Agents of S.H.I.E.L.D.)|The Inside Man]]\", having defected to the U.S. government and become [[Glenn Talbot]]\\'s bodyguard.<ref>{{cite episode|title=[[The Inside Man (Agents of S.H.I.E.L.D.)|The Inside Man]]|series=Marvel\\'s Agents of S.H.I.E.L.D.|credits=Terlesky, John (director); Craig Titley (writer)|network=[[American Broadcasting Company|ABC]]|airdate=March 15, 2016|season=3|number=12}}</ref> In the [[Agents of S.H.I.E.L.D. (season 5)|season five]] episodes \"All the Comforts of Home\", \"The Devil Complex\", \"Inside Voices\", \"All Roads Lead...\", and \"The Force of Gravity\", Creel reluctantly rejoins HYDRA in their plot to save the world from [[Thanos (Marvel Cinematic Universe)|Thanos]], only to be absorbed when Talbot combines with the gravitonium and becomes [[Graviton (comics)|Graviton]].<ref>{{cite episode|title=All the Comforts of Home|series=Marvel\\'s Agents of S.H.I.E.L.D.|credits=Woods, Kate (director); Drew Z. Greenberg (writer)|network=[[American Broadcasting Company|ABC]]|airdate=March 2, 2018|season=5|number=11}}</ref><ref>{{cite episode|title=The Devil Complex|series=Marvel\\'s Agents of S.H.I.E.L.D.|credits=Lopez-Corrado, Nina (director); Matt Owens (writer)|network=[[American Broadcasting Company|ABC]]|airdate=March 23, 2018|season=5|number=14}}</ref><ref>{{cite episode|title=Inside Voices|series=Marvel\\'s Agents of S.H.I.E.L.D.|credits=Richardson-Whitfield, Salli (director); Mark Leitner (writer)|network=[[American Broadcasting Company|ABC]]|airdate=April 6, 2018|season=5|number=16}}</ref><ref>{{cite episode|title=All Roads Lead...|series=Marvel\\'s Agents of S.H.I.E.L.D.|credits=Lynch, Jennifer (director); George Kitson (writer)|network=[[American Broadcasting Company|ABC]]|airdate=April 20, 2018|season=5|number=18}}</ref><ref>{{cite episode|title=The Force of Gravity|series=Marvel\\'s Agents of S.H.I.E.L.D.|credits=Tancharoen, Kevin (director); Drew Z. Greenberg & Craig Titley (writer)|network=[[American Broadcasting Company|ABC]]|airdate=May 11, 2018|season=5|number=21}}</ref>\\n** Creel is mentioned in a flashback depicted in the \\'\\'[[Daredevil (TV series)|Daredevil]]\\'\\' episode \"Cut Man\", which is set in the 1990s while he is at the height of his boxing career. He is set to have a match with [[Jack Murdock (comics)|\"Battlin\\' Jack\" Murdock]], with the latter being expected to drop in the fifth round at [[Fixer (comics)|Roscoe Sweeney]]\\'s \"suggestion\". Instead, Jack chooses to be an example to his son [[Matt Murdock (Marvel Cinematic Universe)|Matt]], and wins the fight off-screen via knockout.<ref>{{cite episode|title=Cut Man|series=Marvel\\'s Daredevil|credits=Abraham, Phil (director); Drew Goddard (writer)|network=[[American Broadcasting Company|ABC]]|airdate=April 10, 2015|season=1|number=2}}</ref> Series producer [[Jeph Loeb]] confirmed that this is the same Creel that appears in \\'\\'Agents of S.H.I.E.L.D.\\'\\' before gaining his abilities.<ref name=\"IGN8Apr2015\">{{cite web|url=http://www.ign.com/articles/2015/04/08/jeph-loeb-confirms-daredevils-connection-to-an-agents-of-shield-villain |title=Jeph Loeb Confirms Daredevil\\'s Connection to an Agents of SHIELD Villain |last=Nicholson |first=Max |publisher=[[IGN]] |date=April 8, 2015 |access-date=April 10, 2015 |archive-url=https://web.archive.org/web/20150412021914/http://www.ign.com/articles/2015/04/08/jeph-loeb-confirms-daredevils-connection-to-an-agents-of-shield-villain |archive-date=April 12, 2015 |url-status=live }}</ref>\\n* Absorbing Man appears in \\'\\'[[Hulk and the Agents of S.M.A.S.H.]]\\'\\',<ref>{{cite web|url=http://www.thefutoncritic.com/listings/20131031disneyxd28/|title=Listings - MARVEL\\'S HULK AND THE AGENTS OF S.M.A.S.H. on DISNEY XD - TheFutonCritic.com|access-date=13 October 2014}}</ref> voiced by [[Jonathan Adams (American actor)|Jonathan Adams]].<ref name=\"Behind the Voice Actors\"/>\\n* Absorbing Man appears in \\'\\'[[Avengers Assemble (TV series)|Avengers Assemble]]\\'\\',<ref>\"[https://biffbampop.com/2015/04/27/avengers-assemble-s02-e16-small-time-heroes/ Avengers Assemble S02 E16: Small Time Heroes],\" Biff Bam Pop. Retrieved November 3, 2016</ref> initially voiced again by Jonathan Adams and by [[Gregg Berger]] in all subsequent appearances.<ref name=\"Behind the Voice Actors\"/>\\n* Absorbing Man appears in the \\'\\'[[Ultimate Spider-Man (TV series)|Ultimate Spider-Man]]\\'\\' four-part episode \"Contest of Champions\", voiced again by Jonathan Adams.<ref name=\"Behind the Voice Actors\"/>\\n* Absorbing Man appears in \\'\\'[[Marvel Disk Wars: The Avengers]]\\'\\', voiced by [[Yasuhiko Kawazu]].<ref name=\"Behind the Voice Actors\"/>\\n* Absorbing Man appears in the \\'\\'[[Spider-Man (2017 TV series)|Spider-Man]]\\'\\' episode \"Screwball Live\", voiced again by Gregg Berger.<ref>{{cite episode|title=Screwball Live|series=Spider-Man|network=Disney XD|season=1|number=14|airdate=October 28, 2017}}</ref><ref name=\"Behind the Voice Actors\"/>\\n* Absorbing Man appears in \\'\\'[[Marvel Super Hero Adventures]]\\'\\',{{cn|date=December 2020}} voiced by [[Michael Dobson (actor)|Michael Dobson]].{{cn|date=December 2020}}\\n\\n===Video games===\\n* Absorbing Man appears in \\'\\'[[The Incredible Hulk (1994 video game)|The Incredible Hulk]]\\'\\'.{{citation needed|date=September 2018}}\\n* Absorbing Man appears as a boss in the [[PlayStation Portable|PSP]], [[PlayStation 2|PS2]], and [[Wii]] versions of \\'\\'[[Marvel: Ultimate Alliance 2]]\\'\\', voiced by David Hope.<ref name=\"Behind the Voice Actors\"/>\\n* Absorbing Man appears in \\'\\'[[Lego Marvel Super Heroes]]\\'\\',<ref>{{cite web|url=http://www.newsarama.com/19216-nycc-2013-marvel-adds-more-characters-to-lego-marvel-super-heroes-game.html|title=NYCC 2013: Marvel Adds More Characters To LEGO MARVEL SUPER HEROES Game|work=Newsarama|access-date=13 October 2014}}</ref> voiced by [[John DiMaggio]].\\n* Absorbing Man appears in \\'\\'[[Marvel: Avengers Alliance]]\\'\\'.{{citation needed|date=September 2018}}\\n* Absorbing Man appear as a playable character in \\'\\'[[Marvel: Future Fight]]\\'\\'.<ref>{{cite web|url=http://toucharcade.com/2017/08/14/best-iphone-game-updates-hearthstone-marvel-future-fight-dungeons-of-chaos-panmorphia-and-more/|title=Best iPhone Game Updates: \\'Hearthstone\\', \\'Marvel Future Fight\\', \\'Dungeons of Chaos\\', \\'Panmorphia\\', and More|date=14 August 2017}}</ref>\\n* Absorbing Man appears as a playable character in \\'\\'[[Lego Marvel\\'s Avengers]]\\'\\'.<ref>{{cite web|title=Characters|url=http://www.ign.com/wikis/lego-marvel-avengers/Characters|website=IGN Database|access-date=February 1, 2018}}</ref>\\n\\n==References==\\n{{Reflist}}\\n\\n==External links==\\n*[https://www.marvel.com/characters/absorbing-man Absorbing Man] at Marvel.com\\n*[https://marvel.fandom.com/wiki/Carl_Creel_(Earth-616) Absorbing Man] at Marvel Database\\n*[http://www.marveldirectory.com/individuals/a/absorbingman.htm Absorbing Man] at Marvel Directory\\n*[https://www.writeups.org/absorbing-man-marvel-comics-masters-evil/ Absorbing Man] at Writeups.org\\n*[https://comicvine.gamespot.com/absorbing-man/4005-1779/ Absorbing Man] at Comic Vine\\n*{{comicbookdb|type=character|id=2480|title=Absorbing Man}}\\n\\n{{Hulk}}\\n{{Thor}}\\n{{She-Hulk}}\\n{{Stan Lee}}\\n{{Jack Kirby}}\\n\\n[[Category:Characters created by Jack Kirby]]\\n[[Category:Characters created by Stan Lee]]\\n[[Category:Comics characters introduced in 1965]]\\n[[Category:Fictional characters from New York (state)]]\\n[[Category:Fictional characters with absorption or parasitic abilities]]\\n[[Category:Fictional characters with immortality]]\\n[[Category:Fictional criminals]]\\n[[Category:Fictional professional boxers]]\\n[[Category:Marvel Comics characters who are shapeshifters]]\\n[[Category:Marvel Comics male supervillains]]\\n[[Category:Marvel Comics martial artists]]<!--Boxing is a martial art-->\\n[[Category:Marvel Comics mutates]]\\n[[Category:Marvel Comics television characters]]\\n[[Category:Thor (Marvel Comics)]]'}\n"
     ]
    }
   ],
   "source": [
    "# 4.1 Send request for full pages \n",
    "\n",
    "def sendWikiRequestsPages(url_list):\n",
    "    response_wiki_dir = {}\n",
    "    \n",
    "    for name,url in url_list.items():\n",
    "        print(url)\n",
    "        \n",
    "        try:\n",
    "            response = requests.get(url)\n",
    "            wikisource = response.json()\n",
    "            pages = wikisource['query']['pages']\n",
    "            \n",
    "            for page in pages.keys():\n",
    "                wikitext = pages[page]['revisions'][0][\"*\"]   \n",
    "            print(type(wikitext))\n",
    "            response_wiki_dir[name] = wikitext\n",
    "        except:\n",
    "            pass\n",
    "        \n",
    "    return response_wiki_dir\n",
    "\n",
    "wiki_responses_pages = sendWikiRequestsPages(url_query_directory_pages)\n",
    "print(wiki_responses)\n"
   ]
  },
  {
   "cell_type": "code",
   "execution_count": 117,
   "id": "c8cb4225",
   "metadata": {},
   "outputs": [],
   "source": [
    "# Save to file\n",
    "import os.path\n",
    "\n",
    "def saveWikiJsonFiles(name_wiki,universe):\n",
    "    for name,wiki in name_wiki.items():\n",
    "        print(type(wiki))\n",
    "        save_path = str(universe)+'/'\n",
    "\n",
    "        completeName = os.path.join(save_path, name+\".txt\")      \n",
    "\n",
    "        with open(completeName, \"w\") as text_file:\n",
    "            text_file.write(str(wiki))"
   ]
  },
  {
   "cell_type": "code",
   "execution_count": 118,
   "id": "9c29b228",
   "metadata": {},
   "outputs": [
    {
     "name": "stdout",
     "output_type": "stream",
     "text": [
      "<class 'dict'>\n",
      "<class 'dict'>\n"
     ]
    }
   ],
   "source": [
    "saveWikiJsonFiles(wiki_json_responses, 'marvel')"
   ]
  },
  {
   "cell_type": "markdown",
   "id": "798c83a6",
   "metadata": {},
   "source": [
    "# Part B: Building the networks\n"
   ]
  },
  {
   "cell_type": "code",
   "execution_count": 22,
   "id": "0a61c85a",
   "metadata": {},
   "outputs": [],
   "source": [
    "def readWikiJsonFiles(name_wiki,universe):\n",
    "    \n",
    "    name_wiki_json = {}\n",
    "    \n",
    "    for name,wiki in name_wiki.items():\n",
    "        temp = []\n",
    "        save_path = str(universe)+'/'\n",
    "        completeName = os.path.join(save_path, name+\".txt\") \n",
    "        \n",
    "        with open(completeName, \"r\") as text_file:\n",
    "            f = text_file.read()\n",
    "            print(type(json.loads(json.dumps(str(f)))))\n",
    "            name_wiki_json[name] = json.loads(json.dumps(f))\n",
    "    \n",
    "    return name_wiki_json\n"
   ]
  },
  {
   "cell_type": "code",
   "execution_count": 23,
   "id": "e6891ac1",
   "metadata": {},
   "outputs": [
    {
     "name": "stdout",
     "output_type": "stream",
     "text": [
      "<class 'str'>\n",
      "<class 'str'>\n"
     ]
    }
   ],
   "source": [
    "name_wiki = readWikiJsonFiles(wiki_json_responses, 'marvel')"
   ]
  },
  {
   "cell_type": "code",
   "execution_count": 25,
   "id": "99685173",
   "metadata": {},
   "outputs": [],
   "source": [
    "\n",
    "# 5. extractLinks for each title,\n",
    "# @return array of names(links) to other pages\n",
    "def extractNodeNeighbors(directory):\n",
    "    \n",
    "    linkList = []\n",
    "    \n",
    "    for i in range(len(directory)):\n",
    "        ns = directory[i]['ns']\n",
    "        if(int(ns) != 0):\n",
    "            break\n",
    "        else:\n",
    "            title = directory[i]['title']\n",
    "            linkList.append(title)\n",
    "    \n",
    "    return linkList\n",
    "\n",
    "# 5.1 Check if site is redirect\n",
    "def checkIfRedirect(directory):\n",
    "    \n",
    "    \n",
    "    for i in range(len(directory)):\n",
    "        ns = directory[i]['ns']\n",
    "        \n",
    "        if(int(ns) == 4):\n",
    "            title = directory[i]['title']\n",
    "            if \"redirect\" in title: \n",
    "                print('redirect')\n",
    "                return 0\n",
    "            else:\n",
    "                return 1\n",
    "        else:\n",
    "            return 1\n",
    "\n",
    "import ast\n",
    "# 6. DO preprocessing for each entry\n",
    "def wiki_json_preprocessing(directory):\n",
    "    \n",
    "    name_neighbors = {}\n",
    "    \n",
    "    for name,value_json in directory.items():\n",
    "        value_json = ast.literal_eval(value_json)\n",
    "        \n",
    "        non_unique = value_json['query']['pages'].keys()\n",
    "        non_unique = next(iter(non_unique))\n",
    "        \n",
    "        link_dir = value_json['query']['pages'][non_unique]['links']\n",
    "        #check for redirect\n",
    "        if(checkIfRedirect(link_dir) == 0):\n",
    "            del directory[name]\n",
    "            continue\n",
    "        else:\n",
    "            node_neighbors = extractNodeNeighbors(link_dir)\n",
    "                \n",
    "        name_neighbors[name] = node_neighbors\n",
    "        \n",
    "    return name_neighbors      \n"
   ]
  },
  {
   "cell_type": "code",
   "execution_count": 78,
   "id": "eee1199c",
   "metadata": {},
   "outputs": [],
   "source": [
    "marvel_name_nodeLinks = wiki_json_preprocessing(name_wiki)"
   ]
  },
  {
   "cell_type": "markdown",
   "id": "1641ef09",
   "metadata": {},
   "source": [
    "**For each link you extract, check if the target is a character from your DC/Marvel lists. If yes, keep it. If no, discard it.**"
   ]
  },
  {
   "cell_type": "code",
   "execution_count": 79,
   "id": "5a29ad97",
   "metadata": {},
   "outputs": [],
   "source": [
    "def extractNames(dataset):\n",
    "    cleaned_data_dir = clearDataset(dataset)\n",
    "    names_list = []\n",
    "\n",
    "    for name, link in cleaned_data_dir.items():\n",
    "        names_list.append(name)\n",
    "    \n",
    "    return names_list\n",
    "\n"
   ]
  },
  {
   "cell_type": "code",
   "execution_count": 80,
   "id": "a0a6a729",
   "metadata": {},
   "outputs": [],
   "source": [
    "dc_list = extractNames(dc)\n",
    "marvel_list = extractNames(marvel)"
   ]
  },
  {
   "cell_type": "code",
   "execution_count": 81,
   "id": "aba601a1",
   "metadata": {},
   "outputs": [],
   "source": [
    "def checkFromTargetUniverse(character_nodes, universe):\n",
    "    return list(set(character_nodes) & set(universe))"
   ]
  },
  {
   "cell_type": "code",
   "execution_count": 191,
   "id": "53e1d04e",
   "metadata": {},
   "outputs": [],
   "source": [
    "# Marvel check\n",
    "for name, links in marvel_name_nodeLinks.items():\n",
    "    \n",
    "    x_dc = checkFromTargetUniverse(links, dc_list)\n",
    "    \n",
    "    x_marvel = checkFromTargetUniverse(links, marvel_list)\n",
    "\n",
    "    x_final = list(set().union(x_dc, x_marvel))\n",
    "    \n",
    "    name_nodeLinks[name] = x_final"
   ]
  },
  {
   "cell_type": "code",
   "execution_count": 192,
   "id": "b00a91ca",
   "metadata": {},
   "outputs": [],
   "source": [
    "def connectLinksPages(link_Directory,page_Directory):\n",
    "    for name, wiki in page_Directory.items():\n",
    "        print(name)\n",
    "        link_Directory[name].append('***' + wiki)\n",
    "    return link_Directory\n",
    "    "
   ]
  },
  {
   "cell_type": "code",
   "execution_count": 193,
   "id": "47169994",
   "metadata": {},
   "outputs": [
    {
     "name": "stdout",
     "output_type": "stream",
     "text": [
      "Abomination\n",
      "Absorbing Man\n"
     ]
    }
   ],
   "source": [
    "# adding pages content for later NLP \n",
    "name_nodeLinks = connectLinksPages (name_nodeLinks, wiki_responses_pages)"
   ]
  },
  {
   "cell_type": "code",
   "execution_count": 196,
   "id": "4d7629c2",
   "metadata": {},
   "outputs": [
    {
     "name": "stdout",
     "output_type": "stream",
     "text": [
      "Karen Page\n"
     ]
    }
   ],
   "source": [
    "print(name_nodeLinks['Abomination'][1])"
   ]
  },
  {
   "cell_type": "code",
   "execution_count": 174,
   "id": "4feed270",
   "metadata": {},
   "outputs": [
    {
     "name": "stdout",
     "output_type": "stream",
     "text": [
      "***asdasdasdasdasdasdasdsa\n"
     ]
    }
   ],
   "source": [
    "print(name_nodeLinks['Abomination'][-1])"
   ]
  },
  {
   "cell_type": "markdown",
   "id": "77434f9b",
   "metadata": {},
   "source": [
    "#### Use a NetworkX DiGraph to store the network. As noted above, remember to store the properties of the nodes (i.e. from which universe they hail).\n"
   ]
  },
  {
   "cell_type": "code",
   "execution_count": 197,
   "id": "88c3fffe",
   "metadata": {},
   "outputs": [],
   "source": [
    "# IMPORTS\n",
    "import networkx as nx"
   ]
  },
  {
   "cell_type": "code",
   "execution_count": 198,
   "id": "7fdece4b",
   "metadata": {},
   "outputs": [
    {
     "data": {
      "image/png": "[encoded data removed]",
      "text/plain": [
       "<Figure size 432x288 with 1 Axes>"
      ]
     },
     "metadata": {},
     "output_type": "display_data"
    }
   ],
   "source": [
    "# G.add_node('abc', dob=1185, pob='usa', dayob='monday')\n",
    "\n",
    "G = nx.DiGraph()\n",
    "\n",
    "for name,connection in marvel_name_nodeLinks.items():\n",
    "    G.add_node(name, universe = 'marvel')\n",
    "\n",
    "nx.draw(G)"
   ]
  }
 ],
 "metadata": {
  "kernelspec": {
   "display_name": "Python 3 (ipykernel)",
   "language": "python",
   "name": "python3"
  },
  "language_info": {
   "codemirror_mode": {
    "name": "ipython",
    "version": 3
   },
   "file_extension": ".py",
   "mimetype": "text/x-python",
   "name": "python",
   "nbconvert_exporter": "python",
   "pygments_lexer": "ipython3",
   "version": "3.9.12"
  }
 },
 "nbformat": 4,
 "nbformat_minor": 5
}
