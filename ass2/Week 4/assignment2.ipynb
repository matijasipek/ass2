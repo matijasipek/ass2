{
 "cells": [
  {
   "cell_type": "markdown",
   "id": "1ae9bd59",
   "metadata": {},
   "source": [
    "# Assignment 2\n"
   ]
  },
  {
   "cell_type": "code",
   "execution_count": 1,
   "id": "f559434e",
   "metadata": {},
   "outputs": [],
   "source": [
    "import pickle\n",
    "import pandas as pd\n",
    "import urllib.request\n",
    "import json\n",
    "import math \n",
    "import ast\n",
    "import re\n",
    "from itertools import islice\n",
    "from urllib.parse import quote"
   ]
  },
  {
   "cell_type": "markdown",
   "id": "9da35a04",
   "metadata": {},
   "source": [
    "### Data"
   ]
  },
  {
   "cell_type": "code",
   "execution_count": 2,
   "id": "0941c308",
   "metadata": {},
   "outputs": [],
   "source": [
    "# 1. Load names/wiki links dictionary\n",
    "def extractDataFiles(filename):\n",
    "    marvel = pd.read_csv(filename +\".csv\")\n",
    "    marvel_wikilinks = marvel.loc[:, 'WikiLink']\n",
    "    marvel_characters = marvel_wikilinks[marvel_wikilinks.notna()].to_numpy()\n",
    "\n",
    "    all_marvel = {}\n",
    "\n",
    "    for name in marvel_characters:\n",
    "        character = name.replace(\" \", \"_\")\n",
    "        all_marvel[character] = character\n",
    "\n",
    "    return all_marvel"
   ]
  },
  {
   "cell_type": "code",
   "execution_count": 3,
   "id": "0b48c508",
   "metadata": {},
   "outputs": [],
   "source": [
    "# 1. calling the functions\n",
    "marvel = extractDataFiles('marvel')\n",
    "dc = extractDataFiles('dc')"
   ]
  },
  {
   "cell_type": "code",
   "execution_count": 4,
   "id": "b5824d4d",
   "metadata": {},
   "outputs": [
    {
     "name": "stdout",
     "output_type": "stream",
     "text": [
      "518\n",
      "1785\n"
     ]
    }
   ],
   "source": [
    "print(len(dc))\n",
    "print(len(marvel))"
   ]
  },
  {
   "cell_type": "code",
   "execution_count": 5,
   "id": "071e97da",
   "metadata": {},
   "outputs": [],
   "source": [
    "# 3. create URL with given character_wiki_link\n",
    "# @returns NAME-> URL dict\n",
    "def createURLs(data_dir): \n",
    "    \n",
    "    url_query_list = {}\n",
    "    \n",
    "    for name,wiki in data_dir.items():        \n",
    "        baseurl = \"https://en.wikipedia.org/w/api.php?\"\n",
    "        action = \"action=query\"\n",
    "        title = \"titles=\" + wiki\n",
    "        content = \"prop=revisions&rvprop=content\"\n",
    "        only_links = \"prop=links&pllimit=max\"\n",
    "        dataformat =\"format=json\"\n",
    "        \n",
    "        query = \"{}{}&{}&{}&{}&{}\".format(baseurl, action, content, title,only_links, dataformat)\n",
    "        url_query_list[name] = query\n",
    "        \n",
    "    \n",
    "    return url_query_list"
   ]
  },
  {
   "cell_type": "code",
   "execution_count": 6,
   "id": "a884195c",
   "metadata": {},
   "outputs": [],
   "source": [
    "DC_url_query_directory_Links = createURLs(dc)\n",
    "marvel_url_query_directory_Links = createURLs(marvel)"
   ]
  },
  {
   "cell_type": "code",
   "execution_count": 7,
   "id": "38bfc33e",
   "metadata": {},
   "outputs": [
    {
     "name": "stdout",
     "output_type": "stream",
     "text": [
      "518\n",
      "1785\n"
     ]
    }
   ],
   "source": [
    "print(len(DC_url_query_directory_Links))\n",
    "print(len(marvel_url_query_directory_Links))"
   ]
  },
  {
   "cell_type": "code",
   "execution_count": 8,
   "id": "b086d4de",
   "metadata": {},
   "outputs": [],
   "source": [
    "# 3.1 create URL with given character_wiki_link\n",
    "# @returns NAME-> URL dict\n",
    "def createURLsPages(data_dir): \n",
    "    \n",
    "    url_query_list = {}\n",
    "    \n",
    "    for name,wiki in data_dir.items():        \n",
    "        baseurl = \"https://en.wikipedia.org/w/api.php?\"\n",
    "        action = \"action=query\"\n",
    "        title = \"titles=\" + wiki\n",
    "        content = \"prop=revisions&rvprop=content\"\n",
    "        only_links = \"&pllimit=max\"\n",
    "        dataformat =\"format=json\"\n",
    "        \n",
    "        query = \"{}{}&{}&{}&{}&{}\".format(baseurl, action, content, title,only_links, dataformat)\n",
    "        url_query_list[name] = query\n",
    "        \n",
    "    \n",
    "    return url_query_list"
   ]
  },
  {
   "cell_type": "code",
   "execution_count": 9,
   "id": "d16b0e70",
   "metadata": {},
   "outputs": [],
   "source": [
    "marvel_url_query_directory_pages = createURLsPages(marvel)\n",
    "DC_url_query_directory_pages = createURLsPages(dc)"
   ]
  },
  {
   "cell_type": "code",
   "execution_count": 10,
   "id": "8fa47c91",
   "metadata": {},
   "outputs": [
    {
     "name": "stdout",
     "output_type": "stream",
     "text": [
      "518\n"
     ]
    }
   ],
   "source": [
    "\n",
    "print(len(DC_url_query_directory_pages))\n"
   ]
  },
  {
   "cell_type": "code",
   "execution_count": 11,
   "id": "cfe8f4e1",
   "metadata": {
    "scrolled": true
   },
   "outputs": [],
   "source": [
    "# 4. Send request\n",
    "\n",
    "def sendWikiRequests(url_list):\n",
    "    response_wiki_dir = {}\n",
    "\n",
    "    for name,url in url_list.items():\n",
    "        try:\n",
    "            wikiresponse = urllib.request.urlopen(url)\n",
    "            wikidata = wikiresponse.read()\n",
    "            wikitext = wikidata.decode('utf-8')\n",
    "        \n",
    "            wiki_json = json.loads(wikitext)\n",
    "            response_wiki_dir[name] = wiki_json\n",
    "        except:\n",
    "            pass\n",
    "        \n",
    "    return response_wiki_dir"
   ]
  },
  {
   "cell_type": "code",
   "execution_count": 12,
   "id": "f9e8138a",
   "metadata": {
    "pycharm": {
     "is_executing": true
    }
   },
   "outputs": [],
   "source": [
    "DC_wiki_json_responses = sendWikiRequests(DC_url_query_directory_Links)\n",
    "marvel_wiki_json_responses = sendWikiRequests(marvel_url_query_directory_Links)"
   ]
  },
  {
   "cell_type": "code",
   "execution_count": 13,
   "id": "74aa3199",
   "metadata": {
    "pycharm": {
     "is_executing": true
    }
   },
   "outputs": [],
   "source": [
    "marvel_wiki_responses_pages = sendWikiRequests(marvel_url_query_directory_pages)\n",
    "dc_wiki_responses_pages = sendWikiRequests(DC_url_query_directory_pages)"
   ]
  },
  {
   "cell_type": "code",
   "execution_count": 14,
   "id": "1f909d4f",
   "metadata": {},
   "outputs": [],
   "source": [
    "def connectLinksPages(link_Directory,page_Directory):\n",
    "    full_dict = {}\n",
    "    \n",
    "    for name, wiki in link_Directory.items():\n",
    "        links = str(wiki)        \n",
    "        pages = str(page_Directory[name])\n",
    "        full = links + '***' + pages\n",
    "        full_dict[name] = full\n",
    "    return full_dict"
   ]
  },
  {
   "cell_type": "code",
   "execution_count": 15,
   "id": "f5a65f32",
   "metadata": {
    "pycharm": {
     "is_executing": true
    },
    "scrolled": false
   },
   "outputs": [],
   "source": [
    "dcFUll = connectLinksPages(DC_wiki_json_responses, dc_wiki_responses_pages) "
   ]
  },
  {
   "cell_type": "code",
   "execution_count": 16,
   "id": "9936b020",
   "metadata": {
    "pycharm": {
     "is_executing": true
    }
   },
   "outputs": [],
   "source": [
    "marvelFull = connectLinksPages(marvel_wiki_json_responses, marvel_wiki_responses_pages) "
   ]
  },
  {
   "cell_type": "code",
   "execution_count": 17,
   "id": "4cb45c0a",
   "metadata": {
    "pycharm": {
     "is_executing": true
    }
   },
   "outputs": [],
   "source": [
    "# Save to file\n",
    "import os.path\n",
    "\n",
    "def saveWikiJsonFiles(name_wiki,universe):\n",
    "    for name,wiki in name_wiki.items():\n",
    "        \n",
    "        save_path = str(universe)+'/'\n",
    "        name = name.replace('|','')\n",
    "        completeName = os.path.join(save_path, name+\".txt\")      \n",
    "        try:\n",
    "            with open(completeName, \"w\") as text_file:\n",
    "                    text_file.write(str(wiki))\n",
    "        except:\n",
    "            pass        "
   ]
  },
  {
   "cell_type": "code",
   "execution_count": 18,
   "id": "4a1c2298",
   "metadata": {
    "pycharm": {
     "is_executing": true
    }
   },
   "outputs": [],
   "source": [
    "saveWikiJsonFiles(marvelFull, 'marvel')"
   ]
  },
  {
   "cell_type": "code",
   "execution_count": 19,
   "id": "0fc3b88b",
   "metadata": {
    "pycharm": {
     "is_executing": true
    }
   },
   "outputs": [],
   "source": [
    "saveWikiJsonFiles(dcFUll, 'dc')"
   ]
  },
  {
   "cell_type": "code",
   "execution_count": 20,
   "id": "f322f474",
   "metadata": {
    "pycharm": {
     "is_executing": true
    }
   },
   "outputs": [],
   "source": [
    "def readWikiJsonFiles(universe):\n",
    "    \n",
    "    name_wiki_json = {}\n",
    "    \n",
    "    for name in os.listdir(universe):\n",
    "        complete_name = os.path.join(universe, name)\n",
    "        try:\n",
    "            with open(complete_name, \"r\") as character_file:\n",
    "                f = character_file.read()\n",
    "                name_wiki_json[name] = json.loads(json.dumps(f))\n",
    "        except:\n",
    "            pass\n",
    "#             print(\"{} failed to be read.\".format(complete_name))\n",
    "    \n",
    "    return name_wiki_json\n"
   ]
  },
  {
   "cell_type": "code",
   "execution_count": 21,
   "id": "015aafe4",
   "metadata": {
    "pycharm": {
     "is_executing": true
    }
   },
   "outputs": [],
   "source": [
    "DC_name_wiki = readWikiJsonFiles('dc')\n",
    "marvel_name_wiki = readWikiJsonFiles('marvel')"
   ]
  },
  {
   "cell_type": "code",
   "execution_count": 22,
   "id": "d25a5d61",
   "metadata": {
    "pycharm": {
     "is_executing": true
    }
   },
   "outputs": [],
   "source": [
    "# preprocessing full pages / links\n",
    "def splitLinksPages(text_file_list):\n",
    "    \n",
    "    name_wiki_dict = {}\n",
    "    \n",
    "    for name, wiki in text_file_list.items():\n",
    "        x = wiki.split(\"***\")    \n",
    "        name_wiki_dict[name] = x\n",
    "    \n",
    "    return name_wiki_dict"
   ]
  },
  {
   "cell_type": "code",
   "execution_count": 23,
   "id": "e8bc37f9",
   "metadata": {
    "pycharm": {
     "is_executing": true
    }
   },
   "outputs": [],
   "source": [
    "DC_name_wiki_processed = splitLinksPages(DC_name_wiki)\n",
    "marvel_name_wiki_processed = splitLinksPages(marvel_name_wiki)\n"
   ]
  },
  {
   "cell_type": "code",
   "execution_count": 24,
   "id": "dc7d65c3",
   "metadata": {
    "pycharm": {
     "is_executing": true
    }
   },
   "outputs": [
    {
     "name": "stdout",
     "output_type": "stream",
     "text": [
      "before clean  454\n",
      "before clean2  1754\n"
     ]
    }
   ],
   "source": [
    "beforeClean = len(DC_name_wiki_processed)\n",
    "beforeClean2 = len(marvel_name_wiki_processed)\n",
    "\n",
    "print('before clean ' , beforeClean) # le nomber is OKE based on the CSV provided\n",
    "print('before clean2 ' , beforeClean2) # le nomber is OKE based on the CSV provided"
   ]
  },
  {
   "cell_type": "code",
   "execution_count": 25,
   "id": "ebacfbe0",
   "metadata": {
    "pycharm": {
     "is_executing": true
    }
   },
   "outputs": [],
   "source": [
    "\n",
    "# 5. extractLinks for each title,\n",
    "# @return array of names(links) to other pages\n",
    "def extractNodeNeighbors(directory):\n",
    "    \n",
    "    linkList = []\n",
    "    \n",
    "    for i in range(len(directory)):\n",
    "        ns = directory[i]['ns']\n",
    "        if(int(ns) != 0):\n",
    "            break\n",
    "        else:\n",
    "            title = directory[i]['title']\n",
    "            linkList.append(title)\n",
    "    \n",
    "    return linkList\n",
    "\n",
    "# 5.1 Check if site is redirect\n",
    "def checkIfRedirect(directory):\n",
    "    \n",
    "    for i in range(len(directory)):\n",
    "        ns = directory[i]['ns']\n",
    "        if(int(ns) == 4):\n",
    "            title = directory[i]['title']\n",
    "            if \"redirect\" in title: \n",
    "                print('redirect')\n",
    "                return 0\n",
    "            else:\n",
    "                return 1\n",
    "        else:\n",
    "            return 1\n",
    "\n",
    "def wiki_json_preprocessing(directory):\n",
    "    \n",
    "    name_neighbors = {}\n",
    "    \n",
    "    for name,value_json in directory.items():\n",
    "        try:\n",
    "            value_json = value_json[0]\n",
    "            value_json = ast.literal_eval(value_json)\n",
    "        except:\n",
    "            continue\n",
    "        non_unique = value_json['query']['pages'].keys()\n",
    "        non_unique = next(iter(non_unique))\n",
    "        \n",
    "        try:    \n",
    "            link_dir = value_json['query']['pages'][non_unique]['links']\n",
    "        except:\n",
    "            continue\n",
    "        #check for redirect\n",
    "        \n",
    "        try:\n",
    "            if(checkIfRedirect(link_dir) == 0):\n",
    "                print(directory[name] + ' DELETED')\n",
    "                del directory[name]                \n",
    "                continue\n",
    "        except:\n",
    "            pass\n",
    "        else:\n",
    "            node_neighbors = extractNodeNeighbors(link_dir)\n",
    "                \n",
    "        name_neighbors[name] = node_neighbors\n",
    "        \n",
    "    return name_neighbors      \n"
   ]
  },
  {
   "cell_type": "code",
   "execution_count": 26,
   "id": "c853b752",
   "metadata": {
    "pycharm": {
     "is_executing": true
    }
   },
   "outputs": [],
   "source": [
    "marvel_name_nodeLinks = wiki_json_preprocessing(marvel_name_wiki_processed)\n",
    "DC_name_nodeLinks = wiki_json_preprocessing(DC_name_wiki_processed)"
   ]
  },
  {
   "cell_type": "code",
   "execution_count": 27,
   "id": "3a237584",
   "metadata": {
    "pycharm": {
     "is_executing": true
    }
   },
   "outputs": [
    {
     "name": "stdout",
     "output_type": "stream",
     "text": [
      "after clean  435\n",
      "after clean2  1744\n",
      "difference  19\n",
      "difference2  10\n"
     ]
    }
   ],
   "source": [
    "\n",
    "print('after clean ', len(DC_name_nodeLinks))\n",
    "print('after clean2 ', len(marvel_name_nodeLinks))\n",
    "\n",
    "\n",
    "print('difference ', beforeClean - len(DC_name_nodeLinks))\n",
    "print('difference2 ', beforeClean2 - len(marvel_name_nodeLinks))\n"
   ]
  },
  {
   "cell_type": "markdown",
   "id": "7af2f4df",
   "metadata": {},
   "source": [
    "**For each link you extract, check if the target is a character from your DC/Marvel lists. If yes, keep it. If no, discard it.**"
   ]
  },
  {
   "cell_type": "code",
   "execution_count": 28,
   "id": "73aa48e4",
   "metadata": {
    "pycharm": {
     "is_executing": true
    }
   },
   "outputs": [],
   "source": [
    "def checkFromTargetUniverse(character_nodes, universe):\n",
    "    return list(set(character_nodes) & set(universe))"
   ]
  },
  {
   "cell_type": "code",
   "execution_count": 29,
   "id": "7d16f8a7",
   "metadata": {
    "pycharm": {
     "is_executing": true
    }
   },
   "outputs": [],
   "source": [
    "# Marvel check\n",
    "\n",
    "\n",
    "def removeRandomCharacters(name_links): \n",
    "    summ = 0\n",
    "    \n",
    "    for name, links in name_links.items():\n",
    "        x_dc = checkFromTargetUniverse(links, dc)\n",
    "        x_marvel = checkFromTargetUniverse(links, marvel)\n",
    "        \n",
    "        x_final = list(set().union(x_dc, x_marvel))\n",
    "        summ += len(x_final)\n",
    "        name_links[name] = x_final\n",
    "    \n",
    "    print('key -> value ::: sum of all edges in the values field ', summ)\n",
    "    \n",
    "    return name_links\n",
    "\n"
   ]
  },
  {
   "cell_type": "code",
   "execution_count": 30,
   "id": "967c9518",
   "metadata": {
    "pycharm": {
     "is_executing": true
    }
   },
   "outputs": [
    {
     "name": "stdout",
     "output_type": "stream",
     "text": [
      "marvel\n",
      "key -> value ::: sum of all edges in the values field  22257\n",
      "marvel nodes number :  1744\n",
      "\n",
      "dc\n",
      "key -> value ::: sum of all edges in the values field  6494\n",
      "DC nodes number  435\n"
     ]
    }
   ],
   "source": [
    "print('marvel')\n",
    "marvel_name_nodeLinks = removeRandomCharacters(marvel_name_nodeLinks)\n",
    "print('marvel nodes number : ', len((marvel_name_nodeLinks)))\n",
    "\n",
    "print()\n",
    "print('dc')\n",
    "DC_name_nodeLinks = removeRandomCharacters(DC_name_nodeLinks)\n",
    "print('DC nodes number ', len((DC_name_nodeLinks)))\n"
   ]
  },
  {
   "cell_type": "markdown",
   "id": "504391e9",
   "metadata": {},
   "source": [
    "#### Use a NetworkX DiGraph to store the network. As noted above, remember to store the properties of the nodes (i.e. from which universe they hail).\n"
   ]
  },
  {
   "cell_type": "code",
   "execution_count": 31,
   "id": "d0102f56",
   "metadata": {
    "pycharm": {
     "is_executing": true
    }
   },
   "outputs": [],
   "source": [
    "# IMPORTS\n",
    "import networkx as nx"
   ]
  },
  {
   "cell_type": "code",
   "execution_count": 32,
   "id": "46575f64",
   "metadata": {
    "pycharm": {
     "is_executing": true
    }
   },
   "outputs": [],
   "source": [
    "# G.add_node('abc', dob=1185, pob='usa', dayob='monday')\n",
    "\n",
    "G = nx.DiGraph()\n",
    "\n",
    "#marvel\n",
    "for name in marvel_name_nodeLinks.keys():\n",
    "    G.add_node(name, universe = 'marvel')\n",
    "\n",
    "#dc\n",
    "for name in DC_name_nodeLinks.keys():\n",
    "    G.add_node(name, universe = 'dc')\n",
    "\n",
    "for name, connections in marvel_name_nodeLinks.items(): \n",
    "    for i in range(len(connections)):\n",
    "        G.add_edge(name, connections[i])\n",
    "        \n",
    "for name, connections in DC_name_nodeLinks.items(): \n",
    "    for i in range(len(connections)):\n",
    "        G.add_edge(name, connections[i])"
   ]
  },
  {
   "cell_type": "markdown",
   "id": "d6d1f71a",
   "metadata": {},
   "source": [
    "### Basic Stats"
   ]
  },
  {
   "cell_type": "code",
   "execution_count": 69,
   "id": "42bf99a9",
   "metadata": {
    "pycharm": {
     "is_executing": true
    }
   },
   "outputs": [
    {
     "name": "stdout",
     "output_type": "stream",
     "text": [
      "Number of nodes:  2472\n",
      "Number of edges:  28751\n",
      "In-degree average:  11.630663430420713\n",
      "In-degree mode:  0\n",
      "In-degree median:  0.0\n",
      "In-degree min:  0\n",
      "In-degree max:  564\n",
      "\n",
      "Out-degree average:  11.630663430420713\n",
      "Out-degree mode:  0\n",
      "Out-degree median:  4.0\n",
      "Out-degree min:  0\n",
      "Out-degree max:  54\n"
     ]
    }
   ],
   "source": [
    "import numpy as np\n",
    "from statistics import mode # numpy doesn't have mode and median API :(\n",
    "\n",
    "# Get basic stats of the network\n",
    "print(\"Number of nodes: \", G.number_of_nodes())\n",
    "print(\"Number of edges: \", G.number_of_edges())\n",
    "\n",
    "# In degrees\n",
    "degree_sequence = sorted([d for n, d in G.in_degree()], reverse=True)\n",
    "\n",
    "print(\"In-degree average: \", np.average(degree_sequence))\n",
    "print(\"In-degree mode: \", mode(degree_sequence))\n",
    "print(\"In-degree median: \", np.median(degree_sequence))\n",
    "print(\"In-degree min: \", np.min(degree_sequence))\n",
    "print(\"In-degree max: \", np.max(degree_sequence))\n",
    "print()\n",
    "\n",
    "# Out degrees\n",
    "degree_sequence = sorted([d for n, d in G.out_degree()], reverse=True)\n",
    "print(\"Out-degree average: \", np.average(degree_sequence))\n",
    "print(\"Out-degree mode: \", mode(degree_sequence))\n",
    "print(\"Out-degree median: \", np.median(degree_sequence))\n",
    "print(\"Out-degree min: \", np.min(degree_sequence))\n",
    "print(\"Out-degree max: \", np.max(degree_sequence))"
   ]
  },
  {
   "cell_type": "markdown",
   "id": "e1ea1246",
   "metadata": {},
   "source": [
    "Our network consists of 2472 nodes, and 28751 edges. Considering the in-degree distribution, the average in-degree is 11.63, both the mode and median are equal to 0, the minimum is 0, and the maximum is 564. It's quite interesting to see that majority of the nodes have an in-degree of 0, meaning that no other character refers to them, and the maximum is relatively high, which suggests a power law distribution. As for the out-degree, the average is exactly the same, 11.63, the mode is 0, the median is 4.0, the minimum is 0 and the maximum is 54. From this, we can see that the out-degree distribution is somewhat more flat -- in a way that the maximum is much smaller than that of in-degree, and the median is 4.0, as opposed to 0."
   ]
  },
  {
   "cell_type": "code",
   "execution_count": 133,
   "id": "ab0625e7",
   "metadata": {
    "pycharm": {
     "is_executing": true
    }
   },
   "outputs": [
    {
     "name": "stderr",
     "output_type": "stream",
     "text": [
      "Values less than or equal to 0 in data. Throwing out 0 or negative values\n",
      "/Users/kar/opt/anaconda3/lib/python3.8/site-packages/powerlaw.py:1170: RuntimeWarning: invalid value encountered in log\n",
      "  return 1 + len(data)/sum(log(data / (self.xmin)))\n"
     ]
    },
    {
     "data": {
      "image/png": "[encoded data removed]",
      "text/plain": [
       "<Figure size 432x288 with 1 Axes>"
      ]
     },
     "metadata": {
      "needs_background": "light"
     },
     "output_type": "display_data"
    },
    {
     "data": {
      "image/png": "[encoded data removed]",
      "text/plain": [
       "<Figure size 432x288 with 1 Axes>"
      ]
     },
     "metadata": {
      "needs_background": "light"
     },
     "output_type": "display_data"
    }
   ],
   "source": [
    "# Plotting in-degree distribution\n",
    "# !pip install powerlaw\n",
    "import powerlaw\n",
    "import collections\n",
    "import matplotlib.pyplot as plt\n",
    "import numpy as np\n",
    "\n",
    "# In degrees\n",
    "degree_sequence = sorted([d for n, d in G.in_degree()], reverse=True)\n",
    "degree_count = collections.Counter(degree_sequence)\n",
    "in_degrees, in_counts = zip(*degree_count.items())\n",
    "\n",
    "# Calculate the exponent of the degree distribution\n",
    "fit = powerlaw.Fit(in_degrees, xmin=-500, xmax=20000)\n",
    "\n",
    "fig, norm_ax = plt.subplots()\n",
    "norm_ax.plot(in_degrees, in_counts, 'ro')\n",
    "fig.text(.2, .002, \"Fig 1: Distribution of the in-degree sequence.\")\n",
    "plt.show()\n",
    "\n",
    "fig, loglog_ax = plt.subplots()\n",
    "loglog_ax.loglog(in_degrees, in_counts, 'ro')\n",
    "fit.plot_pdf(color= 'b', linestyle='--', ax=loglog_ax)\n",
    "fig.text(.2, .002, \"Fig 2: Log-logistic distribution of the in-degree sequence.\")\n",
    "plt.show()"
   ]
  },
  {
   "cell_type": "markdown",
   "id": "b3710bf8",
   "metadata": {},
   "source": [
    "The majority of the nodes have a degree of 0, while the few most-popular nodes have a very highe degree, as can be seen Fig 1. This resembles a scale free distribution, therefore, for the sake of better visualization, we plotted it as a loglog graph, along with the exponent of the degree distribution calculated using the powerlaw package, see Fig 2. These visualizations provide a useful insight into the network: We can see that a lot of characters refer to a very popular character -- such as Spider-Man -- while no other nodes refer to them."
   ]
  },
  {
   "cell_type": "code",
   "execution_count": 120,
   "id": "d693f130",
   "metadata": {},
   "outputs": [
    {
     "name": "stderr",
     "output_type": "stream",
     "text": [
      "Values less than or equal to 0 in data. Throwing out 0 or negative values\n",
      "/Users/kar/opt/anaconda3/lib/python3.8/site-packages/powerlaw.py:1170: RuntimeWarning: invalid value encountered in log\n",
      "  return 1 + len(data)/sum(log(data / (self.xmin)))\n"
     ]
    },
    {
     "data": {
      "image/png": "[encoded data removed]",
      "text/plain": [
       "<Figure size 432x288 with 1 Axes>"
      ]
     },
     "metadata": {
      "needs_background": "light"
     },
     "output_type": "display_data"
    }
   ],
   "source": [
    "# Plotting out-degree distribution\n",
    "\n",
    "degree_sequence = sorted([d for n, d in G.out_degree()], reverse=True)\n",
    "degree_count = collections.Counter(degree_sequence)\n",
    "out_degrees, out_counts = zip(*degree_count.items())\n",
    "\n",
    "# Calculate the exponent of the degree distribution\n",
    "fit = powerlaw.Fit(out_degrees, xmin=-1000, xmax=1000)\n",
    "\n",
    "fig, main_ax = plt.subplots()\n",
    "main_ax.loglog(out_degrees, out_counts, 'ro')\n",
    "fig.text(.2, .002, \"Log-logistic distribution of the out-degree sequence.\")\n",
    "plt.show()"
   ]
  },
  {
   "cell_type": "markdown",
   "id": "4adde0e6",
   "metadata": {},
   "source": [
    "Reflecting on the slope..."
   ]
  },
  {
   "cell_type": "code",
   "execution_count": 82,
   "id": "091c35f8",
   "metadata": {
    "pycharm": {
     "is_executing": true
    }
   },
   "outputs": [],
   "source": [
    "# Plotting the network using ForceAtlas algorithm\n",
    "\n",
    "# First, let's extract the giant connected component: it will be more interesting to visualize\n",
    "\n",
    "subgraphs = [G.subgraph(c) for c in nx.weakly_connected_components(G)]\n",
    "GCC = subgraphs[0]\n",
    "for subgraph in subgraphs[1:]:\n",
    "    if subgraph.number_of_nodes() > GCC.number_of_nodes():\n",
    "        GCC = subgraph\n",
    "        \n",
    "GCC_undirected = GCC.to_undirected()\n",
    "\n",
    "# Universe attribute\n",
    "attributes_dict = {}\n",
    "for i in marvel_name_nodeLinks.keys():\n",
    "    attributes_dict[i] = \"marvel\"\n",
    "\n",
    "for i in DC_name_nodeLinks.keys():\n",
    "    attributes_dict[i] = \"dc\"\n",
    "\n",
    "nx.set_node_attributes(GCC_undirected, attributes_dict, name=\"universe\")"
   ]
  },
  {
   "cell_type": "code",
   "execution_count": 90,
   "id": "1b4fcf5b",
   "metadata": {
    "pycharm": {
     "is_executing": true
    }
   },
   "outputs": [
    {
     "name": "stderr",
     "output_type": "stream",
     "text": [
      "100%|██████████| 2000/2000 [00:33<00:00, 60.31it/s]"
     ]
    },
    {
     "name": "stdout",
     "output_type": "stream",
     "text": [
      "BarnesHut Approximation  took  13.00  seconds\n",
      "Repulsion forces  took  18.14  seconds\n",
      "Gravitational forces  took  0.17  seconds\n",
      "Attraction forces  took  0.48  seconds\n",
      "AdjustSpeedAndApplyForces step  took  0.64  seconds\n"
     ]
    },
    {
     "name": "stderr",
     "output_type": "stream",
     "text": [
      "\n"
     ]
    }
   ],
   "source": [
    "# !pip install fa2\n",
    "from fa2 import ForceAtlas2\n",
    "\n",
    "forceatlas2 = ForceAtlas2(\n",
    "                        # Behavior alternatives\n",
    "                        outboundAttractionDistribution=True,  # Dissuade hubs\n",
    "                        linLogMode=False,  # NOT IMPLEMENTED\n",
    "                        adjustSizes=False,  # Prevent overlap (NOT IMPLEMENTED)\n",
    "                        edgeWeightInfluence=1.0,\n",
    "\n",
    "                        # Performance\n",
    "                        jitterTolerance=1.0,  # Tolerance\n",
    "                        barnesHutOptimize=True,\n",
    "                        barnesHutTheta=1.2,\n",
    "                        multiThreaded=False,  # NOT IMPLEMENTED\n",
    "\n",
    "                        # Tuning\n",
    "                        scalingRatio=2.0,\n",
    "                        strongGravityMode=False,\n",
    "                        gravity=1.0,\n",
    "\n",
    "                        # Log\n",
    "                        verbose=True)\n",
    "\n",
    "positions = forceatlas2.forceatlas2_networkx_layout(GCC_undirected, pos=None, iterations=2000)"
   ]
  },
  {
   "cell_type": "code",
   "execution_count": 108,
   "id": "ca3d521b",
   "metadata": {
    "pycharm": {
     "is_executing": true
    }
   },
   "outputs": [
    {
     "data": {
      "image/png": "[encoded data removed]",
      "text/plain": [
       "<Figure size 432x288 with 1 Axes>"
      ]
     },
     "metadata": {},
     "output_type": "display_data"
    }
   ],
   "source": [
    "import collections\n",
    "\n",
    "node_colors = []\n",
    "\n",
    "for node in list(GCC_undirected.nodes()):\n",
    "    if node in DC_name_nodeLinks:\n",
    "        node_color = \"#FF0000\"\n",
    "    else:\n",
    "        node_color = \"#FFFF00\"\n",
    "    node_colors.append(node_color)\n",
    "\n",
    "degree_sequence = [d for n, d in GCC_undirected.degree()]\n",
    "degree_count = collections.Counter(degree_sequence)\n",
    "\n",
    "offset = 10\n",
    "scale = 200\n",
    "degree_range = float(max(degree_sequence) - min(degree_sequence))\n",
    "node_sizes = [offset + scale * degree / degree_range for degree in degree_sequence]\n",
    "\n",
    "fig = plt.figure()\n",
    "nx.draw(GCC_undirected, pos=positions, node_size=node_sizes, node_color=node_colors, width=0.15, edgecolors=\"#000000\", linewidths=1)\n",
    "caption = \"\"\"\n",
    "Visualization of the network; The yellow dots represent the Marvel links, while the red dots represent the DC links. \n",
    "The size of the dot corresponds to the amount of the node's degrees.\n",
    "\"\"\"\n",
    "fig.text(0.01, 0.0001, caption)\n",
    "plt.show()"
   ]
  },
  {
   "cell_type": "markdown",
   "id": "b98b209f",
   "metadata": {},
   "source": [
    "### Communities"
   ]
  },
  {
   "cell_type": "markdown",
   "id": "a2a188d3",
   "metadata": {},
   "source": [
    "### Sentiment"
   ]
  },
  {
   "cell_type": "code",
   "execution_count": null,
   "id": "a5102d3e",
   "metadata": {},
   "outputs": [],
   "source": []
  }
 ],
 "metadata": {
  "kernelspec": {
   "display_name": "Python 3",
   "language": "python",
   "name": "python3"
  },
  "language_info": {
   "codemirror_mode": {
    "name": "ipython",
    "version": 3
   },
   "file_extension": ".py",
   "mimetype": "text/x-python",
   "name": "python",
   "nbconvert_exporter": "python",
   "pygments_lexer": "ipython3",
   "version": "3.8.8"
  }
 },
 "nbformat": 4,
 "nbformat_minor": 5
}
